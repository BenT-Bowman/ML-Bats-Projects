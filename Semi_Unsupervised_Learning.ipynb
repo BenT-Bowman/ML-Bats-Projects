{
  "cells": [
    {
      "cell_type": "code",
      "execution_count": null,
      "metadata": {
        "id": "_8YdnYnvmbX-"
      },
      "outputs": [],
      "source": [
        "!unzip \"/content/Bats300.zip\""
      ]
    },
    {
      "cell_type": "markdown",
      "source": [
        "# Imports"
      ],
      "metadata": {
        "id": "C3HEuB327hqx"
      }
    },
    {
      "cell_type": "code",
      "source": [
        "from sklearn.datasets import load_files\n",
        "from sklearn.model_selection import train_test_split\n",
        "from sklearn.linear_model import LogisticRegression\n",
        "\n",
        "from sklearn.pipeline import Pipeline\n",
        "\n",
        "import io\n",
        "import numpy as np\n",
        "from PIL import Image\n"
      ],
      "metadata": {
        "id": "OXSv-t4Y7rVh"
      },
      "execution_count": null,
      "outputs": []
    },
    {
      "cell_type": "code",
      "source": [
        "from numpy import unique\n",
        "from numpy import where\n",
        "from matplotlib import pyplot\n",
        "from sklearn.datasets import make_classification\n",
        "from sklearn.cluster import AffinityPropagation\n",
        "from sklearn.cluster import KMeans\n",
        "from matplotlib import pyplot as plt\n",
        "\n",
        "from sklearn.metrics import accuracy_score"
      ],
      "metadata": {
        "id": "2ywnrbmf7jnS"
      },
      "execution_count": null,
      "outputs": []
    },
    {
      "cell_type": "code",
      "source": [
        "from sklearn.cluster import MeanShift"
      ],
      "metadata": {
        "id": "wMOm5Fs7l_Zx"
      },
      "execution_count": null,
      "outputs": []
    },
    {
      "cell_type": "markdown",
      "metadata": {
        "id": "fkA8lu9BDIL8"
      },
      "source": [
        "**Preprocessing (Dimension Reduction)**"
      ]
    },
    {
      "cell_type": "code",
      "execution_count": null,
      "metadata": {
        "id": "5YsBSOHhDPMr"
      },
      "outputs": [],
      "source": [
        "\n",
        "\n",
        "dataset_path = \"/content/Bats300\"\n",
        "\n",
        "data = load_files(dataset_path, shuffle=True, random_state=42)\n",
        "\n",
        "X_train, X_test, y_train, y_test = train_test_split(data.data, data.target, test_size=0.2, random_state=42)\n"
      ]
    },
    {
      "cell_type": "code",
      "execution_count": null,
      "metadata": {
        "id": "33CAmbBfBaj6"
      },
      "outputs": [],
      "source": [
        "X_train = [np.asarray(Image.open(io.BytesIO(img)).convert(\"L\")).flatten() for img in X_train]\n",
        "X_test = [np.asarray(Image.open(io.BytesIO(img)).convert(\"L\")).flatten() for img in X_test]"
      ]
    },
    {
      "cell_type": "markdown",
      "metadata": {
        "id": "x8y9RBOPEQfm"
      },
      "source": [
        " **K-Means Semi-Supervised Learning**"
      ]
    },
    {
      "cell_type": "code",
      "execution_count": null,
      "metadata": {
        "id": "_A-lPM9ZEUaO"
      },
      "outputs": [],
      "source": [
        "#if you only have 50 labeled instances\n",
        "n_labeled = 50"
      ]
    },
    {
      "cell_type": "code",
      "execution_count": null,
      "metadata": {
        "id": "RtsISjEgElW0",
        "colab": {
          "base_uri": "https://localhost:8080/",
          "height": 445
        },
        "outputId": "c4728d9b-573f-4784-905e-26b4caf148c4"
      },
      "outputs": [
        {
          "output_type": "stream",
          "name": "stderr",
          "text": [
            "/usr/local/lib/python3.10/dist-packages/sklearn/cluster/_kmeans.py:870: FutureWarning: The default value of `n_init` will change from 10 to 'auto' in 1.4. Set the value of `n_init` explicitly to suppress the warning\n",
            "  warnings.warn(\n"
          ]
        },
        {
          "output_type": "error",
          "ename": "KeyboardInterrupt",
          "evalue": "ignored",
          "traceback": [
            "\u001b[0;31m---------------------------------------------------------------------------\u001b[0m",
            "\u001b[0;31mKeyboardInterrupt\u001b[0m                         Traceback (most recent call last)",
            "\u001b[0;32m<ipython-input-23-b1052322c640>\u001b[0m in \u001b[0;36m<cell line: 2>\u001b[0;34m()\u001b[0m\n\u001b[1;32m      1\u001b[0m \u001b[0mkmeans\u001b[0m \u001b[0;34m=\u001b[0m \u001b[0mKMeans\u001b[0m\u001b[0;34m(\u001b[0m\u001b[0mn_clusters\u001b[0m\u001b[0;34m=\u001b[0m\u001b[0;36m50\u001b[0m\u001b[0;34m,\u001b[0m \u001b[0mrandom_state\u001b[0m\u001b[0;34m=\u001b[0m\u001b[0;36m42\u001b[0m\u001b[0;34m)\u001b[0m\u001b[0;34m\u001b[0m\u001b[0;34m\u001b[0m\u001b[0m\n\u001b[0;32m----> 2\u001b[0;31m \u001b[0mX_digits_dist\u001b[0m \u001b[0;34m=\u001b[0m \u001b[0mkmeans\u001b[0m\u001b[0;34m.\u001b[0m\u001b[0mfit_transform\u001b[0m\u001b[0;34m(\u001b[0m\u001b[0mX_train\u001b[0m\u001b[0;34m)\u001b[0m\u001b[0;34m\u001b[0m\u001b[0;34m\u001b[0m\u001b[0m\n\u001b[0m\u001b[1;32m      3\u001b[0m \u001b[0;34m\u001b[0m\u001b[0m\n\u001b[1;32m      4\u001b[0m \u001b[0;31m#find the representative images closest to each centroid\u001b[0m\u001b[0;34m\u001b[0m\u001b[0;34m\u001b[0m\u001b[0m\n\u001b[1;32m      5\u001b[0m \u001b[0mrepresentative_digit_idx\u001b[0m \u001b[0;34m=\u001b[0m \u001b[0mnp\u001b[0m\u001b[0;34m.\u001b[0m\u001b[0margmin\u001b[0m\u001b[0;34m(\u001b[0m\u001b[0mX_digits_dist\u001b[0m\u001b[0;34m,\u001b[0m \u001b[0maxis\u001b[0m\u001b[0;34m=\u001b[0m\u001b[0;36m0\u001b[0m\u001b[0;34m)\u001b[0m\u001b[0;34m\u001b[0m\u001b[0;34m\u001b[0m\u001b[0m\n",
            "\u001b[0;32m/usr/local/lib/python3.10/dist-packages/sklearn/utils/_set_output.py\u001b[0m in \u001b[0;36mwrapped\u001b[0;34m(self, X, *args, **kwargs)\u001b[0m\n\u001b[1;32m    138\u001b[0m     \u001b[0;34m@\u001b[0m\u001b[0mwraps\u001b[0m\u001b[0;34m(\u001b[0m\u001b[0mf\u001b[0m\u001b[0;34m)\u001b[0m\u001b[0;34m\u001b[0m\u001b[0;34m\u001b[0m\u001b[0m\n\u001b[1;32m    139\u001b[0m     \u001b[0;32mdef\u001b[0m \u001b[0mwrapped\u001b[0m\u001b[0;34m(\u001b[0m\u001b[0mself\u001b[0m\u001b[0;34m,\u001b[0m \u001b[0mX\u001b[0m\u001b[0;34m,\u001b[0m \u001b[0;34m*\u001b[0m\u001b[0margs\u001b[0m\u001b[0;34m,\u001b[0m \u001b[0;34m**\u001b[0m\u001b[0mkwargs\u001b[0m\u001b[0;34m)\u001b[0m\u001b[0;34m:\u001b[0m\u001b[0;34m\u001b[0m\u001b[0;34m\u001b[0m\u001b[0m\n\u001b[0;32m--> 140\u001b[0;31m         \u001b[0mdata_to_wrap\u001b[0m \u001b[0;34m=\u001b[0m \u001b[0mf\u001b[0m\u001b[0;34m(\u001b[0m\u001b[0mself\u001b[0m\u001b[0;34m,\u001b[0m \u001b[0mX\u001b[0m\u001b[0;34m,\u001b[0m \u001b[0;34m*\u001b[0m\u001b[0margs\u001b[0m\u001b[0;34m,\u001b[0m \u001b[0;34m**\u001b[0m\u001b[0mkwargs\u001b[0m\u001b[0;34m)\u001b[0m\u001b[0;34m\u001b[0m\u001b[0;34m\u001b[0m\u001b[0m\n\u001b[0m\u001b[1;32m    141\u001b[0m         \u001b[0;32mif\u001b[0m \u001b[0misinstance\u001b[0m\u001b[0;34m(\u001b[0m\u001b[0mdata_to_wrap\u001b[0m\u001b[0;34m,\u001b[0m \u001b[0mtuple\u001b[0m\u001b[0;34m)\u001b[0m\u001b[0;34m:\u001b[0m\u001b[0;34m\u001b[0m\u001b[0;34m\u001b[0m\u001b[0m\n\u001b[1;32m    142\u001b[0m             \u001b[0;31m# only wrap the first output for cross decomposition\u001b[0m\u001b[0;34m\u001b[0m\u001b[0;34m\u001b[0m\u001b[0m\n",
            "\u001b[0;32m/usr/local/lib/python3.10/dist-packages/sklearn/cluster/_kmeans.py\u001b[0m in \u001b[0;36mfit_transform\u001b[0;34m(self, X, y, sample_weight)\u001b[0m\n\u001b[1;32m   1091\u001b[0m             \u001b[0mX\u001b[0m \u001b[0mtransformed\u001b[0m \u001b[0;32min\u001b[0m \u001b[0mthe\u001b[0m \u001b[0mnew\u001b[0m \u001b[0mspace\u001b[0m\u001b[0;34m.\u001b[0m\u001b[0;34m\u001b[0m\u001b[0;34m\u001b[0m\u001b[0m\n\u001b[1;32m   1092\u001b[0m         \"\"\"\n\u001b[0;32m-> 1093\u001b[0;31m         \u001b[0;32mreturn\u001b[0m \u001b[0mself\u001b[0m\u001b[0;34m.\u001b[0m\u001b[0mfit\u001b[0m\u001b[0;34m(\u001b[0m\u001b[0mX\u001b[0m\u001b[0;34m,\u001b[0m \u001b[0msample_weight\u001b[0m\u001b[0;34m=\u001b[0m\u001b[0msample_weight\u001b[0m\u001b[0;34m)\u001b[0m\u001b[0;34m.\u001b[0m\u001b[0m_transform\u001b[0m\u001b[0;34m(\u001b[0m\u001b[0mX\u001b[0m\u001b[0;34m)\u001b[0m\u001b[0;34m\u001b[0m\u001b[0;34m\u001b[0m\u001b[0m\n\u001b[0m\u001b[1;32m   1094\u001b[0m \u001b[0;34m\u001b[0m\u001b[0m\n\u001b[1;32m   1095\u001b[0m     \u001b[0;32mdef\u001b[0m \u001b[0mtransform\u001b[0m\u001b[0;34m(\u001b[0m\u001b[0mself\u001b[0m\u001b[0;34m,\u001b[0m \u001b[0mX\u001b[0m\u001b[0;34m)\u001b[0m\u001b[0;34m:\u001b[0m\u001b[0;34m\u001b[0m\u001b[0;34m\u001b[0m\u001b[0m\n",
            "\u001b[0;32m/usr/local/lib/python3.10/dist-packages/sklearn/cluster/_kmeans.py\u001b[0m in \u001b[0;36mfit\u001b[0;34m(self, X, y, sample_weight)\u001b[0m\n\u001b[1;32m   1459\u001b[0m         \u001b[0;32mfor\u001b[0m \u001b[0mi\u001b[0m \u001b[0;32min\u001b[0m \u001b[0mrange\u001b[0m\u001b[0;34m(\u001b[0m\u001b[0mself\u001b[0m\u001b[0;34m.\u001b[0m\u001b[0m_n_init\u001b[0m\u001b[0;34m)\u001b[0m\u001b[0;34m:\u001b[0m\u001b[0;34m\u001b[0m\u001b[0;34m\u001b[0m\u001b[0m\n\u001b[1;32m   1460\u001b[0m             \u001b[0;31m# Initialize centers\u001b[0m\u001b[0;34m\u001b[0m\u001b[0;34m\u001b[0m\u001b[0m\n\u001b[0;32m-> 1461\u001b[0;31m             centers_init = self._init_centroids(\n\u001b[0m\u001b[1;32m   1462\u001b[0m                 \u001b[0mX\u001b[0m\u001b[0;34m,\u001b[0m \u001b[0mx_squared_norms\u001b[0m\u001b[0;34m=\u001b[0m\u001b[0mx_squared_norms\u001b[0m\u001b[0;34m,\u001b[0m \u001b[0minit\u001b[0m\u001b[0;34m=\u001b[0m\u001b[0minit\u001b[0m\u001b[0;34m,\u001b[0m \u001b[0mrandom_state\u001b[0m\u001b[0;34m=\u001b[0m\u001b[0mrandom_state\u001b[0m\u001b[0;34m\u001b[0m\u001b[0;34m\u001b[0m\u001b[0m\n\u001b[1;32m   1463\u001b[0m             )\n",
            "\u001b[0;32m/usr/local/lib/python3.10/dist-packages/sklearn/cluster/_kmeans.py\u001b[0m in \u001b[0;36m_init_centroids\u001b[0;34m(self, X, x_squared_norms, init, random_state, init_size, n_centroids)\u001b[0m\n\u001b[1;32m    987\u001b[0m \u001b[0;34m\u001b[0m\u001b[0m\n\u001b[1;32m    988\u001b[0m         \u001b[0;32mif\u001b[0m \u001b[0misinstance\u001b[0m\u001b[0;34m(\u001b[0m\u001b[0minit\u001b[0m\u001b[0;34m,\u001b[0m \u001b[0mstr\u001b[0m\u001b[0;34m)\u001b[0m \u001b[0;32mand\u001b[0m \u001b[0minit\u001b[0m \u001b[0;34m==\u001b[0m \u001b[0;34m\"k-means++\"\u001b[0m\u001b[0;34m:\u001b[0m\u001b[0;34m\u001b[0m\u001b[0;34m\u001b[0m\u001b[0m\n\u001b[0;32m--> 989\u001b[0;31m             centers, _ = _kmeans_plusplus(\n\u001b[0m\u001b[1;32m    990\u001b[0m                 \u001b[0mX\u001b[0m\u001b[0;34m,\u001b[0m\u001b[0;34m\u001b[0m\u001b[0;34m\u001b[0m\u001b[0m\n\u001b[1;32m    991\u001b[0m                 \u001b[0mn_clusters\u001b[0m\u001b[0;34m,\u001b[0m\u001b[0;34m\u001b[0m\u001b[0;34m\u001b[0m\u001b[0m\n",
            "\u001b[0;32m/usr/local/lib/python3.10/dist-packages/sklearn/cluster/_kmeans.py\u001b[0m in \u001b[0;36m_kmeans_plusplus\u001b[0;34m(X, n_clusters, x_squared_norms, random_state, n_local_trials)\u001b[0m\n\u001b[1;32m    232\u001b[0m \u001b[0;34m\u001b[0m\u001b[0m\n\u001b[1;32m    233\u001b[0m         \u001b[0;31m# Compute distances to center candidates\u001b[0m\u001b[0;34m\u001b[0m\u001b[0;34m\u001b[0m\u001b[0m\n\u001b[0;32m--> 234\u001b[0;31m         distance_to_candidates = _euclidean_distances(\n\u001b[0m\u001b[1;32m    235\u001b[0m             \u001b[0mX\u001b[0m\u001b[0;34m[\u001b[0m\u001b[0mcandidate_ids\u001b[0m\u001b[0;34m]\u001b[0m\u001b[0;34m,\u001b[0m \u001b[0mX\u001b[0m\u001b[0;34m,\u001b[0m \u001b[0mY_norm_squared\u001b[0m\u001b[0;34m=\u001b[0m\u001b[0mx_squared_norms\u001b[0m\u001b[0;34m,\u001b[0m \u001b[0msquared\u001b[0m\u001b[0;34m=\u001b[0m\u001b[0;32mTrue\u001b[0m\u001b[0;34m\u001b[0m\u001b[0;34m\u001b[0m\u001b[0m\n\u001b[1;32m    236\u001b[0m         )\n",
            "\u001b[0;32m/usr/local/lib/python3.10/dist-packages/sklearn/metrics/pairwise.py\u001b[0m in \u001b[0;36m_euclidean_distances\u001b[0;34m(X, Y, X_norm_squared, Y_norm_squared, squared)\u001b[0m\n\u001b[1;32m    367\u001b[0m     \u001b[0;32melse\u001b[0m\u001b[0;34m:\u001b[0m\u001b[0;34m\u001b[0m\u001b[0;34m\u001b[0m\u001b[0m\n\u001b[1;32m    368\u001b[0m         \u001b[0;31m# if dtype is already float64, no need to chunk and upcast\u001b[0m\u001b[0;34m\u001b[0m\u001b[0;34m\u001b[0m\u001b[0m\n\u001b[0;32m--> 369\u001b[0;31m         \u001b[0mdistances\u001b[0m \u001b[0;34m=\u001b[0m \u001b[0;34m-\u001b[0m\u001b[0;36m2\u001b[0m \u001b[0;34m*\u001b[0m \u001b[0msafe_sparse_dot\u001b[0m\u001b[0;34m(\u001b[0m\u001b[0mX\u001b[0m\u001b[0;34m,\u001b[0m \u001b[0mY\u001b[0m\u001b[0;34m.\u001b[0m\u001b[0mT\u001b[0m\u001b[0;34m,\u001b[0m \u001b[0mdense_output\u001b[0m\u001b[0;34m=\u001b[0m\u001b[0;32mTrue\u001b[0m\u001b[0;34m)\u001b[0m\u001b[0;34m\u001b[0m\u001b[0;34m\u001b[0m\u001b[0m\n\u001b[0m\u001b[1;32m    370\u001b[0m         \u001b[0mdistances\u001b[0m \u001b[0;34m+=\u001b[0m \u001b[0mXX\u001b[0m\u001b[0;34m\u001b[0m\u001b[0;34m\u001b[0m\u001b[0m\n\u001b[1;32m    371\u001b[0m         \u001b[0mdistances\u001b[0m \u001b[0;34m+=\u001b[0m \u001b[0mYY\u001b[0m\u001b[0;34m\u001b[0m\u001b[0;34m\u001b[0m\u001b[0m\n",
            "\u001b[0;32m/usr/local/lib/python3.10/dist-packages/sklearn/utils/extmath.py\u001b[0m in \u001b[0;36msafe_sparse_dot\u001b[0;34m(a, b, dense_output)\u001b[0m\n\u001b[1;32m    190\u001b[0m \u001b[0;34m\u001b[0m\u001b[0m\n\u001b[1;32m    191\u001b[0m     if (\n\u001b[0;32m--> 192\u001b[0;31m         \u001b[0msparse\u001b[0m\u001b[0;34m.\u001b[0m\u001b[0missparse\u001b[0m\u001b[0;34m(\u001b[0m\u001b[0ma\u001b[0m\u001b[0;34m)\u001b[0m\u001b[0;34m\u001b[0m\u001b[0;34m\u001b[0m\u001b[0m\n\u001b[0m\u001b[1;32m    193\u001b[0m         \u001b[0;32mand\u001b[0m \u001b[0msparse\u001b[0m\u001b[0;34m.\u001b[0m\u001b[0missparse\u001b[0m\u001b[0;34m(\u001b[0m\u001b[0mb\u001b[0m\u001b[0;34m)\u001b[0m\u001b[0;34m\u001b[0m\u001b[0;34m\u001b[0m\u001b[0m\n\u001b[1;32m    194\u001b[0m         \u001b[0;32mand\u001b[0m \u001b[0mdense_output\u001b[0m\u001b[0;34m\u001b[0m\u001b[0;34m\u001b[0m\u001b[0m\n",
            "\u001b[0;32m/usr/local/lib/python3.10/dist-packages/scipy/sparse/_base.py\u001b[0m in \u001b[0;36missparse\u001b[0;34m(x)\u001b[0m\n\u001b[1;32m   1459\u001b[0m \u001b[0;34m\u001b[0m\u001b[0m\n\u001b[1;32m   1460\u001b[0m \u001b[0;34m\u001b[0m\u001b[0m\n\u001b[0;32m-> 1461\u001b[0;31m \u001b[0;32mdef\u001b[0m \u001b[0missparse\u001b[0m\u001b[0;34m(\u001b[0m\u001b[0mx\u001b[0m\u001b[0;34m)\u001b[0m\u001b[0;34m:\u001b[0m\u001b[0;34m\u001b[0m\u001b[0;34m\u001b[0m\u001b[0m\n\u001b[0m\u001b[1;32m   1462\u001b[0m     \"\"\"Is `x` of a sparse array type?\n\u001b[1;32m   1463\u001b[0m \u001b[0;34m\u001b[0m\u001b[0m\n",
            "\u001b[0;31mKeyboardInterrupt\u001b[0m: "
          ]
        }
      ],
      "source": [
        "kmeans = KMeans(n_clusters=50, random_state=42)\n",
        "X_digits_dist = kmeans.fit_transform(X_train)\n",
        "\n",
        "#find the representative images closest to each centroid\n",
        "representative_digit_idx = np.argmin(X_digits_dist, axis=0)\n",
        "# X_representative_digits = X_train.tolist()[representative_digit_idx]"
      ]
    },
    {
      "cell_type": "code",
      "execution_count": null,
      "metadata": {
        "id": "3_X6c52cMXS1"
      },
      "outputs": [],
      "source": [
        "X_train[0], representative_digit_idx"
      ]
    },
    {
      "cell_type": "code",
      "execution_count": null,
      "metadata": {
        "id": "DPQWCdloNRXR"
      },
      "outputs": [],
      "source": [
        "# X_train[representative_digit_idx]\n",
        "X_representative_digits = [X_train[idx] for idx in representative_digit_idx]"
      ]
    },
    {
      "cell_type": "code",
      "execution_count": null,
      "metadata": {
        "id": "qkugDS2kFbis"
      },
      "outputs": [],
      "source": [
        "plt.figure(figsize=(8, 2))\n",
        "for index, X_representative_digit in enumerate(X_representative_digits):\n",
        "    plt.subplot(50 // 10, 10, index + 1)\n",
        "    plt.imshow(X_representative_digit.reshape(40, 40), cmap=\"binary\", interpolation=\"bilinear\")\n",
        "    plt.axis('off')\n",
        "\n",
        "plt.show()"
      ]
    },
    {
      "cell_type": "code",
      "execution_count": null,
      "metadata": {
        "id": "UcrkM9HsGDI8"
      },
      "outputs": [],
      "source": [
        "y_representative_digits = np.array([\n",
        "    3, 0, 1, 1, 3, 1, 2, 2, 2, 2,\n",
        "    1, 2, 2, 2, 2, 2, 0, 1, 1, 3,\n",
        "    1, 3, 1, 1, 3, 2, 2, 1, 1, 2,\n",
        "    3, 3, 3, 2, 2, 1, 2, 1, 2, 3,\n",
        "    2, 3, 1, 2, 2, 2, 2, 3, 3, 2])"
      ]
    },
    {
      "cell_type": "code",
      "execution_count": null,
      "metadata": {
        "id": "0GBXMJRgGtTU"
      },
      "outputs": [],
      "source": [
        "log_reg = LogisticRegression(multi_class=\"ovr\", solver=\"lbfgs\", max_iter=5000, random_state=42)\n",
        "log_reg.fit(X_representative_digits, y_representative_digits)\n",
        "log_reg.score(X_test, y_test)"
      ]
    },
    {
      "cell_type": "markdown",
      "metadata": {
        "id": "SNoGQn-RHsQW"
      },
      "source": [
        "**Affinity Propogation**"
      ]
    },
    {
      "cell_type": "code",
      "source": [
        "\n",
        "\n",
        "# define the model\n",
        "model = AffinityPropagation(damping=0.7)\n",
        "\n",
        "# train the model\n",
        "model.fit(X_train)\n",
        "\n",
        "# assign each data point to a cluster\n",
        "result = model.predict(X_train)\n",
        "\n",
        "# get all of the unique clusters\n",
        "clusters = unique(result)\n",
        "\n",
        "len(clusters)"
      ],
      "metadata": {
        "id": "UCcc50E6FsyC"
      },
      "execution_count": null,
      "outputs": []
    },
    {
      "cell_type": "code",
      "source": [
        "len(result), len(X_train)"
      ],
      "metadata": {
        "id": "cF7Gn5zEIluJ"
      },
      "execution_count": null,
      "outputs": []
    },
    {
      "cell_type": "code",
      "source": [
        "type(X_test)"
      ],
      "metadata": {
        "id": "na0bZfIrLIC-"
      },
      "execution_count": null,
      "outputs": []
    },
    {
      "cell_type": "code",
      "source": [
        "un = np.unique(result)\n",
        "result, un"
      ],
      "metadata": {
        "id": "TkX-qJALMbGB"
      },
      "execution_count": null,
      "outputs": []
    },
    {
      "cell_type": "code",
      "source": [
        "arr=[]\n",
        "for val in un:\n",
        "  indices = np.where(result == val)\n",
        "\n",
        "  X_test_np = np.asarray(X_train)\n",
        "\n",
        "  idk_what_to_call_this = X_test_np[indices]\n",
        "\n",
        "  plt.figure(figsize=(8, 2))\n",
        "  for index, X_representative_digit in enumerate(idk_what_to_call_this):\n",
        "      plt.subplot(50 // 10, 10, index + 1)\n",
        "      plt.imshow(X_representative_digit.reshape(40, 40), cmap=\"binary\", interpolation=\"bilinear\")\n",
        "      plt.axis('off')\n",
        "  plt.show()\n",
        "  arr.append(int(input()))"
      ],
      "metadata": {
        "id": "EOOcS-93HFU7"
      },
      "execution_count": null,
      "outputs": []
    },
    {
      "cell_type": "code",
      "source": [
        "X_test_np[0]"
      ],
      "metadata": {
        "id": "G1ZLMLUYuOJG"
      },
      "execution_count": null,
      "outputs": []
    },
    {
      "cell_type": "code",
      "source": [
        "accuracy = accuracy_score(y_test, result)\n",
        "accuracy"
      ],
      "metadata": {
        "id": "qrfFy9-ZV-hO"
      },
      "execution_count": null,
      "outputs": []
    },
    {
      "cell_type": "markdown",
      "source": [
        "# Applying Erosion Preprocessing and Pixel Value masking\n",
        "\n",
        "Perhaps some issue's with overlapping classes may be resolved if the data is preprocessed and bat's edges are eroded."
      ],
      "metadata": {
        "id": "KEGCrke_oiG6"
      }
    },
    {
      "cell_type": "code",
      "source": [
        "dataset_path = \"/content/Bats300\"\n",
        "\n",
        "data = load_files(dataset_path, shuffle=True, random_state=42)\n",
        "\n",
        "X_train, X_test, y_train, y_test = train_test_split(data.data, data.target, test_size=0.2, random_state=42)"
      ],
      "metadata": {
        "id": "zFCBCkMjtbMg"
      },
      "execution_count": null,
      "outputs": []
    },
    {
      "cell_type": "code",
      "source": [
        "X_img_train = [np.asarray(Image.open(io.BytesIO(img)).convert(\"L\")) for img in X_train]\n",
        "X_img_test = [np.asarray(Image.open(io.BytesIO(img)).convert(\"L\")) for img in X_test]"
      ],
      "metadata": {
        "id": "ZUd684DE1XIj"
      },
      "execution_count": null,
      "outputs": []
    },
    {
      "cell_type": "code",
      "source": [
        "import cv2\n",
        "import numpy as np\n",
        "\n",
        "# Read your image\n",
        "image = X_img_test[133]\n",
        "\n",
        "# Define a kernel for erosion\n",
        "kernel = np.ones((3, 3), np.uint8)\n",
        "\n",
        "# Perform erosion\n",
        "eroded_image = cv2.erode(image, kernel, iterations=1)\n",
        "\n",
        "pixel_mask = np.copy(eroded_image)\n",
        "pixel_mask[pixel_mask>np.uint8(255/5)] = 255\n",
        "\n",
        "# Display the original and eroded images\n",
        "plt.subplot(2 // 1, 3, 1)\n",
        "plt.imshow(image, cmap=\"binary\")\n",
        "plt.subplot(2 // 1, 3, 2)\n",
        "plt.imshow(eroded_image, cmap=\"binary\")\n",
        "plt.subplot(2 // 1, 3, 3)\n",
        "plt.imshow(pixel_mask, cmap=\"binary\")\n",
        "\n",
        "plt.show()\n"
      ],
      "metadata": {
        "id": "74YWl_uBohYw"
      },
      "execution_count": null,
      "outputs": []
    },
    {
      "cell_type": "code",
      "source": [
        "pixel_mask"
      ],
      "metadata": {
        "id": "KvVSPZSiMa-3"
      },
      "execution_count": null,
      "outputs": []
    },
    {
      "cell_type": "code",
      "source": [
        "eroded_image"
      ],
      "metadata": {
        "id": "dB_DEsw3MeOo"
      },
      "execution_count": null,
      "outputs": []
    },
    {
      "cell_type": "markdown",
      "source": [
        "\n",
        "## Applying Erosion to Whole Dataset\n",
        "### Steps:\n",
        "* Import Dataset\n",
        "* Apply Erosion\n",
        "* Flatten Image after Erosion\n",
        "* Apply Affinity Propogation\n",
        "\n",
        "X_img_train, X_img_test, y_train, y_test"
      ],
      "metadata": {
        "id": "s_q67gkI3IRw"
      }
    },
    {
      "cell_type": "code",
      "source": [
        "\"\"\"\n",
        "Apply erosion to X_images and y_images\n",
        "\"\"\"\n",
        "\n",
        "def apply_erosion(arr, pixel_masking: bool=False):\n",
        "  elements, dim1, dim2 = np.shape(arr)\n",
        "\n",
        "  # New numpy array\n",
        "  new_arr = np.zeros((elements, dim1*dim2))\n",
        "\n",
        "  # Define a kernel for erosion\n",
        "  kernel = np.ones((3, 3), np.uint8)\n",
        "\n",
        "\n",
        "  for idx, img in enumerate(arr):\n",
        "    # Perform erosion\n",
        "    arr[idx] = cv2.erode(img, kernel, iterations=1).flatten()\n",
        "    if pixel_masking:\n",
        "      arr[idx][arr[idx]>np.uint8(255/5)] = 255\n",
        "  return arr\n",
        "\n",
        "X_images = apply_erosion(X_img_train, pixel_masking=True)\n",
        "y_images = apply_erosion(X_img_test, pixel_masking=True)"
      ],
      "metadata": {
        "id": "hA4AP55s5-m6"
      },
      "execution_count": null,
      "outputs": []
    },
    {
      "cell_type": "markdown",
      "source": [
        "#### Applying Affinity Propogation"
      ],
      "metadata": {
        "id": "W00ZuAPu7Ion"
      }
    },
    {
      "cell_type": "code",
      "source": [
        "# define the model\n",
        "model = AffinityPropagation(damping=0.7)\n",
        "\n",
        "# train the model\n",
        "model.fit(X_img_train)\n",
        "\n",
        "# assign each data point to a cluster\n",
        "result = model.predict(X_img_train)\n",
        "\n",
        "# get all of the unique clusters\n",
        "clusters = unique(result)\n",
        "\n",
        "len(clusters)"
      ],
      "metadata": {
        "id": "epS3vf8N7GFR"
      },
      "execution_count": null,
      "outputs": []
    },
    {
      "cell_type": "markdown",
      "source": [
        "### Affinity Propogation: Semi Supervised Learning with Erosion\n",
        "**Steps:**\n",
        "* Find Unique Clusters\n",
        "* Label Unique Clusters\n",
        "* Predict Test set with new Unique Cluster labels"
      ],
      "metadata": {
        "id": "fB-mNvv9ASFy"
      }
    },
    {
      "cell_type": "code",
      "source": [
        "un = np.unique(result)\n",
        "result, un"
      ],
      "metadata": {
        "id": "BQ_HKP-EA38S"
      },
      "execution_count": null,
      "outputs": []
    },
    {
      "cell_type": "code",
      "source": [
        "arr=[]\n",
        "\n",
        "def semi_super(arr: np.ndarray, result: np.ndarray, un: np.ndarray, label_pass: bool=True):\n",
        "  np_arr = []\n",
        "  for val in un:\n",
        "    indices = np.where(result == val)\n",
        "    cluster_images = np.asarray(arr)[indices]\n",
        "\n",
        "    plt.figure(figsize=(8, 2))\n",
        "    for index, img in enumerate(cluster_images):\n",
        "        if index > 49:\n",
        "          break\n",
        "        plt.subplot(50 // 10, 10, index + 1)\n",
        "        plt.imshow(img.reshape(40, 40), cmap=\"binary\", interpolation=\"bilinear\")\n",
        "        plt.axis('off')\n",
        "    plt.show()\n",
        "    if label_pass:\n",
        "      np_arr.append(int(input()))\n",
        "  return np_arr\n",
        "\n",
        "val = semi_super(X_img_train, result, un, label_pass=False)"
      ],
      "metadata": {
        "id": "mlfOQQdgAbsQ"
      },
      "execution_count": null,
      "outputs": []
    },
    {
      "cell_type": "code",
      "source": [
        "eroded_result = result\n",
        "for un_ele, val_ele in zip(un, val):\n",
        "  eroded_result[eroded_result == un_ele] = val_ele"
      ],
      "metadata": {
        "id": "YCvLIgmyC9o9"
      },
      "execution_count": null,
      "outputs": []
    },
    {
      "cell_type": "code",
      "source": [
        "np.shape(eroded_result)"
      ],
      "metadata": {
        "id": "bcuND1FBF327"
      },
      "execution_count": null,
      "outputs": []
    },
    {
      "cell_type": "code",
      "source": [
        "np.shape(y_train)"
      ],
      "metadata": {
        "id": "jzu_pg7dHXKY"
      },
      "execution_count": null,
      "outputs": []
    },
    {
      "cell_type": "code",
      "source": [
        "accuracy = accuracy_score(y_train, eroded_result)\n",
        "accuracy"
      ],
      "metadata": {
        "id": "9STXb3B3FlzT"
      },
      "execution_count": null,
      "outputs": []
    }
  ],
  "metadata": {
    "colab": {
      "provenance": []
    },
    "kernelspec": {
      "display_name": "Python 3",
      "name": "python3"
    },
    "language_info": {
      "name": "python"
    }
  },
  "nbformat": 4,
  "nbformat_minor": 0
}