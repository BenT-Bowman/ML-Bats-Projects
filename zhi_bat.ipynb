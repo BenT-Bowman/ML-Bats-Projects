{
  "nbformat": 4,
  "nbformat_minor": 0,
  "metadata": {
    "colab": {
      "provenance": [],
      "gpuType": "T4"
    },
    "kernelspec": {
      "name": "python3",
      "display_name": "Python 3"
    },
    "language_info": {
      "name": "python"
    },
    "accelerator": "GPU"
  },
  "cells": [
    {
      "cell_type": "code",
      "execution_count": 19,
      "metadata": {
        "id": "IjBruu7rDYOz"
      },
      "outputs": [],
      "source": [
        "#!/usr/bin/env python\n",
        "# coding: utf-8\n",
        "\n",
        "import os\n",
        "import torch\n",
        "import torch.nn as nn\n",
        "import torchvision.models as models  # <-- Make sure to add this import for models\n",
        "from torch.utils.data import random_split\n",
        "from torchvision import datasets, transforms\n",
        "from torch.utils.data import DataLoader\n",
        "from tqdm import tqdm\n",
        "\n",
        "\n",
        "\n",
        "\n"
      ]
    },
    {
      "cell_type": "code",
      "source": [
        "# =========================\n",
        "# Configuration and Settings\n",
        "# =========================\n",
        "\n",
        "class Config:\n",
        "    # Device configuration\n",
        "    device = torch.device('cuda' if torch.cuda.is_available() else 'cpu')\n",
        "\n",
        "    # Data paths\n",
        "    data_paths = {\n",
        "        '1_12': r'/content/FTD/Final Testing Dataset',\n",
        "        '1_4': r'/content/1-4/1-4',\n",
        "        '5_8': r'/content/5-8/5-8',\n",
        "        '9_12': r'/content/9-12/9-12',\n",
        "        'Top': r'/content/Top_level'\n",
        "    }\n",
        "\n",
        "    # Training parameters\n",
        "    training_params = {\n",
        "        'batch_size': 16,\n",
        "        'num_workers': 4,\n",
        "        'epochs': 50\n",
        "    }\n",
        "\n",
        "    # Learning rates for different models\n",
        "    learning_rates = {\n",
        "        '1_12': 0.001,\n",
        "        '1_4': 0.0001,\n",
        "        '5_8': 0.0001,\n",
        "        '9_12': 0.0001,\n",
        "        'Top': 0.0001\n",
        "    }\n",
        "\n",
        "    # Number of classes for each model\n",
        "    num_classes = {\n",
        "        '1_12': 12,\n",
        "        '1_4': 4,\n",
        "        '5_8': 4,\n",
        "        '9_12': 4,\n",
        "        'Top': 3\n",
        "    }\n",
        "\n",
        "    # Model save paths\n",
        "    model_save_paths = {\n",
        "        '1_12': '1_12_bats.pth',\n",
        "        '1_4': '1_4_model.pth',\n",
        "        '5_8': '5_8_model.pth',\n",
        "        '9_12': '9_12_model.pth',\n",
        "        'Top': 'top_model.pth'\n",
        "    }\n",
        "\n",
        "# Initialize configuration\n",
        "cfg = Config()\n",
        "\n"
      ],
      "metadata": {
        "id": "fDNmifR-4Y7G"
      },
      "execution_count": 29,
      "outputs": []
    },
    {
      "cell_type": "code",
      "source": [
        "# =========================\n",
        "# Data Handling Functions\n",
        "# =========================\n",
        "\n",
        "def get_data_transforms(train=True):\n",
        "    \"\"\"Define and return data transformations.\"\"\"\n",
        "    if train:\n",
        "        return transforms.Compose([\n",
        "            transforms.Resize((224, 224)),  # Resize to standard size\n",
        "            transforms.RandomHorizontalFlip(),  # Random horizontal flipping\n",
        "            transforms.RandomRotation(45),  # Random rotation\n",
        "            transforms.ToTensor(),  # Convert to tensor\n",
        "            transforms.Normalize(mean=[0.485, 0.456, 0.406], std=[0.229, 0.224, 0.225])  # Normalize\n",
        "        ])\n",
        "    else:\n",
        "        return transforms.Compose([\n",
        "            transforms.Resize((224, 224)),  # Resize to standard size\n",
        "            transforms.ToTensor(),  # Convert to tensor\n",
        "            transforms.Normalize(mean=[0.485, 0.456, 0.406], std=[0.229, 0.224, 0.225])  # Normalize\n",
        "        ])\n",
        "\n",
        "def load_dataset(root_dir, transform):\n",
        "    \"\"\"\n",
        "    Load dataset using ImageFolder.\n",
        "\n",
        "    Args:\n",
        "        root_dir (str): Path to the dataset directory.\n",
        "        transform (torchvision.transforms.Compose): Transformations to apply.\n",
        "\n",
        "    Returns:\n",
        "        torch.utils.data.Dataset: Loaded dataset.\n",
        "    \"\"\"\n",
        "    return datasets.ImageFolder(root=root_dir, transform=transform)\n",
        "\n",
        "def split_dataset(dataset, val_ratio=0.2, test_ratio=0.2):\n",
        "    \"\"\"\n",
        "    Split dataset into training, validation, and test sets.\n",
        "\n",
        "    Args:\n",
        "        dataset (torch.utils.data.Dataset): The dataset to split.\n",
        "        val_ratio (float): Fraction of data for validation.\n",
        "        test_ratio (float): Fraction of data for testing.\n",
        "\n",
        "    Returns:\n",
        "        tuple: train_dataset, val_dataset, test_dataset\n",
        "    \"\"\"\n",
        "    total_size = len(dataset)\n",
        "    val_size = int(val_ratio * total_size)\n",
        "    test_size = int(test_ratio * total_size)\n",
        "    train_size = total_size - val_size - test_size\n",
        "    train_dataset, val_dataset, test_dataset = random_split(dataset, [train_size, val_size, test_size])\n",
        "\n",
        "    return train_dataset, val_dataset, test_dataset\n",
        "\n",
        "def get_dataloaders(train_dataset, val_dataset, test_dataset, batch_size, num_workers):\n",
        "    \"\"\"\n",
        "    Create DataLoaders for training, validation, and testing.\n",
        "\n",
        "    Args:\n",
        "        train_dataset (torch.utils.data.Dataset): Training dataset.\n",
        "        val_dataset (torch.utils.data.Dataset): Validation dataset.\n",
        "        test_dataset (torch.utils.data.Dataset): Test dataset.\n",
        "        batch_size (int): Batch size.\n",
        "        num_workers (int): Number of subprocesses for data loading.\n",
        "\n",
        "    Returns:\n",
        "        tuple: train_loader, val_loader, test_loader\n",
        "    \"\"\"\n",
        "    train_loader = DataLoader(train_dataset, batch_size=batch_size, shuffle=True, num_workers=num_workers)\n",
        "    val_loader = DataLoader(val_dataset, batch_size=batch_size, shuffle=True, num_workers=num_workers)\n",
        "    test_loader = DataLoader(test_dataset, batch_size=batch_size, shuffle=True, num_workers=num_workers)\n",
        "\n",
        "    return train_loader, val_loader, test_loader\n"
      ],
      "metadata": {
        "id": "U4Pcol124h8A"
      },
      "execution_count": 21,
      "outputs": []
    },
    {
      "cell_type": "code",
      "source": [
        "# =========================\n",
        "# Training and Evaluation Functions\n",
        "# =========================\n",
        "\n",
        "def train_model(model, train_loader, val_loader, loss_fn, optimizer, device, epochs, model_name):\n",
        "    \"\"\"\n",
        "    Train the given model and validate after each epoch.\n",
        "\n",
        "    Args:\n",
        "        model (nn.Module): The model to train.\n",
        "        train_loader (DataLoader): DataLoader for training data.\n",
        "        val_loader (DataLoader): DataLoader for validation data.\n",
        "        loss_fn (nn.Module): Loss function.\n",
        "        optimizer (torch.optim.Optimizer): Optimizer.\n",
        "        device (torch.device): Device to train on.\n",
        "        epochs (int): Number of epochs.\n",
        "        model_name (str): Name identifier for the model.\n",
        "\n",
        "    Returns:\n",
        "        nn.Module: Trained model.\n",
        "    \"\"\"\n",
        "    model.to(device)\n",
        "    for epoch in range(epochs):\n",
        "        model.train()\n",
        "        print(f\"Epoch: {epoch + 1}/{epochs} - Model: {model_name}\")\n",
        "        pbar = tqdm(train_loader, desc=f\"Training Epoch {epoch+1}\")\n",
        "        running_loss = 0.0\n",
        "        correct = 0\n",
        "        total = 0\n",
        "        for inputs, labels in pbar:\n",
        "            inputs, labels = inputs.to(device), labels.to(device)\n",
        "\n",
        "            optimizer.zero_grad()\n",
        "            outputs = model(inputs)\n",
        "            loss = loss_fn(outputs, labels)\n",
        "            loss.backward()\n",
        "            optimizer.step()\n",
        "\n",
        "            running_loss += loss.item()\n",
        "            _, predicted = torch.max(outputs, 1)\n",
        "            total += labels.size(0)\n",
        "            correct += (predicted == labels).sum().item()\n",
        "\n",
        "            pbar.set_postfix({'Loss': f\"{running_loss / (total):.4f}\",\n",
        "                              'Accuracy': f\"{correct / total:.4f}\"})\n",
        "\n",
        "        # Validation after each epoch\n",
        "        val_acc, val_loss = evaluate_model(model, val_loader, loss_fn, device)\n",
        "        print(f\"Validation - Accuracy: {val_acc:.4f}, Loss: {val_loss:.4f}\\n\")\n",
        "\n",
        "    return model\n",
        "\n",
        "def evaluate_model(model, data_loader, loss_fn, device):\n",
        "    \"\"\"\n",
        "    Evaluate the model on the given dataset.\n",
        "\n",
        "    Args:\n",
        "        model (nn.Module): The model to evaluate.\n",
        "        data_loader (DataLoader): DataLoader for the dataset.\n",
        "        loss_fn (nn.Module): Loss function.\n",
        "        device (torch.device): Device to evaluate on.\n",
        "\n",
        "    Returns:\n",
        "        tuple: Accuracy, Average Loss\n",
        "    \"\"\"\n",
        "    model.eval()\n",
        "    correct = 0\n",
        "    total = 0\n",
        "    total_loss = 0.0\n",
        "    with torch.no_grad():\n",
        "        for inputs, labels in data_loader:\n",
        "            inputs, labels = inputs.to(device), labels.to(device)\n",
        "            outputs = model(inputs)\n",
        "            loss = loss_fn(outputs, labels)\n",
        "            total_loss += loss.item()\n",
        "            _, predicted = torch.max(outputs, 1)\n",
        "            total += labels.size(0)\n",
        "            correct += (predicted == labels).sum().item()\n",
        "    accuracy = correct / total\n",
        "    avg_loss = total_loss / len(data_loader)\n",
        "    return accuracy, avg_loss\n",
        "\n"
      ],
      "metadata": {
        "id": "O5Vv-s_R4mHo"
      },
      "execution_count": 22,
      "outputs": []
    },
    {
      "cell_type": "code",
      "source": [
        "# =========================\n",
        "# Combined Model Class\n",
        "# =========================\n",
        "\n",
        "class CombinedModel(nn.Module):\n",
        "    \"\"\"\n",
        "    Combined model that uses a top-level model to decide which specialized model to use for each input.\n",
        "    \"\"\"\n",
        "    def __init__(self, top_model, specialized_models, device):\n",
        "        \"\"\"\n",
        "        Initialize the CombinedModel.\n",
        "\n",
        "        Args:\n",
        "            top_model (nn.Module): The top-level model.\n",
        "            specialized_models (dict): Dictionary of specialized models.\n",
        "            device (torch.device): Device to run the models on.\n",
        "        \"\"\"\n",
        "        super(CombinedModel, self).__init__()\n",
        "        self.top_model = top_model\n",
        "        self.specialized_models = nn.ModuleDict(specialized_models)\n",
        "        self.device = device\n",
        "\n",
        "    def forward(self, x):\n",
        "        \"\"\"\n",
        "        Forward pass through the combined model.\n",
        "\n",
        "        Args:\n",
        "            x (torch.Tensor): Input tensor.\n",
        "\n",
        "        Returns:\n",
        "            torch.Tensor: Combined output tensor.\n",
        "        \"\"\"\n",
        "        # Get decisions from the top-level model\n",
        "        decision_logits = self.top_model(x)\n",
        "        decisions = torch.argmax(decision_logits, dim=1)  # Shape: (batch_size,)\n",
        "\n",
        "        batch_size = x.size(0)\n",
        "        total_classes = sum([cfg.num_classes[key] for key in self.specialized_models.keys()])\n",
        "        combined_outputs = torch.zeros(batch_size, total_classes).to(self.device)\n",
        "\n",
        "        # Process inputs in batches based on decisions\n",
        "        for decision, model_key in enumerate(self.specialized_models.keys()):\n",
        "            indices = (decisions == decision).nonzero(as_tuple=True)[0]\n",
        "            if len(indices) == 0:\n",
        "                continue  # No samples for this decision\n",
        "            subset = x[indices]\n",
        "            outputs = self.specialized_models[model_key](subset)\n",
        "            # Determine the class index offset\n",
        "            class_offset = sum([cfg.num_classes[key] for key in list(self.specialized_models.keys())[:decision]])\n",
        "            combined_outputs[indices, class_offset:class_offset + cfg.num_classes[model_key]] = outputs\n",
        "\n",
        "        return combined_outputs\n"
      ],
      "metadata": {
        "id": "EU3AeRuL4pax"
      },
      "execution_count": 23,
      "outputs": []
    },
    {
      "cell_type": "code",
      "source": [
        "# =========================\n",
        "# Train and Save Model Function\n",
        "# =========================\n",
        "\n",
        "\n",
        "def train_and_save_model(model_key, model, train_loader, val_loader):\n",
        "    \"\"\"\n",
        "    Train and save a model given its key, train_loader, and val_loader.\n",
        "\n",
        "    Args:\n",
        "        model_key (str): The identifier for the model (e.g., '1_4', '5_8', '9_12').\n",
        "        model (nn.Module): The model to train.\n",
        "        train_loader (DataLoader): DataLoader for training.\n",
        "        val_loader (DataLoader): DataLoader for validation.\n",
        "    \"\"\"\n",
        "    print(f\"Training model {model_key}...\")\n",
        "\n",
        "    # Define loss function and optimizer\n",
        "    loss_fn = nn.CrossEntropyLoss()\n",
        "    optimizer = torch.optim.Adam(model.parameters(), lr=cfg.learning_rates[model_key])\n",
        "\n",
        "    # Check if model file exists\n",
        "    model_path = cfg.model_save_paths[model_key]\n",
        "\n",
        "    if os.path.exists(model_path):\n",
        "        print(f\"Loading existing {model_key} model...\")\n",
        "        model.load_state_dict(torch.load(model_path))\n",
        "    else:\n",
        "        print(f\"Training new {model_key} model...\")\n",
        "        # Train the model\n",
        "        model = train_model(model, train_loader, val_loader, loss_fn, optimizer, cfg.device, epochs=cfg.training_params['epochs'], model_name=model_key)\n",
        "\n",
        "        # Save the model after training\n",
        "        torch.save(model.state_dict(), model_path)\n",
        "        print(f\"{model_key} model saved successfully!\")"
      ],
      "metadata": {
        "id": "1nFSJUmwGRsw"
      },
      "execution_count": 24,
      "outputs": []
    },
    {
      "cell_type": "code",
      "source": [
        "# =========================\n",
        "# Early Stopper Class\n",
        "# =========================\n",
        "\n",
        "class EarlyStopping:\n",
        "    def __init__(self, patience=5, delta=0):\n",
        "        \"\"\"\n",
        "        Args:\n",
        "            patience (int): How many epochs to wait after last time validation loss improved.\n",
        "            delta (float): Minimum change in the monitored quantity to qualify as an improvement.\n",
        "        \"\"\"\n",
        "        self.patience = patience\n",
        "        self.delta = delta\n",
        "        self.counter = 0\n",
        "        self.best_loss = None\n",
        "        self.early_stop = False\n",
        "\n",
        "    def __call__(self, val_loss):\n",
        "        if self.best_loss is None:\n",
        "            self.best_loss = val_loss\n",
        "        elif val_loss > self.best_loss - self.delta:\n",
        "            self.counter += 1\n",
        "            print(f\"EarlyStopping counter: {self.counter} out of {self.patience}\")\n",
        "            if self.counter >= self.patience:\n",
        "                self.early_stop = True\n",
        "        else:\n",
        "            self.best_loss = val_loss\n",
        "            self.counter = 0\n"
      ],
      "metadata": {
        "id": "R-DppvXiF9QM"
      },
      "execution_count": 25,
      "outputs": []
    },
    {
      "cell_type": "code",
      "source": [
        "# =========================\n",
        "# Main Execution Flow\n",
        "# =========================\n",
        "\n",
        "def main():\n",
        "    # Define transformations for image processing\n",
        "    transform = transforms.Compose([\n",
        "        transforms.Resize((224, 224)),  # Resize images\n",
        "        transforms.ToTensor(),  # Convert to tensor\n",
        "        transforms.Normalize(mean=[0.485, 0.456, 0.406], std=[0.229, 0.224, 0.225])  # Normalize\n",
        "    ])\n",
        "\n",
        "    # Check and print the directory structure and file counts\n",
        "    print(\"Verifying dataset structure and files:\")\n",
        "    for root, dirs, files in os.walk(cfg.data_paths['1_12']):\n",
        "        print(root, len(files))  # Shows number of files in each directory\n",
        "\n",
        "    # Load the test dataset for combined evaluation\n",
        "    test_root_dir = cfg.data_paths['1_12']\n",
        "    test_dataset = load_dataset(test_root_dir, transform)\n",
        "    _, _, combined_test_loader = get_dataloaders(\n",
        "        *split_dataset(test_dataset),\n",
        "        cfg.training_params['batch_size'],\n",
        "        cfg.training_params['num_workers']\n",
        "    )\n",
        "\n",
        "    # Define the top-level model (you can choose any architecture or custom model)\n",
        "    top_model = models.resnet18(pretrained=False)  # Example: ResNet-18\n",
        "    top_model.fc = nn.Linear(top_model.fc.in_features, cfg.num_classes['Top'])  # Adjust the output for 3 classes\n",
        "\n",
        "    # Define specialized models (one for each subset of classes)\n",
        "    specialized_models = {\n",
        "        '1_4': models.resnet18(pretrained=False),\n",
        "        '5_8': models.resnet18(pretrained=False),\n",
        "        '9_12': models.resnet18(pretrained=False)\n",
        "    }\n",
        "\n",
        "    # Adjust the output layers of each specialized model\n",
        "    specialized_models['1_4'].fc = nn.Linear(specialized_models['1_4'].fc.in_features, cfg.num_classes['1_4'])\n",
        "    specialized_models['5_8'].fc = nn.Linear(specialized_models['5_8'].fc.in_features, cfg.num_classes['5_8'])\n",
        "    specialized_models['9_12'].fc = nn.Linear(specialized_models['9_12'].fc.in_features, cfg.num_classes['9_12'])\n",
        "\n",
        "    # Define the CombinedModel\n",
        "    combined_model = CombinedModel(top_model, specialized_models, cfg.device)\n",
        "    combined_model.to(cfg.device)\n",
        "\n",
        "    # Define the loss function and optimizer\n",
        "    loss_fn = nn.CrossEntropyLoss()  # For classification tasks\n",
        "    optimizer = torch.optim.Adam(combined_model.parameters(), lr=0.001)\n",
        "\n",
        "    # Check if model file exists\n",
        "    model_path = \"combined_model.pth\"\n",
        "\n",
        "    if os.path.exists(model_path):\n",
        "        print(\"Loading existing model...\")\n",
        "        combined_model.load_state_dict(torch.load(model_path))\n",
        "    else:\n",
        "        print(\"Training new model...\")\n",
        "        # Train the model if not already saved\n",
        "        combined_model = train_model(combined_model, combined_test_loader, combined_test_loader, loss_fn, optimizer, cfg.device, epochs=10, model_name='combined_model')\n",
        "\n",
        "        # Save the model after training\n",
        "        torch.save(combined_model.state_dict(), model_path)\n",
        "        print(\"Model saved successfully!\")\n",
        "\n",
        "    # Evaluate the combined model\n",
        "    evaluate_model(combined_model, combined_test_loader, loss_fn, cfg.device)\n",
        "\n",
        "    # Save the evaluated model\n",
        "    torch.save(combined_model.state_dict(), \"combined_model_evaluated.pth\")\n",
        "\n",
        "if __name__ == \"__main__\":\n",
        "    main()\n"
      ],
      "metadata": {
        "id": "x0Jg_5bt4saS",
        "colab": {
          "base_uri": "https://localhost:8080/"
        },
        "outputId": "0d7780ee-660f-45fb-dddf-a89b91726351"
      },
      "execution_count": 26,
      "outputs": [
        {
          "output_type": "stream",
          "name": "stdout",
          "text": [
            "Verifying dataset structure and files:\n",
            "/content/FTD/Final Testing Dataset 0\n",
            "/content/FTD/Final Testing Dataset/12 500\n",
            "/content/FTD/Final Testing Dataset/9 500\n",
            "/content/FTD/Final Testing Dataset/1 501\n",
            "/content/FTD/Final Testing Dataset/8 500\n",
            "/content/FTD/Final Testing Dataset/5 500\n",
            "/content/FTD/Final Testing Dataset/4 500\n",
            "/content/FTD/Final Testing Dataset/3 500\n",
            "/content/FTD/Final Testing Dataset/2 500\n",
            "/content/FTD/Final Testing Dataset/10 500\n",
            "/content/FTD/Final Testing Dataset/11 500\n",
            "/content/FTD/Final Testing Dataset/6 500\n",
            "/content/FTD/Final Testing Dataset/7 500\n",
            "Training new model...\n",
            "Epoch: 1/10 - Model: combined_model\n"
          ]
        },
        {
          "output_type": "stream",
          "name": "stderr",
          "text": [
            "Training Epoch 1: 100%|██████████| 150/150 [00:08<00:00, 18.36it/s, Loss=0.2767, Accuracy=0.2267]\n"
          ]
        },
        {
          "output_type": "stream",
          "name": "stdout",
          "text": [
            "Validation - Accuracy: 0.2433, Loss: 2.0876\n",
            "\n",
            "Epoch: 2/10 - Model: combined_model\n"
          ]
        },
        {
          "output_type": "stream",
          "name": "stderr",
          "text": [
            "Training Epoch 2: 100%|██████████| 150/150 [00:07<00:00, 19.09it/s, Loss=0.2537, Accuracy=0.2625]\n"
          ]
        },
        {
          "output_type": "stream",
          "name": "stdout",
          "text": [
            "Validation - Accuracy: 0.2650, Loss: 2.2043\n",
            "\n",
            "Epoch: 3/10 - Model: combined_model\n"
          ]
        },
        {
          "output_type": "stream",
          "name": "stderr",
          "text": [
            "Training Epoch 3: 100%|██████████| 150/150 [00:07<00:00, 18.87it/s, Loss=0.2505, Accuracy=0.2800]\n"
          ]
        },
        {
          "output_type": "stream",
          "name": "stdout",
          "text": [
            "Validation - Accuracy: 0.3217, Loss: 1.9066\n",
            "\n",
            "Epoch: 4/10 - Model: combined_model\n"
          ]
        },
        {
          "output_type": "stream",
          "name": "stderr",
          "text": [
            "Training Epoch 4: 100%|██████████| 150/150 [00:07<00:00, 19.22it/s, Loss=0.2448, Accuracy=0.2833]\n"
          ]
        },
        {
          "output_type": "stream",
          "name": "stdout",
          "text": [
            "Validation - Accuracy: 0.3042, Loss: 1.9334\n",
            "\n",
            "Epoch: 5/10 - Model: combined_model\n"
          ]
        },
        {
          "output_type": "stream",
          "name": "stderr",
          "text": [
            "Training Epoch 5: 100%|██████████| 150/150 [00:07<00:00, 19.41it/s, Loss=0.2387, Accuracy=0.3083]\n"
          ]
        },
        {
          "output_type": "stream",
          "name": "stdout",
          "text": [
            "Validation - Accuracy: 0.3333, Loss: 1.7799\n",
            "\n",
            "Epoch: 6/10 - Model: combined_model\n"
          ]
        },
        {
          "output_type": "stream",
          "name": "stderr",
          "text": [
            "Training Epoch 6: 100%|██████████| 150/150 [00:07<00:00, 19.01it/s, Loss=0.2289, Accuracy=0.3233]\n"
          ]
        },
        {
          "output_type": "stream",
          "name": "stdout",
          "text": [
            "Validation - Accuracy: 0.3292, Loss: 1.8005\n",
            "\n",
            "Epoch: 7/10 - Model: combined_model\n"
          ]
        },
        {
          "output_type": "stream",
          "name": "stderr",
          "text": [
            "Training Epoch 7: 100%|██████████| 150/150 [00:08<00:00, 18.32it/s, Loss=0.2304, Accuracy=0.3150]\n"
          ]
        },
        {
          "output_type": "stream",
          "name": "stdout",
          "text": [
            "Validation - Accuracy: 0.3633, Loss: 1.6783\n",
            "\n",
            "Epoch: 8/10 - Model: combined_model\n"
          ]
        },
        {
          "output_type": "stream",
          "name": "stderr",
          "text": [
            "Training Epoch 8: 100%|██████████| 150/150 [00:08<00:00, 17.53it/s, Loss=0.2236, Accuracy=0.3217]\n"
          ]
        },
        {
          "output_type": "stream",
          "name": "stdout",
          "text": [
            "Validation - Accuracy: 0.3225, Loss: 1.8269\n",
            "\n",
            "Epoch: 9/10 - Model: combined_model\n"
          ]
        },
        {
          "output_type": "stream",
          "name": "stderr",
          "text": [
            "Training Epoch 9: 100%|██████████| 150/150 [00:08<00:00, 17.60it/s, Loss=0.2232, Accuracy=0.3292]\n"
          ]
        },
        {
          "output_type": "stream",
          "name": "stdout",
          "text": [
            "Validation - Accuracy: 0.3400, Loss: 1.8376\n",
            "\n",
            "Epoch: 10/10 - Model: combined_model\n"
          ]
        },
        {
          "output_type": "stream",
          "name": "stderr",
          "text": [
            "Training Epoch 10: 100%|██████████| 150/150 [00:08<00:00, 17.67it/s, Loss=0.2185, Accuracy=0.3408]\n"
          ]
        },
        {
          "output_type": "stream",
          "name": "stdout",
          "text": [
            "Validation - Accuracy: 0.3542, Loss: 1.6727\n",
            "\n",
            "Model saved successfully!\n"
          ]
        }
      ]
    },
    {
      "cell_type": "code",
      "source": [
        "# =========================\n",
        "# Main Execution Flow (Updated)\n",
        "# =========================\n",
        "\n",
        "def main():\n",
        "    # Define transformations for image processing with augmentation for training\n",
        "    train_transform = transforms.Compose([\n",
        "        transforms.Resize((224, 224)),  # Resize images\n",
        "        transforms.RandomHorizontalFlip(),  # Random horizontal flipping\n",
        "        transforms.RandomVerticalFlip(),  # Random vertical flipping\n",
        "        transforms.RandomRotation(45),  # Random rotation\n",
        "        transforms.ColorJitter(brightness=0.2, contrast=0.2, saturation=0.2, hue=0.1),  # Color jittering\n",
        "        transforms.RandomResizedCrop(224, scale=(0.8, 1.0)),  # Random crop with resizing\n",
        "        transforms.ToTensor(),  # Convert to tensor\n",
        "        transforms.Normalize(mean=[0.485, 0.456, 0.406], std=[0.229, 0.224, 0.225])  # Normalize\n",
        "    ])\n",
        "\n",
        "    # Transformation without augmentation for validation and testing\n",
        "    test_transform = transforms.Compose([\n",
        "        transforms.Resize((224, 224)),  # Resize images\n",
        "        transforms.ToTensor(),  # Convert to tensor\n",
        "        transforms.Normalize(mean=[0.485, 0.456, 0.406], std=[0.229, 0.224, 0.225])  # Normalize\n",
        "    ])\n",
        "\n",
        "    # Models and their corresponding datasets\n",
        "    model_info = {\n",
        "        '1_4': cfg.data_paths['1_4'],\n",
        "        '5_8': cfg.data_paths['5_8'],\n",
        "        '9_12': cfg.data_paths['9_12'],\n",
        "        '1_12': cfg.data_paths['1_12']\n",
        "    }\n",
        "\n",
        "    # Train each model separately\n",
        "    for model_key, dataset_path in model_info.items():\n",
        "        print(f\"\\nTraining model {model_key}...\")\n",
        "\n",
        "        # Load the dataset for this model with training and test/val transforms\n",
        "        dataset = load_dataset(dataset_path, train_transform)\n",
        "        train_loader, val_loader, test_loader = get_dataloaders(\n",
        "            *split_dataset(dataset),\n",
        "            cfg.training_params['batch_size'],\n",
        "            cfg.training_params['num_workers']\n",
        "        )\n",
        "\n",
        "        # Define the model with the appropriate number of classes\n",
        "        model = models.resnet18(pretrained=False)\n",
        "        model.fc = nn.Sequential(\n",
        "            nn.Dropout(0.5),  # Add dropout to reduce overfitting\n",
        "            nn.Linear(model.fc.in_features, cfg.num_classes[model_key])  # Adjust output layer\n",
        "        )\n",
        "\n",
        "        # Define loss function, optimizer, and scheduler\n",
        "        loss_fn = nn.CrossEntropyLoss()\n",
        "        optimizer = torch.optim.Adam(model.parameters(), lr=cfg.learning_rates[model_key])\n",
        "        scheduler = torch.optim.lr_scheduler.StepLR(optimizer, step_size=10, gamma=0.1)\n",
        "        early_stopper = EarlyStopping(patience=5, delta=0.01)\n",
        "\n",
        "        # Training loop\n",
        "        for epoch in range(cfg.training_params['epochs']):\n",
        "            print(f\"Epoch: {epoch + 1}/{cfg.training_params['epochs']} - Model: {model_key}\")\n",
        "\n",
        "            # Train for one epoch\n",
        "            model = train_model(model, train_loader, val_loader, loss_fn, optimizer, cfg.device, epochs=1, model_name=model_key)\n",
        "\n",
        "            # Validation after each epoch\n",
        "            val_acc, val_loss = evaluate_model(model, val_loader, loss_fn, cfg.device)\n",
        "            print(f\"Validation - Accuracy: {val_acc:.4f}, Loss: {val_loss:.4f}\")\n",
        "\n",
        "            # Adjust learning rate\n",
        "            scheduler.step()\n",
        "\n",
        "            # Early stopping check\n",
        "            early_stopper(val_loss)\n",
        "            if early_stopper.early_stop:\n",
        "                print(\"Early stopping triggered.\")\n",
        "                break\n",
        "\n",
        "        # Save the trained model\n",
        "        torch.save(model.state_dict(), cfg.model_save_paths[model_key])\n",
        "        print(f\"{model_key} model saved successfully!\")\n",
        "\n",
        "        # Evaluate on the test set\n",
        "        print(f\"Evaluating {model_key} model on test data...\")\n",
        "        test_acc, test_loss = evaluate_model(model, test_loader, loss_fn, cfg.device)\n",
        "        print(f\"Test - Accuracy: {test_acc:.4f}, Loss: {test_loss:.4f}\")\n",
        "\n",
        "if __name__ == \"__main__\":\n",
        "    main()\n"
      ],
      "metadata": {
        "colab": {
          "base_uri": "https://localhost:8080/"
        },
        "id": "Tq10n4tkGIwO",
        "outputId": "d00a1c6d-608e-490b-fbb7-5cd2a1d1fe95"
      },
      "execution_count": 30,
      "outputs": [
        {
          "output_type": "stream",
          "name": "stdout",
          "text": [
            "\n",
            "Training model 1_4...\n",
            "Epoch: 1/50 - Model: 1_4\n",
            "Epoch: 1/1 - Model: 1_4\n"
          ]
        },
        {
          "output_type": "stream",
          "name": "stderr",
          "text": [
            "Training Epoch 1: 100%|██████████| 76/76 [00:09<00:00,  7.82it/s, Loss=0.0608, Accuracy=0.5146]\n"
          ]
        },
        {
          "output_type": "stream",
          "name": "stdout",
          "text": [
            "Validation - Accuracy: 0.6775, Loss: 0.7219\n",
            "\n",
            "Validation - Accuracy: 0.6325, Loss: 0.7625\n",
            "Epoch: 2/50 - Model: 1_4\n",
            "Epoch: 1/1 - Model: 1_4\n"
          ]
        },
        {
          "output_type": "stream",
          "name": "stderr",
          "text": [
            "Training Epoch 1: 100%|██████████| 76/76 [00:09<00:00,  8.05it/s, Loss=0.0458, Accuracy=0.6661]\n"
          ]
        },
        {
          "output_type": "stream",
          "name": "stdout",
          "text": [
            "Validation - Accuracy: 0.6750, Loss: 0.7857\n",
            "\n",
            "Validation - Accuracy: 0.6525, Loss: 0.8375\n",
            "EarlyStopping counter: 1 out of 5\n",
            "Epoch: 3/50 - Model: 1_4\n",
            "Epoch: 1/1 - Model: 1_4\n"
          ]
        },
        {
          "output_type": "stream",
          "name": "stderr",
          "text": [
            "Training Epoch 1: 100%|██████████| 76/76 [00:09<00:00,  8.12it/s, Loss=0.0438, Accuracy=0.7086]\n"
          ]
        },
        {
          "output_type": "stream",
          "name": "stdout",
          "text": [
            "Validation - Accuracy: 0.6375, Loss: 0.7798\n",
            "\n",
            "Validation - Accuracy: 0.6625, Loss: 0.7579\n",
            "EarlyStopping counter: 2 out of 5\n",
            "Epoch: 4/50 - Model: 1_4\n",
            "Epoch: 1/1 - Model: 1_4\n"
          ]
        },
        {
          "output_type": "stream",
          "name": "stderr",
          "text": [
            "Training Epoch 1: 100%|██████████| 76/76 [00:08<00:00,  8.85it/s, Loss=0.0371, Accuracy=0.7594]\n"
          ]
        },
        {
          "output_type": "stream",
          "name": "stdout",
          "text": [
            "Validation - Accuracy: 0.7800, Loss: 0.5378\n",
            "\n",
            "Validation - Accuracy: 0.8050, Loss: 0.5580\n",
            "Epoch: 5/50 - Model: 1_4\n",
            "Epoch: 1/1 - Model: 1_4\n"
          ]
        },
        {
          "output_type": "stream",
          "name": "stderr",
          "text": [
            "Training Epoch 1: 100%|██████████| 76/76 [00:08<00:00,  9.21it/s, Loss=0.0346, Accuracy=0.7719]\n"
          ]
        },
        {
          "output_type": "stream",
          "name": "stdout",
          "text": [
            "Validation - Accuracy: 0.6475, Loss: 0.8266\n",
            "\n",
            "Validation - Accuracy: 0.6425, Loss: 0.7660\n",
            "EarlyStopping counter: 1 out of 5\n",
            "Epoch: 6/50 - Model: 1_4\n",
            "Epoch: 1/1 - Model: 1_4\n"
          ]
        },
        {
          "output_type": "stream",
          "name": "stderr",
          "text": [
            "Training Epoch 1: 100%|██████████| 76/76 [00:08<00:00,  9.22it/s, Loss=0.0331, Accuracy=0.7802]\n"
          ]
        },
        {
          "output_type": "stream",
          "name": "stdout",
          "text": [
            "Validation - Accuracy: 0.7175, Loss: 0.5894\n",
            "\n",
            "Validation - Accuracy: 0.7150, Loss: 0.5820\n",
            "EarlyStopping counter: 2 out of 5\n",
            "Epoch: 7/50 - Model: 1_4\n",
            "Epoch: 1/1 - Model: 1_4\n"
          ]
        },
        {
          "output_type": "stream",
          "name": "stderr",
          "text": [
            "Training Epoch 1: 100%|██████████| 76/76 [00:08<00:00,  9.27it/s, Loss=0.0307, Accuracy=0.8077]\n"
          ]
        },
        {
          "output_type": "stream",
          "name": "stdout",
          "text": [
            "Validation - Accuracy: 0.6900, Loss: 0.7504\n",
            "\n",
            "Validation - Accuracy: 0.6925, Loss: 0.7590\n",
            "EarlyStopping counter: 3 out of 5\n",
            "Epoch: 8/50 - Model: 1_4\n",
            "Epoch: 1/1 - Model: 1_4\n"
          ]
        },
        {
          "output_type": "stream",
          "name": "stderr",
          "text": [
            "Training Epoch 1: 100%|██████████| 76/76 [00:08<00:00,  8.87it/s, Loss=0.0305, Accuracy=0.7885]\n"
          ]
        },
        {
          "output_type": "stream",
          "name": "stdout",
          "text": [
            "Validation - Accuracy: 0.7625, Loss: 0.5012\n",
            "\n",
            "Validation - Accuracy: 0.7800, Loss: 0.5035\n",
            "Epoch: 9/50 - Model: 1_4\n",
            "Epoch: 1/1 - Model: 1_4\n"
          ]
        },
        {
          "output_type": "stream",
          "name": "stderr",
          "text": [
            "Training Epoch 1: 100%|██████████| 76/76 [00:08<00:00,  8.65it/s, Loss=0.0307, Accuracy=0.7943]\n"
          ]
        },
        {
          "output_type": "stream",
          "name": "stdout",
          "text": [
            "Validation - Accuracy: 0.7375, Loss: 0.5565\n",
            "\n",
            "Validation - Accuracy: 0.7425, Loss: 0.5501\n",
            "EarlyStopping counter: 1 out of 5\n",
            "Epoch: 10/50 - Model: 1_4\n",
            "Epoch: 1/1 - Model: 1_4\n"
          ]
        },
        {
          "output_type": "stream",
          "name": "stderr",
          "text": [
            "Training Epoch 1: 100%|██████████| 76/76 [00:08<00:00,  8.45it/s, Loss=0.0286, Accuracy=0.8143]\n"
          ]
        },
        {
          "output_type": "stream",
          "name": "stdout",
          "text": [
            "Validation - Accuracy: 0.8325, Loss: 0.3629\n",
            "\n",
            "Validation - Accuracy: 0.8525, Loss: 0.3714\n",
            "Epoch: 11/50 - Model: 1_4\n",
            "Epoch: 1/1 - Model: 1_4\n"
          ]
        },
        {
          "output_type": "stream",
          "name": "stderr",
          "text": [
            "Training Epoch 1: 100%|██████████| 76/76 [00:09<00:00,  8.28it/s, Loss=0.0262, Accuracy=0.8460]\n"
          ]
        },
        {
          "output_type": "stream",
          "name": "stdout",
          "text": [
            "Validation - Accuracy: 0.8775, Loss: 0.2963\n",
            "\n",
            "Validation - Accuracy: 0.8925, Loss: 0.2771\n",
            "Epoch: 12/50 - Model: 1_4\n",
            "Epoch: 1/1 - Model: 1_4\n"
          ]
        },
        {
          "output_type": "stream",
          "name": "stderr",
          "text": [
            "Training Epoch 1: 100%|██████████| 76/76 [00:09<00:00,  8.06it/s, Loss=0.0249, Accuracy=0.8659]\n"
          ]
        },
        {
          "output_type": "stream",
          "name": "stdout",
          "text": [
            "Validation - Accuracy: 0.9025, Loss: 0.2687\n",
            "\n",
            "Validation - Accuracy: 0.8875, Loss: 0.2900\n",
            "EarlyStopping counter: 1 out of 5\n",
            "Epoch: 13/50 - Model: 1_4\n",
            "Epoch: 1/1 - Model: 1_4\n"
          ]
        },
        {
          "output_type": "stream",
          "name": "stderr",
          "text": [
            "Training Epoch 1: 100%|██████████| 76/76 [00:09<00:00,  8.10it/s, Loss=0.0218, Accuracy=0.8693]\n"
          ]
        },
        {
          "output_type": "stream",
          "name": "stdout",
          "text": [
            "Validation - Accuracy: 0.8775, Loss: 0.2912\n",
            "\n",
            "Validation - Accuracy: 0.8825, Loss: 0.2815\n",
            "EarlyStopping counter: 2 out of 5\n",
            "Epoch: 14/50 - Model: 1_4\n",
            "Epoch: 1/1 - Model: 1_4\n"
          ]
        },
        {
          "output_type": "stream",
          "name": "stderr",
          "text": [
            "Training Epoch 1: 100%|██████████| 76/76 [00:09<00:00,  8.18it/s, Loss=0.0221, Accuracy=0.8676]\n"
          ]
        },
        {
          "output_type": "stream",
          "name": "stdout",
          "text": [
            "Validation - Accuracy: 0.9050, Loss: 0.2580\n",
            "\n",
            "Validation - Accuracy: 0.8975, Loss: 0.2500\n",
            "Epoch: 15/50 - Model: 1_4\n",
            "Epoch: 1/1 - Model: 1_4\n"
          ]
        },
        {
          "output_type": "stream",
          "name": "stderr",
          "text": [
            "Training Epoch 1: 100%|██████████| 76/76 [00:09<00:00,  8.28it/s, Loss=0.0212, Accuracy=0.8693]\n"
          ]
        },
        {
          "output_type": "stream",
          "name": "stdout",
          "text": [
            "Validation - Accuracy: 0.8950, Loss: 0.2760\n",
            "\n",
            "Validation - Accuracy: 0.8850, Loss: 0.2886\n",
            "EarlyStopping counter: 1 out of 5\n",
            "Epoch: 16/50 - Model: 1_4\n",
            "Epoch: 1/1 - Model: 1_4\n"
          ]
        },
        {
          "output_type": "stream",
          "name": "stderr",
          "text": [
            "Training Epoch 1: 100%|██████████| 76/76 [00:08<00:00,  8.48it/s, Loss=0.0227, Accuracy=0.8743]\n"
          ]
        },
        {
          "output_type": "stream",
          "name": "stdout",
          "text": [
            "Validation - Accuracy: 0.9000, Loss: 0.2763\n",
            "\n",
            "Validation - Accuracy: 0.9025, Loss: 0.2569\n",
            "EarlyStopping counter: 2 out of 5\n",
            "Epoch: 17/50 - Model: 1_4\n",
            "Epoch: 1/1 - Model: 1_4\n"
          ]
        },
        {
          "output_type": "stream",
          "name": "stderr",
          "text": [
            "Training Epoch 1: 100%|██████████| 76/76 [00:09<00:00,  8.41it/s, Loss=0.0222, Accuracy=0.8551]\n"
          ]
        },
        {
          "output_type": "stream",
          "name": "stdout",
          "text": [
            "Validation - Accuracy: 0.8825, Loss: 0.2838\n",
            "\n",
            "Validation - Accuracy: 0.8725, Loss: 0.2811\n",
            "EarlyStopping counter: 3 out of 5\n",
            "Epoch: 18/50 - Model: 1_4\n",
            "Epoch: 1/1 - Model: 1_4\n"
          ]
        },
        {
          "output_type": "stream",
          "name": "stderr",
          "text": [
            "Training Epoch 1: 100%|██████████| 76/76 [00:09<00:00,  8.27it/s, Loss=0.0210, Accuracy=0.8834]\n"
          ]
        },
        {
          "output_type": "stream",
          "name": "stdout",
          "text": [
            "Validation - Accuracy: 0.8775, Loss: 0.2822\n",
            "\n",
            "Validation - Accuracy: 0.8750, Loss: 0.2865\n",
            "EarlyStopping counter: 4 out of 5\n",
            "Epoch: 19/50 - Model: 1_4\n",
            "Epoch: 1/1 - Model: 1_4\n"
          ]
        },
        {
          "output_type": "stream",
          "name": "stderr",
          "text": [
            "Training Epoch 1: 100%|██████████| 76/76 [00:09<00:00,  8.25it/s, Loss=0.0211, Accuracy=0.8801]\n"
          ]
        },
        {
          "output_type": "stream",
          "name": "stdout",
          "text": [
            "Validation - Accuracy: 0.9175, Loss: 0.2390\n",
            "\n",
            "Validation - Accuracy: 0.9200, Loss: 0.2236\n",
            "Epoch: 20/50 - Model: 1_4\n",
            "Epoch: 1/1 - Model: 1_4\n"
          ]
        },
        {
          "output_type": "stream",
          "name": "stderr",
          "text": [
            "Training Epoch 1: 100%|██████████| 76/76 [00:09<00:00,  8.18it/s, Loss=0.0191, Accuracy=0.8826]\n"
          ]
        },
        {
          "output_type": "stream",
          "name": "stdout",
          "text": [
            "Validation - Accuracy: 0.9000, Loss: 0.2232\n",
            "\n",
            "Validation - Accuracy: 0.9125, Loss: 0.2502\n",
            "EarlyStopping counter: 1 out of 5\n",
            "Epoch: 21/50 - Model: 1_4\n",
            "Epoch: 1/1 - Model: 1_4\n"
          ]
        },
        {
          "output_type": "stream",
          "name": "stderr",
          "text": [
            "Training Epoch 1: 100%|██████████| 76/76 [00:09<00:00,  8.24it/s, Loss=0.0198, Accuracy=0.8859]\n"
          ]
        },
        {
          "output_type": "stream",
          "name": "stdout",
          "text": [
            "Validation - Accuracy: 0.9000, Loss: 0.2725\n",
            "\n",
            "Validation - Accuracy: 0.9025, Loss: 0.2560\n",
            "EarlyStopping counter: 2 out of 5\n",
            "Epoch: 22/50 - Model: 1_4\n",
            "Epoch: 1/1 - Model: 1_4\n"
          ]
        },
        {
          "output_type": "stream",
          "name": "stderr",
          "text": [
            "Training Epoch 1: 100%|██████████| 76/76 [00:09<00:00,  8.14it/s, Loss=0.0201, Accuracy=0.8826]\n"
          ]
        },
        {
          "output_type": "stream",
          "name": "stdout",
          "text": [
            "Validation - Accuracy: 0.9150, Loss: 0.2420\n",
            "\n",
            "Validation - Accuracy: 0.9000, Loss: 0.2654\n",
            "EarlyStopping counter: 3 out of 5\n",
            "Epoch: 23/50 - Model: 1_4\n",
            "Epoch: 1/1 - Model: 1_4\n"
          ]
        },
        {
          "output_type": "stream",
          "name": "stderr",
          "text": [
            "Training Epoch 1: 100%|██████████| 76/76 [00:09<00:00,  7.97it/s, Loss=0.0203, Accuracy=0.8843]\n"
          ]
        },
        {
          "output_type": "stream",
          "name": "stdout",
          "text": [
            "Validation - Accuracy: 0.9050, Loss: 0.2396\n",
            "\n",
            "Validation - Accuracy: 0.9100, Loss: 0.2399\n",
            "EarlyStopping counter: 4 out of 5\n",
            "Epoch: 24/50 - Model: 1_4\n",
            "Epoch: 1/1 - Model: 1_4\n"
          ]
        },
        {
          "output_type": "stream",
          "name": "stderr",
          "text": [
            "Training Epoch 1: 100%|██████████| 76/76 [00:09<00:00,  8.01it/s, Loss=0.0208, Accuracy=0.8751]\n"
          ]
        },
        {
          "output_type": "stream",
          "name": "stdout",
          "text": [
            "Validation - Accuracy: 0.8975, Loss: 0.2784\n",
            "\n",
            "Validation - Accuracy: 0.8900, Loss: 0.2797\n",
            "EarlyStopping counter: 5 out of 5\n",
            "Early stopping triggered.\n",
            "1_4 model saved successfully!\n",
            "Evaluating 1_4 model on test data...\n",
            "Test - Accuracy: 0.8800, Loss: 0.2715\n",
            "\n",
            "Training model 5_8...\n",
            "Epoch: 1/50 - Model: 5_8\n",
            "Epoch: 1/1 - Model: 5_8\n"
          ]
        },
        {
          "output_type": "stream",
          "name": "stderr",
          "text": [
            "Training Epoch 1: 100%|██████████| 75/75 [00:08<00:00,  8.41it/s, Loss=0.0731, Accuracy=0.4642]\n"
          ]
        },
        {
          "output_type": "stream",
          "name": "stdout",
          "text": [
            "Validation - Accuracy: 0.5425, Loss: 1.1003\n",
            "\n",
            "Validation - Accuracy: 0.5450, Loss: 1.1068\n",
            "Epoch: 2/50 - Model: 5_8\n",
            "Epoch: 1/1 - Model: 5_8\n"
          ]
        },
        {
          "output_type": "stream",
          "name": "stderr",
          "text": [
            "Training Epoch 1: 100%|██████████| 75/75 [00:08<00:00,  8.42it/s, Loss=0.0545, Accuracy=0.6058]\n"
          ]
        },
        {
          "output_type": "stream",
          "name": "stdout",
          "text": [
            "Validation - Accuracy: 0.6000, Loss: 1.0782\n",
            "\n",
            "Validation - Accuracy: 0.6025, Loss: 1.0520\n",
            "Epoch: 3/50 - Model: 5_8\n",
            "Epoch: 1/1 - Model: 5_8\n"
          ]
        },
        {
          "output_type": "stream",
          "name": "stderr",
          "text": [
            "Training Epoch 1: 100%|██████████| 75/75 [00:09<00:00,  8.31it/s, Loss=0.0470, Accuracy=0.6725]\n"
          ]
        },
        {
          "output_type": "stream",
          "name": "stdout",
          "text": [
            "Validation - Accuracy: 0.7775, Loss: 0.5558\n",
            "\n",
            "Validation - Accuracy: 0.7975, Loss: 0.5378\n",
            "Epoch: 4/50 - Model: 5_8\n",
            "Epoch: 1/1 - Model: 5_8\n"
          ]
        },
        {
          "output_type": "stream",
          "name": "stderr",
          "text": [
            "Training Epoch 1: 100%|██████████| 75/75 [00:08<00:00,  8.46it/s, Loss=0.0425, Accuracy=0.7067]\n"
          ]
        },
        {
          "output_type": "stream",
          "name": "stdout",
          "text": [
            "Validation - Accuracy: 0.4850, Loss: 1.3120\n",
            "\n",
            "Validation - Accuracy: 0.5300, Loss: 1.2620\n",
            "EarlyStopping counter: 1 out of 5\n",
            "Epoch: 5/50 - Model: 5_8\n",
            "Epoch: 1/1 - Model: 5_8\n"
          ]
        },
        {
          "output_type": "stream",
          "name": "stderr",
          "text": [
            "Training Epoch 1: 100%|██████████| 75/75 [00:08<00:00,  8.54it/s, Loss=0.0384, Accuracy=0.7317]\n"
          ]
        },
        {
          "output_type": "stream",
          "name": "stdout",
          "text": [
            "Validation - Accuracy: 0.7000, Loss: 0.7608\n",
            "\n",
            "Validation - Accuracy: 0.6850, Loss: 0.7598\n",
            "EarlyStopping counter: 2 out of 5\n",
            "Epoch: 6/50 - Model: 5_8\n",
            "Epoch: 1/1 - Model: 5_8\n"
          ]
        },
        {
          "output_type": "stream",
          "name": "stderr",
          "text": [
            "Training Epoch 1: 100%|██████████| 75/75 [00:08<00:00,  8.81it/s, Loss=0.0387, Accuracy=0.7325]\n"
          ]
        },
        {
          "output_type": "stream",
          "name": "stdout",
          "text": [
            "Validation - Accuracy: 0.7575, Loss: 0.5964\n",
            "\n",
            "Validation - Accuracy: 0.7500, Loss: 0.6418\n",
            "EarlyStopping counter: 3 out of 5\n",
            "Epoch: 7/50 - Model: 5_8\n",
            "Epoch: 1/1 - Model: 5_8\n"
          ]
        },
        {
          "output_type": "stream",
          "name": "stderr",
          "text": [
            "Training Epoch 1: 100%|██████████| 75/75 [00:08<00:00,  9.05it/s, Loss=0.0363, Accuracy=0.7392]\n"
          ]
        },
        {
          "output_type": "stream",
          "name": "stdout",
          "text": [
            "Validation - Accuracy: 0.7225, Loss: 0.6283\n",
            "\n",
            "Validation - Accuracy: 0.7650, Loss: 0.6068\n",
            "EarlyStopping counter: 4 out of 5\n",
            "Epoch: 8/50 - Model: 5_8\n",
            "Epoch: 1/1 - Model: 5_8\n"
          ]
        },
        {
          "output_type": "stream",
          "name": "stderr",
          "text": [
            "Training Epoch 1: 100%|██████████| 75/75 [00:07<00:00,  9.68it/s, Loss=0.0342, Accuracy=0.7575]\n"
          ]
        },
        {
          "output_type": "stream",
          "name": "stdout",
          "text": [
            "Validation - Accuracy: 0.7925, Loss: 0.5259\n",
            "\n",
            "Validation - Accuracy: 0.7900, Loss: 0.5635\n",
            "EarlyStopping counter: 5 out of 5\n",
            "Early stopping triggered.\n",
            "5_8 model saved successfully!\n",
            "Evaluating 5_8 model on test data...\n",
            "Test - Accuracy: 0.7775, Loss: 0.5073\n",
            "\n",
            "Training model 9_12...\n",
            "Epoch: 1/50 - Model: 9_12\n",
            "Epoch: 1/1 - Model: 9_12\n"
          ]
        },
        {
          "output_type": "stream",
          "name": "stderr",
          "text": [
            "Training Epoch 1: 100%|██████████| 75/75 [00:09<00:00,  8.22it/s, Loss=0.0907, Accuracy=0.2783]\n"
          ]
        },
        {
          "output_type": "stream",
          "name": "stdout",
          "text": [
            "Validation - Accuracy: 0.3925, Loss: 1.2228\n",
            "\n",
            "Validation - Accuracy: 0.3825, Loss: 1.2381\n",
            "Epoch: 2/50 - Model: 9_12\n",
            "Epoch: 1/1 - Model: 9_12\n"
          ]
        },
        {
          "output_type": "stream",
          "name": "stderr",
          "text": [
            "Training Epoch 1: 100%|██████████| 75/75 [00:08<00:00,  8.86it/s, Loss=0.0751, Accuracy=0.4133]\n"
          ]
        },
        {
          "output_type": "stream",
          "name": "stdout",
          "text": [
            "Validation - Accuracy: 0.3950, Loss: 1.2151\n",
            "\n",
            "Validation - Accuracy: 0.4325, Loss: 1.1606\n",
            "Epoch: 3/50 - Model: 9_12\n",
            "Epoch: 1/1 - Model: 9_12\n"
          ]
        },
        {
          "output_type": "stream",
          "name": "stderr",
          "text": [
            "Training Epoch 1: 100%|██████████| 75/75 [00:08<00:00,  9.10it/s, Loss=0.0706, Accuracy=0.4425]\n"
          ]
        },
        {
          "output_type": "stream",
          "name": "stdout",
          "text": [
            "Validation - Accuracy: 0.4400, Loss: 1.0504\n",
            "\n",
            "Validation - Accuracy: 0.4275, Loss: 1.0809\n",
            "Epoch: 4/50 - Model: 9_12\n",
            "Epoch: 1/1 - Model: 9_12\n"
          ]
        },
        {
          "output_type": "stream",
          "name": "stderr",
          "text": [
            "Training Epoch 1: 100%|██████████| 75/75 [00:08<00:00,  9.35it/s, Loss=0.0682, Accuracy=0.4608]\n"
          ]
        },
        {
          "output_type": "stream",
          "name": "stdout",
          "text": [
            "Validation - Accuracy: 0.4750, Loss: 1.0744\n",
            "\n",
            "Validation - Accuracy: 0.4675, Loss: 1.0534\n",
            "Epoch: 5/50 - Model: 9_12\n",
            "Epoch: 1/1 - Model: 9_12\n"
          ]
        },
        {
          "output_type": "stream",
          "name": "stderr",
          "text": [
            "Training Epoch 1: 100%|██████████| 75/75 [00:07<00:00,  9.73it/s, Loss=0.0693, Accuracy=0.4683]\n"
          ]
        },
        {
          "output_type": "stream",
          "name": "stdout",
          "text": [
            "Validation - Accuracy: 0.4325, Loss: 1.1367\n",
            "\n",
            "Validation - Accuracy: 0.4275, Loss: 1.1074\n",
            "EarlyStopping counter: 1 out of 5\n",
            "Epoch: 6/50 - Model: 9_12\n",
            "Epoch: 1/1 - Model: 9_12\n"
          ]
        },
        {
          "output_type": "stream",
          "name": "stderr",
          "text": [
            "Training Epoch 1: 100%|██████████| 75/75 [00:07<00:00,  9.80it/s, Loss=0.0663, Accuracy=0.4900]\n"
          ]
        },
        {
          "output_type": "stream",
          "name": "stdout",
          "text": [
            "Validation - Accuracy: 0.3450, Loss: 1.7673\n",
            "\n",
            "Validation - Accuracy: 0.3375, Loss: 1.8134\n",
            "EarlyStopping counter: 2 out of 5\n",
            "Epoch: 7/50 - Model: 9_12\n",
            "Epoch: 1/1 - Model: 9_12\n"
          ]
        },
        {
          "output_type": "stream",
          "name": "stderr",
          "text": [
            "Training Epoch 1: 100%|██████████| 75/75 [00:07<00:00,  9.94it/s, Loss=0.0646, Accuracy=0.5142]\n"
          ]
        },
        {
          "output_type": "stream",
          "name": "stdout",
          "text": [
            "Validation - Accuracy: 0.5250, Loss: 0.9909\n",
            "\n",
            "Validation - Accuracy: 0.5225, Loss: 0.9747\n",
            "Epoch: 8/50 - Model: 9_12\n",
            "Epoch: 1/1 - Model: 9_12\n"
          ]
        },
        {
          "output_type": "stream",
          "name": "stderr",
          "text": [
            "Training Epoch 1: 100%|██████████| 75/75 [00:07<00:00, 10.00it/s, Loss=0.0650, Accuracy=0.4958]\n"
          ]
        },
        {
          "output_type": "stream",
          "name": "stdout",
          "text": [
            "Validation - Accuracy: 0.5075, Loss: 1.0059\n",
            "\n",
            "Validation - Accuracy: 0.4950, Loss: 1.0127\n",
            "EarlyStopping counter: 1 out of 5\n",
            "Epoch: 9/50 - Model: 9_12\n",
            "Epoch: 1/1 - Model: 9_12\n"
          ]
        },
        {
          "output_type": "stream",
          "name": "stderr",
          "text": [
            "Training Epoch 1: 100%|██████████| 75/75 [00:07<00:00,  9.86it/s, Loss=0.0621, Accuracy=0.5242]\n"
          ]
        },
        {
          "output_type": "stream",
          "name": "stdout",
          "text": [
            "Validation - Accuracy: 0.5425, Loss: 0.9428\n",
            "\n",
            "Validation - Accuracy: 0.5900, Loss: 0.9106\n",
            "Epoch: 10/50 - Model: 9_12\n",
            "Epoch: 1/1 - Model: 9_12\n"
          ]
        },
        {
          "output_type": "stream",
          "name": "stderr",
          "text": [
            "Training Epoch 1: 100%|██████████| 75/75 [00:07<00:00,  9.98it/s, Loss=0.0625, Accuracy=0.5317]\n"
          ]
        },
        {
          "output_type": "stream",
          "name": "stdout",
          "text": [
            "Validation - Accuracy: 0.5400, Loss: 0.9025\n",
            "\n",
            "Validation - Accuracy: 0.5225, Loss: 0.9693\n",
            "EarlyStopping counter: 1 out of 5\n",
            "Epoch: 11/50 - Model: 9_12\n",
            "Epoch: 1/1 - Model: 9_12\n"
          ]
        },
        {
          "output_type": "stream",
          "name": "stderr",
          "text": [
            "Training Epoch 1: 100%|██████████| 75/75 [00:07<00:00,  9.97it/s, Loss=0.0592, Accuracy=0.5608]\n"
          ]
        },
        {
          "output_type": "stream",
          "name": "stdout",
          "text": [
            "Validation - Accuracy: 0.5850, Loss: 0.8600\n",
            "\n",
            "Validation - Accuracy: 0.5575, Loss: 0.8804\n",
            "Epoch: 12/50 - Model: 9_12\n",
            "Epoch: 1/1 - Model: 9_12\n"
          ]
        },
        {
          "output_type": "stream",
          "name": "stderr",
          "text": [
            "Training Epoch 1: 100%|██████████| 75/75 [00:07<00:00,  9.98it/s, Loss=0.0585, Accuracy=0.5525]\n"
          ]
        },
        {
          "output_type": "stream",
          "name": "stdout",
          "text": [
            "Validation - Accuracy: 0.5850, Loss: 0.8547\n",
            "\n",
            "Validation - Accuracy: 0.6350, Loss: 0.8147\n",
            "Epoch: 13/50 - Model: 9_12\n",
            "Epoch: 1/1 - Model: 9_12\n"
          ]
        },
        {
          "output_type": "stream",
          "name": "stderr",
          "text": [
            "Training Epoch 1: 100%|██████████| 75/75 [00:07<00:00,  9.76it/s, Loss=0.0577, Accuracy=0.5633]\n"
          ]
        },
        {
          "output_type": "stream",
          "name": "stdout",
          "text": [
            "Validation - Accuracy: 0.6225, Loss: 0.8362\n",
            "\n",
            "Validation - Accuracy: 0.6100, Loss: 0.8566\n",
            "EarlyStopping counter: 1 out of 5\n",
            "Epoch: 14/50 - Model: 9_12\n",
            "Epoch: 1/1 - Model: 9_12\n"
          ]
        },
        {
          "output_type": "stream",
          "name": "stderr",
          "text": [
            "Training Epoch 1: 100%|██████████| 75/75 [00:07<00:00,  9.99it/s, Loss=0.0577, Accuracy=0.5600]\n"
          ]
        },
        {
          "output_type": "stream",
          "name": "stdout",
          "text": [
            "Validation - Accuracy: 0.5750, Loss: 0.8645\n",
            "\n",
            "Validation - Accuracy: 0.6125, Loss: 0.8587\n",
            "EarlyStopping counter: 2 out of 5\n",
            "Epoch: 15/50 - Model: 9_12\n",
            "Epoch: 1/1 - Model: 9_12\n"
          ]
        },
        {
          "output_type": "stream",
          "name": "stderr",
          "text": [
            "Training Epoch 1: 100%|██████████| 75/75 [00:07<00:00,  9.77it/s, Loss=0.0574, Accuracy=0.5758]\n"
          ]
        },
        {
          "output_type": "stream",
          "name": "stdout",
          "text": [
            "Validation - Accuracy: 0.6300, Loss: 0.8687\n",
            "\n",
            "Validation - Accuracy: 0.6150, Loss: 0.8569\n",
            "EarlyStopping counter: 3 out of 5\n",
            "Epoch: 16/50 - Model: 9_12\n",
            "Epoch: 1/1 - Model: 9_12\n"
          ]
        },
        {
          "output_type": "stream",
          "name": "stderr",
          "text": [
            "Training Epoch 1: 100%|██████████| 75/75 [00:07<00:00,  9.97it/s, Loss=0.0574, Accuracy=0.5767]\n"
          ]
        },
        {
          "output_type": "stream",
          "name": "stdout",
          "text": [
            "Validation - Accuracy: 0.6100, Loss: 0.8527\n",
            "\n",
            "Validation - Accuracy: 0.6200, Loss: 0.8144\n",
            "EarlyStopping counter: 4 out of 5\n",
            "Epoch: 17/50 - Model: 9_12\n",
            "Epoch: 1/1 - Model: 9_12\n"
          ]
        },
        {
          "output_type": "stream",
          "name": "stderr",
          "text": [
            "Training Epoch 1: 100%|██████████| 75/75 [00:07<00:00,  9.92it/s, Loss=0.0585, Accuracy=0.5675]\n"
          ]
        },
        {
          "output_type": "stream",
          "name": "stdout",
          "text": [
            "Validation - Accuracy: 0.6025, Loss: 0.8811\n",
            "\n",
            "Validation - Accuracy: 0.5975, Loss: 0.8488\n",
            "EarlyStopping counter: 5 out of 5\n",
            "Early stopping triggered.\n",
            "9_12 model saved successfully!\n",
            "Evaluating 9_12 model on test data...\n",
            "Test - Accuracy: 0.5550, Loss: 0.8723\n",
            "\n",
            "Training model 1_12...\n",
            "Epoch: 1/50 - Model: 1_12\n",
            "Epoch: 1/1 - Model: 1_12\n"
          ]
        },
        {
          "output_type": "stream",
          "name": "stderr",
          "text": [
            "Training Epoch 1: 100%|██████████| 226/226 [00:25<00:00,  8.80it/s, Loss=0.1158, Accuracy=0.3246]\n"
          ]
        },
        {
          "output_type": "stream",
          "name": "stdout",
          "text": [
            "Validation - Accuracy: 0.2992, Loss: 1.7820\n",
            "\n",
            "Validation - Accuracy: 0.3142, Loss: 1.7693\n",
            "Epoch: 2/50 - Model: 1_12\n",
            "Epoch: 1/1 - Model: 1_12\n"
          ]
        },
        {
          "output_type": "stream",
          "name": "stderr",
          "text": [
            "Training Epoch 1: 100%|██████████| 226/226 [00:24<00:00,  9.31it/s, Loss=0.0921, Accuracy=0.4132]\n"
          ]
        },
        {
          "output_type": "stream",
          "name": "stdout",
          "text": [
            "Validation - Accuracy: 0.3892, Loss: 1.6259\n",
            "\n",
            "Validation - Accuracy: 0.3542, Loss: 1.6355\n",
            "Epoch: 3/50 - Model: 1_12\n",
            "Epoch: 1/1 - Model: 1_12\n"
          ]
        },
        {
          "output_type": "stream",
          "name": "stderr",
          "text": [
            "Training Epoch 1: 100%|██████████| 226/226 [00:25<00:00,  8.97it/s, Loss=0.0819, Accuracy=0.4746]\n"
          ]
        },
        {
          "output_type": "stream",
          "name": "stdout",
          "text": [
            "Validation - Accuracy: 0.1642, Loss: 7.1480\n",
            "\n",
            "Validation - Accuracy: 0.1617, Loss: 7.0760\n",
            "EarlyStopping counter: 1 out of 5\n",
            "Epoch: 4/50 - Model: 1_12\n",
            "Epoch: 1/1 - Model: 1_12\n"
          ]
        },
        {
          "output_type": "stream",
          "name": "stderr",
          "text": [
            "Training Epoch 1: 100%|██████████| 226/226 [00:25<00:00,  8.86it/s, Loss=0.0754, Accuracy=0.5210]\n"
          ]
        },
        {
          "output_type": "stream",
          "name": "stdout",
          "text": [
            "Validation - Accuracy: 0.4442, Loss: 1.6298\n",
            "\n",
            "Validation - Accuracy: 0.4450, Loss: 1.6154\n",
            "Epoch: 5/50 - Model: 1_12\n",
            "Epoch: 1/1 - Model: 1_12\n"
          ]
        },
        {
          "output_type": "stream",
          "name": "stderr",
          "text": [
            "Training Epoch 1: 100%|██████████| 226/226 [00:25<00:00,  8.79it/s, Loss=0.0686, Accuracy=0.5565]\n"
          ]
        },
        {
          "output_type": "stream",
          "name": "stdout",
          "text": [
            "Validation - Accuracy: 0.6042, Loss: 0.9868\n",
            "\n",
            "Validation - Accuracy: 0.6042, Loss: 0.9721\n",
            "Epoch: 6/50 - Model: 1_12\n",
            "Epoch: 1/1 - Model: 1_12\n"
          ]
        },
        {
          "output_type": "stream",
          "name": "stderr",
          "text": [
            "Training Epoch 1: 100%|██████████| 226/226 [00:25<00:00,  8.97it/s, Loss=0.0661, Accuracy=0.5712]\n"
          ]
        },
        {
          "output_type": "stream",
          "name": "stdout",
          "text": [
            "Validation - Accuracy: 0.6183, Loss: 1.0044\n",
            "\n",
            "Validation - Accuracy: 0.5992, Loss: 0.9802\n",
            "EarlyStopping counter: 1 out of 5\n",
            "Epoch: 7/50 - Model: 1_12\n",
            "Epoch: 1/1 - Model: 1_12\n"
          ]
        },
        {
          "output_type": "stream",
          "name": "stderr",
          "text": [
            "Training Epoch 1: 100%|██████████| 226/226 [00:23<00:00,  9.56it/s, Loss=0.0642, Accuracy=0.5748]\n"
          ]
        },
        {
          "output_type": "stream",
          "name": "stdout",
          "text": [
            "Validation - Accuracy: 0.6000, Loss: 0.9664\n",
            "\n",
            "Validation - Accuracy: 0.6158, Loss: 0.9686\n",
            "EarlyStopping counter: 2 out of 5\n",
            "Epoch: 8/50 - Model: 1_12\n",
            "Epoch: 1/1 - Model: 1_12\n"
          ]
        },
        {
          "output_type": "stream",
          "name": "stderr",
          "text": [
            "Training Epoch 1: 100%|██████████| 226/226 [00:25<00:00,  8.86it/s, Loss=0.0603, Accuracy=0.5940]\n"
          ]
        },
        {
          "output_type": "stream",
          "name": "stdout",
          "text": [
            "Validation - Accuracy: 0.4342, Loss: 1.8455\n",
            "\n",
            "Validation - Accuracy: 0.4242, Loss: 1.8957\n",
            "EarlyStopping counter: 3 out of 5\n",
            "Epoch: 9/50 - Model: 1_12\n",
            "Epoch: 1/1 - Model: 1_12\n"
          ]
        },
        {
          "output_type": "stream",
          "name": "stderr",
          "text": [
            "Training Epoch 1: 100%|██████████| 226/226 [00:25<00:00,  9.00it/s, Loss=0.0579, Accuracy=0.6182]\n"
          ]
        },
        {
          "output_type": "stream",
          "name": "stdout",
          "text": [
            "Validation - Accuracy: 0.6583, Loss: 0.8392\n",
            "\n",
            "Validation - Accuracy: 0.6467, Loss: 0.8488\n",
            "Epoch: 10/50 - Model: 1_12\n",
            "Epoch: 1/1 - Model: 1_12\n"
          ]
        },
        {
          "output_type": "stream",
          "name": "stderr",
          "text": [
            "Training Epoch 1: 100%|██████████| 226/226 [00:25<00:00,  8.84it/s, Loss=0.0566, Accuracy=0.6165]\n"
          ]
        },
        {
          "output_type": "stream",
          "name": "stdout",
          "text": [
            "Validation - Accuracy: 0.6050, Loss: 0.9874\n",
            "\n",
            "Validation - Accuracy: 0.6233, Loss: 0.9680\n",
            "EarlyStopping counter: 1 out of 5\n",
            "Epoch: 11/50 - Model: 1_12\n",
            "Epoch: 1/1 - Model: 1_12\n"
          ]
        },
        {
          "output_type": "stream",
          "name": "stderr",
          "text": [
            "Training Epoch 1: 100%|██████████| 226/226 [00:24<00:00,  9.26it/s, Loss=0.0501, Accuracy=0.6695]\n"
          ]
        },
        {
          "output_type": "stream",
          "name": "stdout",
          "text": [
            "Validation - Accuracy: 0.7300, Loss: 0.6593\n",
            "\n",
            "Validation - Accuracy: 0.7508, Loss: 0.6476\n",
            "Epoch: 12/50 - Model: 1_12\n",
            "Epoch: 1/1 - Model: 1_12\n"
          ]
        },
        {
          "output_type": "stream",
          "name": "stderr",
          "text": [
            "Training Epoch 1: 100%|██████████| 226/226 [00:25<00:00,  8.91it/s, Loss=0.0490, Accuracy=0.6801]\n"
          ]
        },
        {
          "output_type": "stream",
          "name": "stdout",
          "text": [
            "Validation - Accuracy: 0.7308, Loss: 0.6209\n",
            "\n",
            "Validation - Accuracy: 0.7383, Loss: 0.6280\n",
            "Epoch: 13/50 - Model: 1_12\n",
            "Epoch: 1/1 - Model: 1_12\n"
          ]
        },
        {
          "output_type": "stream",
          "name": "stderr",
          "text": [
            "Training Epoch 1: 100%|██████████| 226/226 [00:26<00:00,  8.68it/s, Loss=0.0474, Accuracy=0.6879]\n"
          ]
        },
        {
          "output_type": "stream",
          "name": "stdout",
          "text": [
            "Validation - Accuracy: 0.7367, Loss: 0.6546\n",
            "\n",
            "Validation - Accuracy: 0.7417, Loss: 0.6491\n",
            "EarlyStopping counter: 1 out of 5\n",
            "Epoch: 14/50 - Model: 1_12\n",
            "Epoch: 1/1 - Model: 1_12\n"
          ]
        },
        {
          "output_type": "stream",
          "name": "stderr",
          "text": [
            "Training Epoch 1: 100%|██████████| 226/226 [00:26<00:00,  8.67it/s, Loss=0.0472, Accuracy=0.6887]\n"
          ]
        },
        {
          "output_type": "stream",
          "name": "stdout",
          "text": [
            "Validation - Accuracy: 0.7308, Loss: 0.6421\n",
            "\n",
            "Validation - Accuracy: 0.7342, Loss: 0.6436\n",
            "EarlyStopping counter: 2 out of 5\n",
            "Epoch: 15/50 - Model: 1_12\n",
            "Epoch: 1/1 - Model: 1_12\n"
          ]
        },
        {
          "output_type": "stream",
          "name": "stderr",
          "text": [
            "Training Epoch 1: 100%|██████████| 226/226 [00:26<00:00,  8.68it/s, Loss=0.0447, Accuracy=0.7020]\n"
          ]
        },
        {
          "output_type": "stream",
          "name": "stdout",
          "text": [
            "Validation - Accuracy: 0.7342, Loss: 0.6104\n",
            "\n",
            "Validation - Accuracy: 0.7500, Loss: 0.6118\n",
            "Epoch: 16/50 - Model: 1_12\n",
            "Epoch: 1/1 - Model: 1_12\n"
          ]
        },
        {
          "output_type": "stream",
          "name": "stderr",
          "text": [
            "Training Epoch 1: 100%|██████████| 226/226 [00:25<00:00,  8.88it/s, Loss=0.0451, Accuracy=0.7029]\n"
          ]
        },
        {
          "output_type": "stream",
          "name": "stdout",
          "text": [
            "Validation - Accuracy: 0.7683, Loss: 0.6142\n",
            "\n",
            "Validation - Accuracy: 0.7475, Loss: 0.6134\n",
            "EarlyStopping counter: 1 out of 5\n",
            "Epoch: 17/50 - Model: 1_12\n",
            "Epoch: 1/1 - Model: 1_12\n"
          ]
        },
        {
          "output_type": "stream",
          "name": "stderr",
          "text": [
            "Training Epoch 1: 100%|██████████| 226/226 [00:24<00:00,  9.41it/s, Loss=0.0437, Accuracy=0.7017]\n"
          ]
        },
        {
          "output_type": "stream",
          "name": "stdout",
          "text": [
            "Validation - Accuracy: 0.7642, Loss: 0.6032\n",
            "\n",
            "Validation - Accuracy: 0.7583, Loss: 0.5911\n",
            "Epoch: 18/50 - Model: 1_12\n",
            "Epoch: 1/1 - Model: 1_12\n"
          ]
        },
        {
          "output_type": "stream",
          "name": "stderr",
          "text": [
            "Training Epoch 1: 100%|██████████| 226/226 [00:25<00:00,  8.81it/s, Loss=0.0438, Accuracy=0.7048]\n"
          ]
        },
        {
          "output_type": "stream",
          "name": "stdout",
          "text": [
            "Validation - Accuracy: 0.7525, Loss: 0.6067\n",
            "\n",
            "Validation - Accuracy: 0.7658, Loss: 0.5918\n",
            "EarlyStopping counter: 1 out of 5\n",
            "Epoch: 19/50 - Model: 1_12\n",
            "Epoch: 1/1 - Model: 1_12\n"
          ]
        },
        {
          "output_type": "stream",
          "name": "stderr",
          "text": [
            "Training Epoch 1: 100%|██████████| 226/226 [00:25<00:00,  8.75it/s, Loss=0.0430, Accuracy=0.7259]\n"
          ]
        },
        {
          "output_type": "stream",
          "name": "stdout",
          "text": [
            "Validation - Accuracy: 0.7700, Loss: 0.5992\n",
            "\n",
            "Validation - Accuracy: 0.7783, Loss: 0.5896\n",
            "EarlyStopping counter: 2 out of 5\n",
            "Epoch: 20/50 - Model: 1_12\n",
            "Epoch: 1/1 - Model: 1_12\n"
          ]
        },
        {
          "output_type": "stream",
          "name": "stderr",
          "text": [
            "Training Epoch 1: 100%|██████████| 226/226 [00:25<00:00,  8.87it/s, Loss=0.0441, Accuracy=0.7254]\n"
          ]
        },
        {
          "output_type": "stream",
          "name": "stdout",
          "text": [
            "Validation - Accuracy: 0.7708, Loss: 0.6056\n",
            "\n",
            "Validation - Accuracy: 0.7658, Loss: 0.5966\n",
            "EarlyStopping counter: 3 out of 5\n",
            "Epoch: 21/50 - Model: 1_12\n",
            "Epoch: 1/1 - Model: 1_12\n"
          ]
        },
        {
          "output_type": "stream",
          "name": "stderr",
          "text": [
            "Training Epoch 1: 100%|██████████| 226/226 [00:24<00:00,  9.37it/s, Loss=0.0421, Accuracy=0.7206]\n"
          ]
        },
        {
          "output_type": "stream",
          "name": "stdout",
          "text": [
            "Validation - Accuracy: 0.7592, Loss: 0.5733\n",
            "\n",
            "Validation - Accuracy: 0.7708, Loss: 0.5876\n",
            "EarlyStopping counter: 4 out of 5\n",
            "Epoch: 22/50 - Model: 1_12\n",
            "Epoch: 1/1 - Model: 1_12\n"
          ]
        },
        {
          "output_type": "stream",
          "name": "stderr",
          "text": [
            "Training Epoch 1: 100%|██████████| 226/226 [00:24<00:00,  9.11it/s, Loss=0.0407, Accuracy=0.7345]\n"
          ]
        },
        {
          "output_type": "stream",
          "name": "stdout",
          "text": [
            "Validation - Accuracy: 0.7725, Loss: 0.5712\n",
            "\n",
            "Validation - Accuracy: 0.7908, Loss: 0.5766\n",
            "Epoch: 23/50 - Model: 1_12\n",
            "Epoch: 1/1 - Model: 1_12\n"
          ]
        },
        {
          "output_type": "stream",
          "name": "stderr",
          "text": [
            "Training Epoch 1: 100%|██████████| 226/226 [00:25<00:00,  8.86it/s, Loss=0.0414, Accuracy=0.7251]\n"
          ]
        },
        {
          "output_type": "stream",
          "name": "stdout",
          "text": [
            "Validation - Accuracy: 0.7883, Loss: 0.5640\n",
            "\n",
            "Validation - Accuracy: 0.7900, Loss: 0.5666\n",
            "Epoch: 24/50 - Model: 1_12\n",
            "Epoch: 1/1 - Model: 1_12\n"
          ]
        },
        {
          "output_type": "stream",
          "name": "stderr",
          "text": [
            "Training Epoch 1: 100%|██████████| 226/226 [00:25<00:00,  8.89it/s, Loss=0.0403, Accuracy=0.7287]\n"
          ]
        },
        {
          "output_type": "stream",
          "name": "stdout",
          "text": [
            "Validation - Accuracy: 0.7633, Loss: 0.5824\n",
            "\n",
            "Validation - Accuracy: 0.7642, Loss: 0.5876\n",
            "EarlyStopping counter: 1 out of 5\n",
            "Epoch: 25/50 - Model: 1_12\n",
            "Epoch: 1/1 - Model: 1_12\n"
          ]
        },
        {
          "output_type": "stream",
          "name": "stderr",
          "text": [
            "Training Epoch 1: 100%|██████████| 226/226 [00:24<00:00,  9.11it/s, Loss=0.0416, Accuracy=0.7115]\n"
          ]
        },
        {
          "output_type": "stream",
          "name": "stdout",
          "text": [
            "Validation - Accuracy: 0.7783, Loss: 0.5667\n",
            "\n",
            "Validation - Accuracy: 0.7875, Loss: 0.5544\n",
            "Epoch: 26/50 - Model: 1_12\n",
            "Epoch: 1/1 - Model: 1_12\n"
          ]
        },
        {
          "output_type": "stream",
          "name": "stderr",
          "text": [
            "Training Epoch 1: 100%|██████████| 226/226 [00:24<00:00,  9.27it/s, Loss=0.0397, Accuracy=0.7440]\n"
          ]
        },
        {
          "output_type": "stream",
          "name": "stdout",
          "text": [
            "Validation - Accuracy: 0.7800, Loss: 0.5855\n",
            "\n",
            "Validation - Accuracy: 0.7733, Loss: 0.5753\n",
            "EarlyStopping counter: 1 out of 5\n",
            "Epoch: 27/50 - Model: 1_12\n",
            "Epoch: 1/1 - Model: 1_12\n"
          ]
        },
        {
          "output_type": "stream",
          "name": "stderr",
          "text": [
            "Training Epoch 1: 100%|██████████| 226/226 [00:25<00:00,  8.87it/s, Loss=0.0403, Accuracy=0.7273]\n"
          ]
        },
        {
          "output_type": "stream",
          "name": "stdout",
          "text": [
            "Validation - Accuracy: 0.7817, Loss: 0.5660\n",
            "\n",
            "Validation - Accuracy: 0.7692, Loss: 0.5720\n",
            "EarlyStopping counter: 2 out of 5\n",
            "Epoch: 28/50 - Model: 1_12\n",
            "Epoch: 1/1 - Model: 1_12\n"
          ]
        },
        {
          "output_type": "stream",
          "name": "stderr",
          "text": [
            "Training Epoch 1: 100%|██████████| 226/226 [00:25<00:00,  8.86it/s, Loss=0.0419, Accuracy=0.7142]\n"
          ]
        },
        {
          "output_type": "stream",
          "name": "stdout",
          "text": [
            "Validation - Accuracy: 0.7733, Loss: 0.5681\n",
            "\n",
            "Validation - Accuracy: 0.7942, Loss: 0.5535\n",
            "EarlyStopping counter: 3 out of 5\n",
            "Epoch: 29/50 - Model: 1_12\n",
            "Epoch: 1/1 - Model: 1_12\n"
          ]
        },
        {
          "output_type": "stream",
          "name": "stderr",
          "text": [
            "Training Epoch 1: 100%|██████████| 226/226 [00:25<00:00,  8.79it/s, Loss=0.0413, Accuracy=0.7312]\n"
          ]
        },
        {
          "output_type": "stream",
          "name": "stdout",
          "text": [
            "Validation - Accuracy: 0.7758, Loss: 0.5651\n",
            "\n",
            "Validation - Accuracy: 0.7758, Loss: 0.5648\n",
            "EarlyStopping counter: 4 out of 5\n",
            "Epoch: 30/50 - Model: 1_12\n",
            "Epoch: 1/1 - Model: 1_12\n"
          ]
        },
        {
          "output_type": "stream",
          "name": "stderr",
          "text": [
            "Training Epoch 1: 100%|██████████| 226/226 [00:24<00:00,  9.29it/s, Loss=0.0400, Accuracy=0.7370]\n"
          ]
        },
        {
          "output_type": "stream",
          "name": "stdout",
          "text": [
            "Validation - Accuracy: 0.7908, Loss: 0.5559\n",
            "\n",
            "Validation - Accuracy: 0.7767, Loss: 0.5688\n",
            "EarlyStopping counter: 5 out of 5\n",
            "Early stopping triggered.\n",
            "1_12 model saved successfully!\n",
            "Evaluating 1_12 model on test data...\n",
            "Test - Accuracy: 0.7733, Loss: 0.6009\n"
          ]
        }
      ]
    }
  ]
}