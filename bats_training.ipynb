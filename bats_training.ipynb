{
 "cells": [
  {
   "cell_type": "markdown",
   "metadata": {},
   "source": [
    "# Pytorch Implementation"
   ]
  },
  {
   "cell_type": "code",
   "execution_count": 1,
   "metadata": {},
   "outputs": [],
   "source": [
    "import torch\n",
    "import torch.nn as nn\n",
    "from torchvision import datasets, transforms"
   ]
  },
  {
   "cell_type": "code",
   "execution_count": 2,
   "metadata": {},
   "outputs": [],
   "source": [
    "from modules.CNN import CNN"
   ]
  },
  {
   "cell_type": "code",
   "execution_count": 3,
   "metadata": {},
   "outputs": [],
   "source": [
    "from tqdm import tqdm"
   ]
  },
  {
   "cell_type": "markdown",
   "metadata": {},
   "source": [
    "## Data"
   ]
  },
  {
   "cell_type": "code",
   "execution_count": 4,
   "metadata": {},
   "outputs": [],
   "source": [
    "data_1_4 = fr\"\\Data\\1_4\"\n",
    "data_5_8 = fr\"\\Data\\5_8\"\n",
    "data_9_12= fr\"\\Data\\9_12\"\n",
    "\n",
    "data_1_12= fr\"Data\\Final Testing Dataset\\Final Testing Dataset\""
   ]
  },
  {
   "cell_type": "code",
   "execution_count": 5,
   "metadata": {},
   "outputs": [],
   "source": [
    "device = torch.device('cuda' if torch.cuda.is_available() else 'cpu')"
   ]
  },
  {
   "cell_type": "code",
   "execution_count": 6,
   "metadata": {},
   "outputs": [],
   "source": [
    "transform = transforms.Compose([\n",
    "    transforms.ToTensor(),\n",
    "    # transforms.Resize((40, 40)).to(device),\n",
    "    transforms.RandomRotation(45).to(device)\n",
    "])"
   ]
  },
  {
   "cell_type": "markdown",
   "metadata": {},
   "source": [
    "## Model"
   ]
  },
  {
   "cell_type": "markdown",
   "metadata": {},
   "source": [
    "### 1_12"
   ]
  },
  {
   "cell_type": "code",
   "execution_count": 7,
   "metadata": {},
   "outputs": [],
   "source": [
    "root_dir = r'Data\\Final Testing Dataset\\Final Testing Dataset'\n",
    "dataset = datasets.ImageFolder(root=root_dir, transform=transform)"
   ]
  },
  {
   "cell_type": "code",
   "execution_count": 8,
   "metadata": {},
   "outputs": [],
   "source": [
    "model = CNN(12).to(device)"
   ]
  },
  {
   "cell_type": "code",
   "execution_count": 9,
   "metadata": {},
   "outputs": [],
   "source": [
    "val_size = int(0.2 * len(dataset))\n",
    "test_size = int(0.2 * len(dataset))\n",
    "train_size = len(dataset) - val_size - test_size\n",
    "\n",
    "# Split the dataset into training, validation, and test sets\n",
    "train_dataset, val_dataset, test_dataset = torch.utils.data.random_split(dataset, [train_size, val_size, test_size])"
   ]
  },
  {
   "cell_type": "code",
   "execution_count": 10,
   "metadata": {},
   "outputs": [],
   "source": [
    "\n",
    "train_dataloader = torch.utils.data.DataLoader(train_dataset, batch_size=32, shuffle=True, num_workers=4)\n",
    "val_dataloader = torch.utils.data.DataLoader(val_dataset, batch_size=32, shuffle=False, num_workers=4)\n",
    "test_dataloader = torch.utils.data.DataLoader(test_dataset, batch_size=32, shuffle=False, num_workers=4)"
   ]
  },
  {
   "cell_type": "code",
   "execution_count": 11,
   "metadata": {},
   "outputs": [],
   "source": [
    "loss_fn = nn.CrossEntropyLoss()\n",
    "optimizer = torch.optim.Adam(model.parameters(), lr=0.001)"
   ]
  },
  {
   "cell_type": "code",
   "execution_count": 12,
   "metadata": {},
   "outputs": [
    {
     "name": "stdout",
     "output_type": "stream",
     "text": [
      "Epoch:  1\n"
     ]
    },
    {
     "name": "stderr",
     "output_type": "stream",
     "text": [
      "Running Accuracy: 0.23271313524021106,  \t Batch Loss:  1.794292688369751: 100%|██████████| 113/113 [00:09<00:00, 11.94it/s]\n"
     ]
    },
    {
     "name": "stdout",
     "output_type": "stream",
     "text": [
      "Accuracy:  0.3416666666666667 \tLoss:  1.794292688369751\n",
      "Epoch:  2\n"
     ]
    },
    {
     "name": "stderr",
     "output_type": "stream",
     "text": [
      "Running Accuracy: 0.35018050541516244,  \t Batch Loss:  1.9072198867797852: 100%|██████████| 113/113 [00:07<00:00, 15.30it/s]\n"
     ]
    },
    {
     "name": "stdout",
     "output_type": "stream",
     "text": [
      "Accuracy:  0.38333333333333336 \tLoss:  1.9072198867797852\n",
      "Epoch:  3\n"
     ]
    },
    {
     "name": "stderr",
     "output_type": "stream",
     "text": [
      "Running Accuracy: 0.40238822549291864,  \t Batch Loss:  1.4016845226287842: 100%|██████████| 113/113 [00:07<00:00, 15.42it/s]\n"
     ]
    },
    {
     "name": "stdout",
     "output_type": "stream",
     "text": [
      "Accuracy:  0.3625 \tLoss:  1.4016845226287842\n",
      "Epoch:  4\n"
     ]
    },
    {
     "name": "stderr",
     "output_type": "stream",
     "text": [
      "Running Accuracy: 0.47875590113857264,  \t Batch Loss:  1.2770018577575684: 100%|██████████| 113/113 [00:07<00:00, 15.43it/s]\n"
     ]
    },
    {
     "name": "stdout",
     "output_type": "stream",
     "text": [
      "Accuracy:  0.49083333333333334 \tLoss:  1.2770018577575684\n",
      "Epoch:  5\n"
     ]
    },
    {
     "name": "stderr",
     "output_type": "stream",
     "text": [
      "Running Accuracy: 0.542349347403499,  \t Batch Loss:  1.1132389307022095: 100%|██████████| 113/113 [00:07<00:00, 15.32it/s] \n"
     ]
    },
    {
     "name": "stdout",
     "output_type": "stream",
     "text": [
      "Accuracy:  0.5241666666666667 \tLoss:  1.1132389307022095\n",
      "Epoch:  6\n"
     ]
    },
    {
     "name": "stderr",
     "output_type": "stream",
     "text": [
      "Running Accuracy: 0.5417939461260761,  \t Batch Loss:  1.3848941326141357: 100%|██████████| 113/113 [00:07<00:00, 15.46it/s]\n"
     ]
    },
    {
     "name": "stdout",
     "output_type": "stream",
     "text": [
      "Accuracy:  0.565 \tLoss:  1.3848941326141357\n",
      "Epoch:  7\n"
     ]
    },
    {
     "name": "stderr",
     "output_type": "stream",
     "text": [
      "Running Accuracy: 0.6064981949458483,  \t Batch Loss:  0.9637665748596191: 100%|██████████| 113/113 [00:07<00:00, 15.60it/s]\n"
     ]
    },
    {
     "name": "stdout",
     "output_type": "stream",
     "text": [
      "Accuracy:  0.5266666666666666 \tLoss:  0.9637665748596191\n",
      "Epoch:  8\n"
     ]
    },
    {
     "name": "stderr",
     "output_type": "stream",
     "text": [
      "Running Accuracy: 0.5923354623715634,  \t Batch Loss:  0.8349295258522034: 100%|██████████| 113/113 [00:07<00:00, 15.50it/s]\n"
     ]
    },
    {
     "name": "stdout",
     "output_type": "stream",
     "text": [
      "Accuracy:  0.5808333333333333 \tLoss:  0.8349295258522034\n",
      "Epoch:  9\n"
     ]
    },
    {
     "name": "stderr",
     "output_type": "stream",
     "text": [
      "Running Accuracy: 0.6264926409330741,  \t Batch Loss:  0.8002030849456787: 100%|██████████| 113/113 [00:07<00:00, 15.46it/s]\n"
     ]
    },
    {
     "name": "stdout",
     "output_type": "stream",
     "text": [
      "Accuracy:  0.6133333333333333 \tLoss:  0.8002030849456787\n",
      "Epoch:  10\n"
     ]
    },
    {
     "name": "stderr",
     "output_type": "stream",
     "text": [
      "Running Accuracy: 0.6273257428492085,  \t Batch Loss:  0.9647778868675232: 100%|██████████| 113/113 [00:07<00:00, 15.71it/s]\n"
     ]
    },
    {
     "name": "stdout",
     "output_type": "stream",
     "text": [
      "Accuracy:  0.6008333333333333 \tLoss:  0.9647778868675232\n",
      "Epoch:  11\n"
     ]
    },
    {
     "name": "stderr",
     "output_type": "stream",
     "text": [
      "Running Accuracy: 0.6525965009719522,  \t Batch Loss:  0.6207951903343201: 100%|██████████| 113/113 [00:07<00:00, 15.69it/s]\n"
     ]
    },
    {
     "name": "stdout",
     "output_type": "stream",
     "text": [
      "Accuracy:  0.5558333333333333 \tLoss:  0.6207951903343201\n",
      "Epoch:  12\n"
     ]
    },
    {
     "name": "stderr",
     "output_type": "stream",
     "text": [
      "Running Accuracy: 0.6600944182171619,  \t Batch Loss:  0.8127725720405579: 100%|██████████| 113/113 [00:07<00:00, 15.72it/s]\n"
     ]
    },
    {
     "name": "stdout",
     "output_type": "stream",
     "text": [
      "Accuracy:  0.63 \tLoss:  0.8127725720405579\n",
      "Epoch:  13\n"
     ]
    },
    {
     "name": "stderr",
     "output_type": "stream",
     "text": [
      "Running Accuracy: 0.6737017495140238,  \t Batch Loss:  0.6031840443611145: 100%|██████████| 113/113 [00:07<00:00, 15.69it/s]\n"
     ]
    },
    {
     "name": "stdout",
     "output_type": "stream",
     "text": [
      "Accuracy:  0.6375 \tLoss:  0.6031840443611145\n",
      "Epoch:  14\n"
     ]
    },
    {
     "name": "stderr",
     "output_type": "stream",
     "text": [
      "Running Accuracy: 0.6692585392946404,  \t Batch Loss:  1.0582355260849: 100%|██████████| 113/113 [00:07<00:00, 15.98it/s]  \n"
     ]
    },
    {
     "name": "stdout",
     "output_type": "stream",
     "text": [
      "Accuracy:  0.6508333333333334 \tLoss:  1.0582355260849\n",
      "Epoch:  15\n"
     ]
    },
    {
     "name": "stderr",
     "output_type": "stream",
     "text": [
      "Running Accuracy: 0.6842543737850597,  \t Batch Loss:  0.6255459785461426: 100%|██████████| 113/113 [00:07<00:00, 15.67it/s]\n"
     ]
    },
    {
     "name": "stdout",
     "output_type": "stream",
     "text": [
      "Accuracy:  0.6116666666666667 \tLoss:  0.6255459785461426\n",
      "Epoch:  16\n"
     ]
    },
    {
     "name": "stderr",
     "output_type": "stream",
     "text": [
      "Running Accuracy: 0.690919189114135,  \t Batch Loss:  0.8226152062416077: 100%|██████████| 113/113 [00:07<00:00, 15.70it/s] \n"
     ]
    },
    {
     "name": "stdout",
     "output_type": "stream",
     "text": [
      "Accuracy:  0.6391666666666667 \tLoss:  0.8226152062416077\n",
      "Epoch:  17\n"
     ]
    },
    {
     "name": "stderr",
     "output_type": "stream",
     "text": [
      "Running Accuracy: 0.7023049153013052,  \t Batch Loss:  0.4828568696975708: 100%|██████████| 113/113 [00:07<00:00, 15.64it/s]\n"
     ]
    },
    {
     "name": "stdout",
     "output_type": "stream",
     "text": [
      "Accuracy:  0.6316666666666667 \tLoss:  0.4828568696975708\n",
      "Epoch:  18\n"
     ]
    },
    {
     "name": "stderr",
     "output_type": "stream",
     "text": [
      "Running Accuracy: 0.68619827825604,  \t Batch Loss:  0.7510051727294922: 100%|██████████| 113/113 [00:07<00:00, 15.82it/s]  \n"
     ]
    },
    {
     "name": "stdout",
     "output_type": "stream",
     "text": [
      "Accuracy:  0.6408333333333334 \tLoss:  0.7510051727294922\n",
      "Epoch:  19\n"
     ]
    },
    {
     "name": "stderr",
     "output_type": "stream",
     "text": [
      "Running Accuracy: 0.7081366287142461,  \t Batch Loss:  0.771457850933075: 100%|██████████| 113/113 [00:07<00:00, 15.53it/s] \n"
     ]
    },
    {
     "name": "stdout",
     "output_type": "stream",
     "text": [
      "Accuracy:  0.6675 \tLoss:  0.771457850933075\n",
      "Epoch:  20\n"
     ]
    },
    {
     "name": "stderr",
     "output_type": "stream",
     "text": [
      "Running Accuracy: 0.7136906414884754,  \t Batch Loss:  0.5629341006278992: 100%|██████████| 113/113 [00:07<00:00, 15.60it/s]\n"
     ]
    },
    {
     "name": "stdout",
     "output_type": "stream",
     "text": [
      "Accuracy:  0.6775 \tLoss:  0.5629341006278992\n",
      "Epoch:  21\n"
     ]
    },
    {
     "name": "stderr",
     "output_type": "stream",
     "text": [
      "Running Accuracy: 0.7136906414884754,  \t Batch Loss:  0.5644461512565613: 100%|██████████| 113/113 [00:07<00:00, 15.84it/s] \n"
     ]
    },
    {
     "name": "stdout",
     "output_type": "stream",
     "text": [
      "Accuracy:  0.6658333333333334 \tLoss:  0.5644461512565613\n",
      "Epoch:  22\n"
     ]
    },
    {
     "name": "stderr",
     "output_type": "stream",
     "text": [
      "Running Accuracy: 0.7250763676756456,  \t Batch Loss:  0.763196587562561: 100%|██████████| 113/113 [00:07<00:00, 15.63it/s] \n"
     ]
    },
    {
     "name": "stdout",
     "output_type": "stream",
     "text": [
      "Accuracy:  0.6466666666666666 \tLoss:  0.763196587562561\n",
      "Epoch:  23\n"
     ]
    },
    {
     "name": "stderr",
     "output_type": "stream",
     "text": [
      "Running Accuracy: 0.712857539572341,  \t Batch Loss:  0.912513256072998: 100%|██████████| 113/113 [00:07<00:00, 15.83it/s]  \n"
     ]
    },
    {
     "name": "stdout",
     "output_type": "stream",
     "text": [
      "Accuracy:  0.6125 \tLoss:  0.912513256072998\n",
      "Epoch:  24\n"
     ]
    },
    {
     "name": "stderr",
     "output_type": "stream",
     "text": [
      "Running Accuracy: 0.7200777561788392,  \t Batch Loss:  0.9176917672157288: 100%|██████████| 113/113 [00:07<00:00, 15.90it/s] \n"
     ]
    },
    {
     "name": "stdout",
     "output_type": "stream",
     "text": [
      "Accuracy:  0.6816666666666666 \tLoss:  0.9176917672157288\n",
      "Epoch:  25\n"
     ]
    },
    {
     "name": "stderr",
     "output_type": "stream",
     "text": [
      "Running Accuracy: 0.7186892529852819,  \t Batch Loss:  0.7490048408508301: 100%|██████████| 113/113 [00:07<00:00, 15.67it/s]\n"
     ]
    },
    {
     "name": "stdout",
     "output_type": "stream",
     "text": [
      "Accuracy:  0.675 \tLoss:  0.7490048408508301\n",
      "Epoch:  26\n"
     ]
    },
    {
     "name": "stderr",
     "output_type": "stream",
     "text": [
      "Running Accuracy: 0.7356289919466815,  \t Batch Loss:  0.827994167804718: 100%|██████████| 113/113 [00:07<00:00, 15.50it/s] \n"
     ]
    },
    {
     "name": "stdout",
     "output_type": "stream",
     "text": [
      "Accuracy:  0.6791666666666667 \tLoss:  0.827994167804718\n",
      "Epoch:  27\n"
     ]
    },
    {
     "name": "stderr",
     "output_type": "stream",
     "text": [
      "Running Accuracy: 0.7322965842821438,  \t Batch Loss:  0.7915317416191101: 100%|██████████| 113/113 [00:07<00:00, 15.61it/s]\n"
     ]
    },
    {
     "name": "stdout",
     "output_type": "stream",
     "text": [
      "Accuracy:  0.6866666666666666 \tLoss:  0.7915317416191101\n",
      "Epoch:  28\n"
     ]
    },
    {
     "name": "stderr",
     "output_type": "stream",
     "text": [
      "Running Accuracy: 0.7409053040821993,  \t Batch Loss:  0.820891797542572: 100%|██████████| 113/113 [00:07<00:00, 15.52it/s] \n"
     ]
    },
    {
     "name": "stdout",
     "output_type": "stream",
     "text": [
      "Accuracy:  0.6475 \tLoss:  0.820891797542572\n",
      "Epoch:  29\n"
     ]
    },
    {
     "name": "stderr",
     "output_type": "stream",
     "text": [
      "Running Accuracy: 0.7375728964176618,  \t Batch Loss:  0.5408692359924316: 100%|██████████| 113/113 [00:07<00:00, 15.48it/s]\n"
     ]
    },
    {
     "name": "stdout",
     "output_type": "stream",
     "text": [
      "Accuracy:  0.6908333333333333 \tLoss:  0.5408692359924316\n",
      "Epoch:  30\n"
     ]
    },
    {
     "name": "stderr",
     "output_type": "stream",
     "text": [
      "Running Accuracy: 0.7386836989725076,  \t Batch Loss:  0.7079589366912842: 100%|██████████| 113/113 [00:07<00:00, 15.32it/s]\n"
     ]
    },
    {
     "name": "stdout",
     "output_type": "stream",
     "text": [
      "Accuracy:  0.6616666666666666 \tLoss:  0.7079589366912842\n",
      "Epoch:  31\n"
     ]
    },
    {
     "name": "stderr",
     "output_type": "stream",
     "text": [
      "Running Accuracy: 0.7439600111080256,  \t Batch Loss:  0.8444207310676575: 100%|██████████| 113/113 [00:07<00:00, 15.50it/s]\n"
     ]
    },
    {
     "name": "stdout",
     "output_type": "stream",
     "text": [
      "Accuracy:  0.6916666666666667 \tLoss:  0.8444207310676575\n",
      "Epoch:  32\n"
     ]
    },
    {
     "name": "stderr",
     "output_type": "stream",
     "text": [
      "Running Accuracy: 0.744237711746737,  \t Batch Loss:  0.9034938812255859: 100%|██████████| 113/113 [00:07<00:00, 15.41it/s] \n"
     ]
    },
    {
     "name": "stdout",
     "output_type": "stream",
     "text": [
      "Accuracy:  0.7033333333333334 \tLoss:  0.9034938812255859\n",
      "Epoch:  33\n"
     ]
    },
    {
     "name": "stderr",
     "output_type": "stream",
     "text": [
      "Running Accuracy: 0.7517356289919467,  \t Batch Loss:  0.5437516570091248: 100%|██████████| 113/113 [00:07<00:00, 15.75it/s] \n"
     ]
    },
    {
     "name": "stdout",
     "output_type": "stream",
     "text": [
      "Accuracy:  0.7 \tLoss:  0.5437516570091248\n",
      "Epoch:  34\n"
     ]
    },
    {
     "name": "stderr",
     "output_type": "stream",
     "text": [
      "Running Accuracy: 0.7503471257983894,  \t Batch Loss:  0.4798906445503235: 100%|██████████| 113/113 [00:07<00:00, 15.24it/s]\n"
     ]
    },
    {
     "name": "stdout",
     "output_type": "stream",
     "text": [
      "Accuracy:  0.7083333333333334 \tLoss:  0.4798906445503235\n",
      "Epoch:  35\n"
     ]
    },
    {
     "name": "stderr",
     "output_type": "stream",
     "text": [
      "Running Accuracy: 0.7642321577339628,  \t Batch Loss:  0.5668668746948242: 100%|██████████| 113/113 [00:07<00:00, 15.61it/s]\n"
     ]
    },
    {
     "name": "stdout",
     "output_type": "stream",
     "text": [
      "Accuracy:  0.6891666666666667 \tLoss:  0.5668668746948242\n",
      "Epoch:  36\n"
     ]
    },
    {
     "name": "stderr",
     "output_type": "stream",
     "text": [
      "Running Accuracy: 0.7572896417661761,  \t Batch Loss:  0.762477457523346: 100%|██████████| 113/113 [00:07<00:00, 15.73it/s] \n"
     ]
    },
    {
     "name": "stdout",
     "output_type": "stream",
     "text": [
      "Accuracy:  0.7066666666666667 \tLoss:  0.762477457523346\n",
      "Epoch:  37\n"
     ]
    },
    {
     "name": "stderr",
     "output_type": "stream",
     "text": [
      "Running Accuracy: 0.7572896417661761,  \t Batch Loss:  0.8642481565475464: 100%|██████████| 113/113 [00:07<00:00, 15.06it/s] \n"
     ]
    },
    {
     "name": "stdout",
     "output_type": "stream",
     "text": [
      "Accuracy:  0.66 \tLoss:  0.8642481565475464\n",
      "Epoch:  38\n"
     ]
    },
    {
     "name": "stderr",
     "output_type": "stream",
     "text": [
      "Running Accuracy: 0.7497917245209664,  \t Batch Loss:  0.48060479760169983: 100%|██████████| 113/113 [00:07<00:00, 15.79it/s]\n"
     ]
    },
    {
     "name": "stdout",
     "output_type": "stream",
     "text": [
      "Accuracy:  0.6766666666666666 \tLoss:  0.48060479760169983\n",
      "Epoch:  39\n"
     ]
    },
    {
     "name": "stderr",
     "output_type": "stream",
     "text": [
      "Running Accuracy: 0.7575673424048875,  \t Batch Loss:  0.25332507491111755: 100%|██████████| 113/113 [00:07<00:00, 15.82it/s]\n"
     ]
    },
    {
     "name": "stdout",
     "output_type": "stream",
     "text": [
      "Accuracy:  0.6916666666666667 \tLoss:  0.25332507491111755\n",
      "Epoch:  40\n"
     ]
    },
    {
     "name": "stderr",
     "output_type": "stream",
     "text": [
      "Running Accuracy: 0.7745070813662871,  \t Batch Loss:  0.5016249418258667: 100%|██████████| 113/113 [00:07<00:00, 15.96it/s]\n"
     ]
    },
    {
     "name": "stdout",
     "output_type": "stream",
     "text": [
      "Accuracy:  0.6775 \tLoss:  0.5016249418258667\n",
      "Epoch:  41\n"
     ]
    },
    {
     "name": "stderr",
     "output_type": "stream",
     "text": [
      "Running Accuracy: 0.7692307692307693,  \t Batch Loss:  0.5920419692993164: 100%|██████████| 113/113 [00:07<00:00, 15.92it/s]\n"
     ]
    },
    {
     "name": "stdout",
     "output_type": "stream",
     "text": [
      "Accuracy:  0.6933333333333334 \tLoss:  0.5920419692993164\n",
      "Epoch:  42\n"
     ]
    },
    {
     "name": "stderr",
     "output_type": "stream",
     "text": [
      "Running Accuracy: 0.7711746737017495,  \t Batch Loss:  0.558148205280304: 100%|██████████| 113/113 [00:07<00:00, 15.75it/s] \n"
     ]
    },
    {
     "name": "stdout",
     "output_type": "stream",
     "text": [
      "Accuracy:  0.6275 \tLoss:  0.558148205280304\n",
      "Epoch:  43\n"
     ]
    },
    {
     "name": "stderr",
     "output_type": "stream",
     "text": [
      "Running Accuracy: 0.7706192724243266,  \t Batch Loss:  0.4317047894001007: 100%|██████████| 113/113 [00:07<00:00, 15.78it/s]\n"
     ]
    },
    {
     "name": "stdout",
     "output_type": "stream",
     "text": [
      "Accuracy:  0.6875 \tLoss:  0.4317047894001007\n",
      "Epoch:  44\n"
     ]
    },
    {
     "name": "stderr",
     "output_type": "stream",
     "text": [
      "Running Accuracy: 0.7908914190502638,  \t Batch Loss:  0.532651424407959: 100%|██████████| 113/113 [00:07<00:00, 15.89it/s] \n"
     ]
    },
    {
     "name": "stdout",
     "output_type": "stream",
     "text": [
      "Accuracy:  0.7333333333333333 \tLoss:  0.532651424407959\n",
      "Epoch:  45\n"
     ]
    },
    {
     "name": "stderr",
     "output_type": "stream",
     "text": [
      "Running Accuracy: 0.7925576228825326,  \t Batch Loss:  0.5363736152648926: 100%|██████████| 113/113 [00:07<00:00, 15.79it/s]\n"
     ]
    },
    {
     "name": "stdout",
     "output_type": "stream",
     "text": [
      "Accuracy:  0.6875 \tLoss:  0.5363736152648926\n",
      "Epoch:  46\n"
     ]
    },
    {
     "name": "stderr",
     "output_type": "stream",
     "text": [
      "Running Accuracy: 0.7717300749791725,  \t Batch Loss:  0.48017334938049316: 100%|██████████| 113/113 [00:07<00:00, 15.96it/s]\n"
     ]
    },
    {
     "name": "stdout",
     "output_type": "stream",
     "text": [
      "Accuracy:  0.685 \tLoss:  0.48017334938049316\n",
      "Epoch:  47\n"
     ]
    },
    {
     "name": "stderr",
     "output_type": "stream",
     "text": [
      "Running Accuracy: 0.7947792279922243,  \t Batch Loss:  0.5164469480514526: 100%|██████████| 113/113 [00:07<00:00, 16.10it/s]\n"
     ]
    },
    {
     "name": "stdout",
     "output_type": "stream",
     "text": [
      "Accuracy:  0.7175 \tLoss:  0.5164469480514526\n",
      "Epoch:  48\n"
     ]
    },
    {
     "name": "stderr",
     "output_type": "stream",
     "text": [
      "Running Accuracy: 0.7831158011663427,  \t Batch Loss:  0.5234214067459106: 100%|██████████| 113/113 [00:07<00:00, 15.64it/s] \n"
     ]
    },
    {
     "name": "stdout",
     "output_type": "stream",
     "text": [
      "Accuracy:  0.7075 \tLoss:  0.5234214067459106\n",
      "Epoch:  49\n"
     ]
    },
    {
     "name": "stderr",
     "output_type": "stream",
     "text": [
      "Running Accuracy: 0.7792279922243821,  \t Batch Loss:  0.7390831112861633: 100%|██████████| 113/113 [00:07<00:00, 15.76it/s]\n"
     ]
    },
    {
     "name": "stdout",
     "output_type": "stream",
     "text": [
      "Accuracy:  0.7083333333333334 \tLoss:  0.7390831112861633\n",
      "Epoch:  50\n"
     ]
    },
    {
     "name": "stderr",
     "output_type": "stream",
     "text": [
      "Running Accuracy: 0.7817272979727853,  \t Batch Loss:  0.6144466996192932: 100%|██████████| 113/113 [00:07<00:00, 15.90it/s]\n"
     ]
    },
    {
     "name": "stdout",
     "output_type": "stream",
     "text": [
      "Accuracy:  0.7075 \tLoss:  0.6144466996192932\n"
     ]
    }
   ],
   "source": [
    "length = len(train_dataloader)\n",
    "for epoch in range(50):  # loop over the dataset multiple times\n",
    "    print(\"Epoch: \", epoch+1)\n",
    "    pbar = tqdm(train_dataloader)\n",
    "    running_loss = 0.0\n",
    "    correct = 0\n",
    "    total_seen = 0\n",
    "    for inputs, labels in pbar:\n",
    "        inputs, labels = inputs.to(device), labels.to(device)\n",
    "        # total_seen += labels.size(0)\n",
    "\n",
    "        optimizer.zero_grad()\n",
    "\n",
    "        outputs = model(inputs)\n",
    "        loss = loss_fn(outputs, labels)\n",
    "        loss.backward()\n",
    "        optimizer.step()\n",
    "\n",
    "        running_loss += loss.item()\n",
    "        # print(labels.shape, outputs)\n",
    "        _, predicted = torch.max(outputs.data, 1)\n",
    "        # print(predicted.size(0))\n",
    "        total_seen+=predicted.size(0)\n",
    "        correct += (predicted == labels).sum().item()\n",
    "        pbar.set_description(f\"Running Accuracy: { correct/total_seen},  \\t Batch Loss:  {loss}\")\n",
    "\n",
    "    # Testing the network\n",
    "    correct = 0\n",
    "    total = 0\n",
    "    total_loss=0\n",
    "    with torch.no_grad():\n",
    "        for (images, labels) in val_dataloader:\n",
    "            images, labels = images.to(device), labels.to(device)\n",
    "            outputs = model(images)\n",
    "            val_loss = nn.CrossEntropyLoss()(outputs, labels)\n",
    "            total_loss += loss.item()\n",
    "            _, predicted = torch.max(outputs.data, 1)\n",
    "            total += labels.size(0)\n",
    "            correct += (predicted == labels).sum().item()\n",
    "        print(\"Accuracy: \", correct/total, \"\\tLoss: \", total_loss/len(val_dataloader))"
   ]
  },
  {
   "cell_type": "code",
   "execution_count": 13,
   "metadata": {},
   "outputs": [],
   "source": [
    "torch.save(model, '1_12_bats.pth')"
   ]
  },
  {
   "cell_type": "markdown",
   "metadata": {},
   "source": [
    "### 1_4"
   ]
  },
  {
   "cell_type": "code",
   "execution_count": 14,
   "metadata": {},
   "outputs": [
    {
     "name": "stdout",
     "output_type": "stream",
     "text": [
      "Epoch:  1\n"
     ]
    },
    {
     "name": "stderr",
     "output_type": "stream",
     "text": [
      "Running Accuracy: 0.3064113238967527,  \t Batch Loss:  1.3490934371948242: 100%|██████████| 38/38 [00:06<00:00,  5.58it/s] \n"
     ]
    },
    {
     "name": "stdout",
     "output_type": "stream",
     "text": [
      "Accuracy:  0.2625 \tLoss:  1.3490934371948242\n",
      "Epoch:  2\n"
     ]
    },
    {
     "name": "stderr",
     "output_type": "stream",
     "text": [
      "Running Accuracy: 0.4496253122398002,  \t Batch Loss:  1.0003957748413086: 100%|██████████| 38/38 [00:06<00:00,  5.54it/s] \n"
     ]
    },
    {
     "name": "stdout",
     "output_type": "stream",
     "text": [
      "Accuracy:  0.55 \tLoss:  1.0003957748413086\n",
      "Epoch:  3\n"
     ]
    },
    {
     "name": "stderr",
     "output_type": "stream",
     "text": [
      "Running Accuracy: 0.5736885928393006,  \t Batch Loss:  0.6543607115745544: 100%|██████████| 38/38 [00:06<00:00,  5.62it/s]\n"
     ]
    },
    {
     "name": "stdout",
     "output_type": "stream",
     "text": [
      "Accuracy:  0.6075 \tLoss:  0.6543607115745544\n",
      "Epoch:  4\n"
     ]
    },
    {
     "name": "stderr",
     "output_type": "stream",
     "text": [
      "Running Accuracy: 0.611157368859284,  \t Batch Loss:  0.744815468788147: 100%|██████████| 38/38 [00:06<00:00,  5.54it/s]  \n"
     ]
    },
    {
     "name": "stdout",
     "output_type": "stream",
     "text": [
      "Accuracy:  0.6025 \tLoss:  0.744815468788147\n",
      "Epoch:  5\n"
     ]
    },
    {
     "name": "stderr",
     "output_type": "stream",
     "text": [
      "Running Accuracy: 0.6169858451290591,  \t Batch Loss:  0.6549387574195862: 100%|██████████| 38/38 [00:07<00:00,  5.43it/s]\n"
     ]
    },
    {
     "name": "stdout",
     "output_type": "stream",
     "text": [
      "Accuracy:  0.63 \tLoss:  0.6549387574195862\n",
      "Epoch:  6\n"
     ]
    },
    {
     "name": "stderr",
     "output_type": "stream",
     "text": [
      "Running Accuracy: 0.6394671107410491,  \t Batch Loss:  0.6839158535003662: 100%|██████████| 38/38 [00:06<00:00,  5.54it/s]\n"
     ]
    },
    {
     "name": "stdout",
     "output_type": "stream",
     "text": [
      "Accuracy:  0.6575 \tLoss:  0.6839158535003662\n",
      "Epoch:  7\n"
     ]
    },
    {
     "name": "stderr",
     "output_type": "stream",
     "text": [
      "Running Accuracy: 0.6477935054121565,  \t Batch Loss:  0.4989982545375824: 100%|██████████| 38/38 [00:06<00:00,  5.52it/s]\n"
     ]
    },
    {
     "name": "stdout",
     "output_type": "stream",
     "text": [
      "Accuracy:  0.6275 \tLoss:  0.4989982545375824\n",
      "Epoch:  8\n"
     ]
    },
    {
     "name": "stderr",
     "output_type": "stream",
     "text": [
      "Running Accuracy: 0.671940049958368,  \t Batch Loss:  0.5839374661445618: 100%|██████████| 38/38 [00:06<00:00,  5.51it/s] \n"
     ]
    },
    {
     "name": "stdout",
     "output_type": "stream",
     "text": [
      "Accuracy:  0.6625 \tLoss:  0.5839374661445618\n",
      "Epoch:  9\n"
     ]
    },
    {
     "name": "stderr",
     "output_type": "stream",
     "text": [
      "Running Accuracy: 0.6794338051623647,  \t Batch Loss:  0.44876372814178467: 100%|██████████| 38/38 [00:06<00:00,  5.71it/s]\n"
     ]
    },
    {
     "name": "stdout",
     "output_type": "stream",
     "text": [
      "Accuracy:  0.685 \tLoss:  0.44876372814178467\n",
      "Epoch:  10\n"
     ]
    },
    {
     "name": "stderr",
     "output_type": "stream",
     "text": [
      "Running Accuracy: 0.6935886761032473,  \t Batch Loss:  0.5898594260215759: 100%|██████████| 38/38 [00:06<00:00,  5.82it/s]\n"
     ]
    },
    {
     "name": "stdout",
     "output_type": "stream",
     "text": [
      "Accuracy:  0.645 \tLoss:  0.5898594260215759\n",
      "Epoch:  11\n"
     ]
    },
    {
     "name": "stderr",
     "output_type": "stream",
     "text": [
      "Running Accuracy: 0.7035803497085762,  \t Batch Loss:  0.5538922548294067: 100%|██████████| 38/38 [00:06<00:00,  5.82it/s]\n"
     ]
    },
    {
     "name": "stdout",
     "output_type": "stream",
     "text": [
      "Accuracy:  0.7175 \tLoss:  0.5538922548294067\n",
      "Epoch:  12\n"
     ]
    },
    {
     "name": "stderr",
     "output_type": "stream",
     "text": [
      "Running Accuracy: 0.7243963363863447,  \t Batch Loss:  0.45531216263771057: 100%|██████████| 38/38 [00:06<00:00,  5.84it/s]\n"
     ]
    },
    {
     "name": "stdout",
     "output_type": "stream",
     "text": [
      "Accuracy:  0.7075 \tLoss:  0.45531216263771057\n",
      "Epoch:  13\n"
     ]
    },
    {
     "name": "stderr",
     "output_type": "stream",
     "text": [
      "Running Accuracy: 0.7218984179850125,  \t Batch Loss:  0.6436710953712463: 100%|██████████| 38/38 [00:06<00:00,  5.69it/s]\n"
     ]
    },
    {
     "name": "stdout",
     "output_type": "stream",
     "text": [
      "Accuracy:  0.7075 \tLoss:  0.6436710953712463\n",
      "Epoch:  14\n"
     ]
    },
    {
     "name": "stderr",
     "output_type": "stream",
     "text": [
      "Running Accuracy: 0.7368859283930058,  \t Batch Loss:  0.536884605884552: 100%|██████████| 38/38 [00:06<00:00,  5.51it/s] \n"
     ]
    },
    {
     "name": "stdout",
     "output_type": "stream",
     "text": [
      "Accuracy:  0.75 \tLoss:  0.536884605884552\n",
      "Epoch:  15\n"
     ]
    },
    {
     "name": "stderr",
     "output_type": "stream",
     "text": [
      "Running Accuracy: 0.7468776019983348,  \t Batch Loss:  0.6328352093696594: 100%|██████████| 38/38 [00:06<00:00,  5.66it/s] \n"
     ]
    },
    {
     "name": "stdout",
     "output_type": "stream",
     "text": [
      "Accuracy:  0.775 \tLoss:  0.6328352093696594\n",
      "Epoch:  16\n"
     ]
    },
    {
     "name": "stderr",
     "output_type": "stream",
     "text": [
      "Running Accuracy: 0.7243963363863447,  \t Batch Loss:  0.7614548206329346: 100%|██████████| 38/38 [00:06<00:00,  5.77it/s]\n"
     ]
    },
    {
     "name": "stdout",
     "output_type": "stream",
     "text": [
      "Accuracy:  0.5875 \tLoss:  0.7614548206329346\n",
      "Epoch:  17\n"
     ]
    },
    {
     "name": "stderr",
     "output_type": "stream",
     "text": [
      "Running Accuracy: 0.7185678601165695,  \t Batch Loss:  0.7888888120651245: 100%|██████████| 38/38 [00:06<00:00,  5.73it/s] \n"
     ]
    },
    {
     "name": "stdout",
     "output_type": "stream",
     "text": [
      "Accuracy:  0.685 \tLoss:  0.7888888120651245\n",
      "Epoch:  18\n"
     ]
    },
    {
     "name": "stderr",
     "output_type": "stream",
     "text": [
      "Running Accuracy: 0.7810158201498751,  \t Batch Loss:  0.34661003947257996: 100%|██████████| 38/38 [00:06<00:00,  5.72it/s]\n"
     ]
    },
    {
     "name": "stdout",
     "output_type": "stream",
     "text": [
      "Accuracy:  0.715 \tLoss:  0.34661003947257996\n",
      "Epoch:  19\n"
     ]
    },
    {
     "name": "stderr",
     "output_type": "stream",
     "text": [
      "Running Accuracy: 0.7743547044129891,  \t Batch Loss:  0.4181738495826721: 100%|██████████| 38/38 [00:06<00:00,  5.69it/s] \n"
     ]
    },
    {
     "name": "stdout",
     "output_type": "stream",
     "text": [
      "Accuracy:  0.72 \tLoss:  0.4181738495826721\n",
      "Epoch:  20\n"
     ]
    },
    {
     "name": "stderr",
     "output_type": "stream",
     "text": [
      "Running Accuracy: 0.7768526228143214,  \t Batch Loss:  0.4179763197898865: 100%|██████████| 38/38 [00:06<00:00,  5.72it/s] \n"
     ]
    },
    {
     "name": "stdout",
     "output_type": "stream",
     "text": [
      "Accuracy:  0.7675 \tLoss:  0.4179763197898865\n",
      "Epoch:  21\n"
     ]
    },
    {
     "name": "stderr",
     "output_type": "stream",
     "text": [
      "Running Accuracy: 0.7851790174854288,  \t Batch Loss:  0.5774780511856079: 100%|██████████| 38/38 [00:06<00:00,  5.66it/s] \n"
     ]
    },
    {
     "name": "stdout",
     "output_type": "stream",
     "text": [
      "Accuracy:  0.7725 \tLoss:  0.5774780511856079\n",
      "Epoch:  22\n"
     ]
    },
    {
     "name": "stderr",
     "output_type": "stream",
     "text": [
      "Running Accuracy: 0.8101582014987511,  \t Batch Loss:  0.32969143986701965: 100%|██████████| 38/38 [00:06<00:00,  5.72it/s]\n"
     ]
    },
    {
     "name": "stdout",
     "output_type": "stream",
     "text": [
      "Accuracy:  0.79 \tLoss:  0.32969143986701965\n",
      "Epoch:  23\n"
     ]
    },
    {
     "name": "stderr",
     "output_type": "stream",
     "text": [
      "Running Accuracy: 0.7776852622814321,  \t Batch Loss:  0.5244135856628418: 100%|██████████| 38/38 [00:06<00:00,  5.73it/s] \n"
     ]
    },
    {
     "name": "stdout",
     "output_type": "stream",
     "text": [
      "Accuracy:  0.7375 \tLoss:  0.5244135856628418\n",
      "Epoch:  24\n"
     ]
    },
    {
     "name": "stderr",
     "output_type": "stream",
     "text": [
      "Running Accuracy: 0.79766860949209,  \t Batch Loss:  0.4962545335292816: 100%|██████████| 38/38 [00:06<00:00,  5.66it/s]   \n"
     ]
    },
    {
     "name": "stdout",
     "output_type": "stream",
     "text": [
      "Accuracy:  0.7875 \tLoss:  0.4962545335292816\n",
      "Epoch:  25\n"
     ]
    },
    {
     "name": "stderr",
     "output_type": "stream",
     "text": [
      "Running Accuracy: 0.8118234804329725,  \t Batch Loss:  0.5244314670562744: 100%|██████████| 38/38 [00:06<00:00,  5.70it/s] \n"
     ]
    },
    {
     "name": "stdout",
     "output_type": "stream",
     "text": [
      "Accuracy:  0.7825 \tLoss:  0.5244314670562744\n",
      "Epoch:  26\n"
     ]
    },
    {
     "name": "stderr",
     "output_type": "stream",
     "text": [
      "Running Accuracy: 0.8076602830974188,  \t Batch Loss:  0.5250623822212219: 100%|██████████| 38/38 [00:06<00:00,  5.67it/s] \n"
     ]
    },
    {
     "name": "stdout",
     "output_type": "stream",
     "text": [
      "Accuracy:  0.6975 \tLoss:  0.5250623822212219\n",
      "Epoch:  27\n"
     ]
    },
    {
     "name": "stderr",
     "output_type": "stream",
     "text": [
      "Running Accuracy: 0.791007493755204,  \t Batch Loss:  0.38533905148506165: 100%|██████████| 38/38 [00:06<00:00,  5.72it/s] \n"
     ]
    },
    {
     "name": "stdout",
     "output_type": "stream",
     "text": [
      "Accuracy:  0.7975 \tLoss:  0.38533905148506165\n",
      "Epoch:  28\n"
     ]
    },
    {
     "name": "stderr",
     "output_type": "stream",
     "text": [
      "Running Accuracy: 0.8226477935054122,  \t Batch Loss:  0.4914810061454773: 100%|██████████| 38/38 [00:06<00:00,  5.74it/s] \n"
     ]
    },
    {
     "name": "stdout",
     "output_type": "stream",
     "text": [
      "Accuracy:  0.755 \tLoss:  0.4914810061454773\n",
      "Epoch:  29\n"
     ]
    },
    {
     "name": "stderr",
     "output_type": "stream",
     "text": [
      "Running Accuracy: 0.8043297252289758,  \t Batch Loss:  0.5156604647636414: 100%|██████████| 38/38 [00:06<00:00,  5.72it/s] \n"
     ]
    },
    {
     "name": "stdout",
     "output_type": "stream",
     "text": [
      "Accuracy:  0.8175 \tLoss:  0.5156604647636414\n",
      "Epoch:  30\n"
     ]
    },
    {
     "name": "stderr",
     "output_type": "stream",
     "text": [
      "Running Accuracy: 0.8168193172356369,  \t Batch Loss:  0.4173518121242523: 100%|██████████| 38/38 [00:06<00:00,  5.82it/s] \n"
     ]
    },
    {
     "name": "stdout",
     "output_type": "stream",
     "text": [
      "Accuracy:  0.76 \tLoss:  0.4173518121242523\n",
      "Epoch:  31\n"
     ]
    },
    {
     "name": "stderr",
     "output_type": "stream",
     "text": [
      "Running Accuracy: 0.8284762697751873,  \t Batch Loss:  0.4741628170013428: 100%|██████████| 38/38 [00:06<00:00,  5.73it/s] \n"
     ]
    },
    {
     "name": "stdout",
     "output_type": "stream",
     "text": [
      "Accuracy:  0.805 \tLoss:  0.4741628170013428\n",
      "Epoch:  32\n"
     ]
    },
    {
     "name": "stderr",
     "output_type": "stream",
     "text": [
      "Running Accuracy: 0.8259783513738551,  \t Batch Loss:  0.2316545844078064: 100%|██████████| 38/38 [00:06<00:00,  5.81it/s] \n"
     ]
    },
    {
     "name": "stdout",
     "output_type": "stream",
     "text": [
      "Accuracy:  0.83 \tLoss:  0.2316545844078064\n",
      "Epoch:  33\n"
     ]
    },
    {
     "name": "stderr",
     "output_type": "stream",
     "text": [
      "Running Accuracy: 0.829308909242298,  \t Batch Loss:  0.39412426948547363: 100%|██████████| 38/38 [00:06<00:00,  5.85it/s] \n"
     ]
    },
    {
     "name": "stdout",
     "output_type": "stream",
     "text": [
      "Accuracy:  0.82 \tLoss:  0.39412426948547363\n",
      "Epoch:  34\n"
     ]
    },
    {
     "name": "stderr",
     "output_type": "stream",
     "text": [
      "Running Accuracy: 0.8151540383014155,  \t Batch Loss:  0.16502290964126587: 100%|██████████| 38/38 [00:06<00:00,  5.73it/s]\n"
     ]
    },
    {
     "name": "stdout",
     "output_type": "stream",
     "text": [
      "Accuracy:  0.7775 \tLoss:  0.16502290964126587\n",
      "Epoch:  35\n"
     ]
    },
    {
     "name": "stderr",
     "output_type": "stream",
     "text": [
      "Running Accuracy: 0.8276436303080766,  \t Batch Loss:  0.2988996207714081: 100%|██████████| 38/38 [00:06<00:00,  5.68it/s] \n"
     ]
    },
    {
     "name": "stdout",
     "output_type": "stream",
     "text": [
      "Accuracy:  0.8175 \tLoss:  0.2988996207714081\n",
      "Epoch:  36\n"
     ]
    },
    {
     "name": "stderr",
     "output_type": "stream",
     "text": [
      "Running Accuracy: 0.8259783513738551,  \t Batch Loss:  0.4904021620750427: 100%|██████████| 38/38 [00:06<00:00,  5.66it/s] \n"
     ]
    },
    {
     "name": "stdout",
     "output_type": "stream",
     "text": [
      "Accuracy:  0.8225 \tLoss:  0.4904021620750427\n",
      "Epoch:  37\n"
     ]
    },
    {
     "name": "stderr",
     "output_type": "stream",
     "text": [
      "Running Accuracy: 0.832639467110741,  \t Batch Loss:  0.3913227915763855: 100%|██████████| 38/38 [00:06<00:00,  5.85it/s]  \n"
     ]
    },
    {
     "name": "stdout",
     "output_type": "stream",
     "text": [
      "Accuracy:  0.8525 \tLoss:  0.3913227915763855\n",
      "Epoch:  38\n"
     ]
    },
    {
     "name": "stderr",
     "output_type": "stream",
     "text": [
      "Running Accuracy: 0.8476269775187344,  \t Batch Loss:  0.41258999705314636: 100%|██████████| 38/38 [00:06<00:00,  5.71it/s]\n"
     ]
    },
    {
     "name": "stdout",
     "output_type": "stream",
     "text": [
      "Accuracy:  0.785 \tLoss:  0.41258999705314636\n",
      "Epoch:  39\n"
     ]
    },
    {
     "name": "stderr",
     "output_type": "stream",
     "text": [
      "Running Accuracy: 0.8218151540383014,  \t Batch Loss:  0.6644977331161499: 100%|██████████| 38/38 [00:06<00:00,  5.72it/s] \n"
     ]
    },
    {
     "name": "stdout",
     "output_type": "stream",
     "text": [
      "Accuracy:  0.84 \tLoss:  0.6644977331161499\n",
      "Epoch:  40\n"
     ]
    },
    {
     "name": "stderr",
     "output_type": "stream",
     "text": [
      "Running Accuracy: 0.8467943380516236,  \t Batch Loss:  0.5095663070678711: 100%|██████████| 38/38 [00:06<00:00,  5.83it/s] \n"
     ]
    },
    {
     "name": "stdout",
     "output_type": "stream",
     "text": [
      "Accuracy:  0.825 \tLoss:  0.5095663070678711\n",
      "Epoch:  41\n"
     ]
    },
    {
     "name": "stderr",
     "output_type": "stream",
     "text": [
      "Running Accuracy: 0.8501248959200666,  \t Batch Loss:  0.12554439902305603: 100%|██████████| 38/38 [00:06<00:00,  5.51it/s]\n"
     ]
    },
    {
     "name": "stdout",
     "output_type": "stream",
     "text": [
      "Accuracy:  0.8425 \tLoss:  0.12554439902305603\n",
      "Epoch:  42\n"
     ]
    },
    {
     "name": "stderr",
     "output_type": "stream",
     "text": [
      "Running Accuracy: 0.8434637801831807,  \t Batch Loss:  0.4028525948524475: 100%|██████████| 38/38 [00:06<00:00,  5.65it/s] \n"
     ]
    },
    {
     "name": "stdout",
     "output_type": "stream",
     "text": [
      "Accuracy:  0.8325 \tLoss:  0.4028525948524475\n",
      "Epoch:  43\n"
     ]
    },
    {
     "name": "stderr",
     "output_type": "stream",
     "text": [
      "Running Accuracy: 0.8484596169858452,  \t Batch Loss:  0.29306459426879883: 100%|██████████| 38/38 [00:06<00:00,  5.67it/s]\n"
     ]
    },
    {
     "name": "stdout",
     "output_type": "stream",
     "text": [
      "Accuracy:  0.8225 \tLoss:  0.29306459426879883\n",
      "Epoch:  44\n"
     ]
    },
    {
     "name": "stderr",
     "output_type": "stream",
     "text": [
      "Running Accuracy: 0.8467943380516236,  \t Batch Loss:  0.1738164722919464: 100%|██████████| 38/38 [00:07<00:00,  5.28it/s] \n"
     ]
    },
    {
     "name": "stdout",
     "output_type": "stream",
     "text": [
      "Accuracy:  0.82 \tLoss:  0.1738164722919464\n",
      "Epoch:  45\n"
     ]
    },
    {
     "name": "stderr",
     "output_type": "stream",
     "text": [
      "Running Accuracy: 0.8501248959200666,  \t Batch Loss:  0.3759496212005615: 100%|██████████| 38/38 [00:06<00:00,  5.72it/s] \n"
     ]
    },
    {
     "name": "stdout",
     "output_type": "stream",
     "text": [
      "Accuracy:  0.8425 \tLoss:  0.3759496212005615\n",
      "Epoch:  46\n"
     ]
    },
    {
     "name": "stderr",
     "output_type": "stream",
     "text": [
      "Running Accuracy: 0.8484596169858452,  \t Batch Loss:  0.2843346893787384: 100%|██████████| 38/38 [00:06<00:00,  5.78it/s] \n"
     ]
    },
    {
     "name": "stdout",
     "output_type": "stream",
     "text": [
      "Accuracy:  0.7925 \tLoss:  0.2843346893787384\n",
      "Epoch:  47\n"
     ]
    },
    {
     "name": "stderr",
     "output_type": "stream",
     "text": [
      "Running Accuracy: 0.8467943380516236,  \t Batch Loss:  0.78061443567276: 100%|██████████| 38/38 [00:06<00:00,  5.68it/s]   \n"
     ]
    },
    {
     "name": "stdout",
     "output_type": "stream",
     "text": [
      "Accuracy:  0.835 \tLoss:  0.78061443567276\n",
      "Epoch:  48\n"
     ]
    },
    {
     "name": "stderr",
     "output_type": "stream",
     "text": [
      "Running Accuracy: 0.8426311407160699,  \t Batch Loss:  0.2580624520778656: 100%|██████████| 38/38 [00:06<00:00,  5.66it/s] \n"
     ]
    },
    {
     "name": "stdout",
     "output_type": "stream",
     "text": [
      "Accuracy:  0.8475 \tLoss:  0.2580624520778656\n",
      "Epoch:  49\n"
     ]
    },
    {
     "name": "stderr",
     "output_type": "stream",
     "text": [
      "Running Accuracy: 0.8343047460449625,  \t Batch Loss:  0.1781231164932251: 100%|██████████| 38/38 [00:06<00:00,  5.78it/s] \n"
     ]
    },
    {
     "name": "stdout",
     "output_type": "stream",
     "text": [
      "Accuracy:  0.8425 \tLoss:  0.1781231164932251\n",
      "Epoch:  50\n"
     ]
    },
    {
     "name": "stderr",
     "output_type": "stream",
     "text": [
      "Running Accuracy: 0.8559533721898418,  \t Batch Loss:  0.3188185691833496: 100%|██████████| 38/38 [00:06<00:00,  5.52it/s] \n"
     ]
    },
    {
     "name": "stdout",
     "output_type": "stream",
     "text": [
      "Accuracy:  0.8075 \tLoss:  0.3188185691833496\n"
     ]
    }
   ],
   "source": [
    "root_dir = r'Data\\Top_level\\1_4'\n",
    "dataset = datasets.ImageFolder(root=root_dir, transform=transform)\n",
    "model_1_4 = CNN(4).to(device)\n",
    "val_size = int(0.2 * len(dataset))\n",
    "test_size = int(0.2 * len(dataset))\n",
    "train_size = len(dataset) - val_size - test_size\n",
    "\n",
    "# Split the dataset into training, validation, and test sets\n",
    "train_dataset, val_dataset, test_dataset = torch.utils.data.random_split(dataset, [train_size, val_size, test_size])\n",
    "train_dataloader = torch.utils.data.DataLoader(train_dataset, batch_size=32, shuffle=True, num_workers=4)\n",
    "val_dataloader = torch.utils.data.DataLoader(val_dataset, batch_size=32, shuffle=False, num_workers=4)\n",
    "test_dataloader = torch.utils.data.DataLoader(test_dataset, batch_size=32, shuffle=False, num_workers=4)\n",
    "loss_fn = nn.CrossEntropyLoss()\n",
    "optimizer = torch.optim.Adam(model_1_4.parameters(), lr=0.0001)\n",
    "\n",
    "length = len(train_dataloader)\n",
    "for epoch in range(50):  # loop over the dataset multiple times\n",
    "    print(\"Epoch: \", epoch+1)\n",
    "    pbar = tqdm(train_dataloader)\n",
    "    running_loss = 0.0\n",
    "    correct = 0\n",
    "    total_seen = 0\n",
    "    for inputs, labels in pbar:\n",
    "        inputs, labels = inputs.to(device), labels.to(device)\n",
    "        # total_seen += labels.size(0)\n",
    "\n",
    "        optimizer.zero_grad()\n",
    "\n",
    "        outputs = model_1_4(inputs)\n",
    "        loss = loss_fn(outputs, labels)\n",
    "        loss.backward()\n",
    "        optimizer.step()\n",
    "\n",
    "        running_loss += loss.item()\n",
    "        # print(labels.shape, outputs)\n",
    "        _, predicted = torch.max(outputs.data, 1)\n",
    "        # print(predicted.size(0))\n",
    "        total_seen+=predicted.size(0)\n",
    "        correct += (predicted == labels).sum().item()\n",
    "        pbar.set_description(f\"Running Accuracy: { correct/total_seen},  \\t Batch Loss:  {loss}\")\n",
    "\n",
    "    # Testing the network\n",
    "    correct = 0\n",
    "    total = 0\n",
    "    total_loss=0\n",
    "    with torch.no_grad():\n",
    "        for (images, labels) in val_dataloader:\n",
    "            images, labels = images.to(device), labels.to(device)\n",
    "            outputs = model_1_4(images)\n",
    "            val_loss = nn.CrossEntropyLoss()(outputs, labels)\n",
    "            total_loss += loss.item()\n",
    "            _, predicted = torch.max(outputs.data, 1)\n",
    "            total += labels.size(0)\n",
    "            correct += (predicted == labels).sum().item()\n",
    "        print(\"Accuracy: \", correct/total, \"\\tLoss: \", total_loss/len(val_dataloader))"
   ]
  },
  {
   "cell_type": "markdown",
   "metadata": {},
   "source": [
    "### 5_8"
   ]
  },
  {
   "cell_type": "code",
   "execution_count": 15,
   "metadata": {},
   "outputs": [
    {
     "name": "stdout",
     "output_type": "stream",
     "text": [
      "Epoch:  1\n"
     ]
    },
    {
     "name": "stderr",
     "output_type": "stream",
     "text": [
      "Running Accuracy: 0.2775,  \t Batch Loss:  1.382874608039856: 100%|██████████| 38/38 [00:06<00:00,  5.47it/s]              \n"
     ]
    },
    {
     "name": "stdout",
     "output_type": "stream",
     "text": [
      "Accuracy:  0.2725 \tLoss:  1.382874608039856\n",
      "Epoch:  2\n"
     ]
    },
    {
     "name": "stderr",
     "output_type": "stream",
     "text": [
      "Running Accuracy: 0.37916666666666665,  \t Batch Loss:  1.2245548963546753: 100%|██████████| 38/38 [00:06<00:00,  5.46it/s]\n"
     ]
    },
    {
     "name": "stdout",
     "output_type": "stream",
     "text": [
      "Accuracy:  0.425 \tLoss:  1.2245548963546753\n",
      "Epoch:  3\n"
     ]
    },
    {
     "name": "stderr",
     "output_type": "stream",
     "text": [
      "Running Accuracy: 0.43,  \t Batch Loss:  1.1750215291976929: 100%|██████████| 38/38 [00:06<00:00,  5.46it/s]               \n"
     ]
    },
    {
     "name": "stdout",
     "output_type": "stream",
     "text": [
      "Accuracy:  0.48 \tLoss:  1.1750215291976929\n",
      "Epoch:  4\n"
     ]
    },
    {
     "name": "stderr",
     "output_type": "stream",
     "text": [
      "Running Accuracy: 0.5858333333333333,  \t Batch Loss:  0.9743655323982239: 100%|██████████| 38/38 [00:07<00:00,  5.37it/s]\n"
     ]
    },
    {
     "name": "stdout",
     "output_type": "stream",
     "text": [
      "Accuracy:  0.6025 \tLoss:  0.9743655323982239\n",
      "Epoch:  5\n"
     ]
    },
    {
     "name": "stderr",
     "output_type": "stream",
     "text": [
      "Running Accuracy: 0.61,  \t Batch Loss:  0.7244129776954651: 100%|██████████| 38/38 [00:06<00:00,  5.55it/s]              \n"
     ]
    },
    {
     "name": "stdout",
     "output_type": "stream",
     "text": [
      "Accuracy:  0.5825 \tLoss:  0.7244129776954651\n",
      "Epoch:  6\n"
     ]
    },
    {
     "name": "stderr",
     "output_type": "stream",
     "text": [
      "Running Accuracy: 0.6625,  \t Batch Loss:  0.4462086260318756: 100%|██████████| 38/38 [00:06<00:00,  5.62it/s]            \n"
     ]
    },
    {
     "name": "stdout",
     "output_type": "stream",
     "text": [
      "Accuracy:  0.665 \tLoss:  0.4462086260318756\n",
      "Epoch:  7\n"
     ]
    },
    {
     "name": "stderr",
     "output_type": "stream",
     "text": [
      "Running Accuracy: 0.6775,  \t Batch Loss:  0.6674244403839111: 100%|██████████| 38/38 [00:06<00:00,  5.58it/s]            \n"
     ]
    },
    {
     "name": "stdout",
     "output_type": "stream",
     "text": [
      "Accuracy:  0.64 \tLoss:  0.6674244403839111\n",
      "Epoch:  8\n"
     ]
    },
    {
     "name": "stderr",
     "output_type": "stream",
     "text": [
      "Running Accuracy: 0.7158333333333333,  \t Batch Loss:  0.6011888980865479: 100%|██████████| 38/38 [00:06<00:00,  5.57it/s]\n"
     ]
    },
    {
     "name": "stdout",
     "output_type": "stream",
     "text": [
      "Accuracy:  0.7 \tLoss:  0.6011888980865479\n",
      "Epoch:  9\n"
     ]
    },
    {
     "name": "stderr",
     "output_type": "stream",
     "text": [
      "Running Accuracy: 0.7166666666666667,  \t Batch Loss:  0.8868562579154968: 100%|██████████| 38/38 [00:06<00:00,  5.44it/s]\n"
     ]
    },
    {
     "name": "stdout",
     "output_type": "stream",
     "text": [
      "Accuracy:  0.67 \tLoss:  0.8868562579154968\n",
      "Epoch:  10\n"
     ]
    },
    {
     "name": "stderr",
     "output_type": "stream",
     "text": [
      "Running Accuracy: 0.71,  \t Batch Loss:  0.46963000297546387: 100%|██████████| 38/38 [00:06<00:00,  5.56it/s]             \n"
     ]
    },
    {
     "name": "stdout",
     "output_type": "stream",
     "text": [
      "Accuracy:  0.6925 \tLoss:  0.46963000297546387\n",
      "Epoch:  11\n"
     ]
    },
    {
     "name": "stderr",
     "output_type": "stream",
     "text": [
      "Running Accuracy: 0.7283333333333334,  \t Batch Loss:  0.7116024494171143: 100%|██████████| 38/38 [00:06<00:00,  5.65it/s]\n"
     ]
    },
    {
     "name": "stdout",
     "output_type": "stream",
     "text": [
      "Accuracy:  0.6975 \tLoss:  0.7116024494171143\n",
      "Epoch:  12\n"
     ]
    },
    {
     "name": "stderr",
     "output_type": "stream",
     "text": [
      "Running Accuracy: 0.7216666666666667,  \t Batch Loss:  0.8679160475730896: 100%|██████████| 38/38 [00:06<00:00,  5.57it/s] \n"
     ]
    },
    {
     "name": "stdout",
     "output_type": "stream",
     "text": [
      "Accuracy:  0.6875 \tLoss:  0.8679160475730896\n",
      "Epoch:  13\n"
     ]
    },
    {
     "name": "stderr",
     "output_type": "stream",
     "text": [
      "Running Accuracy: 0.7283333333333334,  \t Batch Loss:  0.6531089544296265: 100%|██████████| 38/38 [00:06<00:00,  5.62it/s]\n"
     ]
    },
    {
     "name": "stdout",
     "output_type": "stream",
     "text": [
      "Accuracy:  0.6975 \tLoss:  0.6531089544296265\n",
      "Epoch:  14\n"
     ]
    },
    {
     "name": "stderr",
     "output_type": "stream",
     "text": [
      "Running Accuracy: 0.7525,  \t Batch Loss:  0.6980422139167786: 100%|██████████| 38/38 [00:06<00:00,  5.64it/s]             \n"
     ]
    },
    {
     "name": "stdout",
     "output_type": "stream",
     "text": [
      "Accuracy:  0.7275 \tLoss:  0.6980422139167786\n",
      "Epoch:  15\n"
     ]
    },
    {
     "name": "stderr",
     "output_type": "stream",
     "text": [
      "Running Accuracy: 0.7558333333333334,  \t Batch Loss:  0.812866747379303: 100%|██████████| 38/38 [00:06<00:00,  5.67it/s]  \n"
     ]
    },
    {
     "name": "stdout",
     "output_type": "stream",
     "text": [
      "Accuracy:  0.7075 \tLoss:  0.812866747379303\n",
      "Epoch:  16\n"
     ]
    },
    {
     "name": "stderr",
     "output_type": "stream",
     "text": [
      "Running Accuracy: 0.7441666666666666,  \t Batch Loss:  0.5125388503074646: 100%|██████████| 38/38 [00:06<00:00,  5.56it/s] \n"
     ]
    },
    {
     "name": "stdout",
     "output_type": "stream",
     "text": [
      "Accuracy:  0.69 \tLoss:  0.5125388503074646\n",
      "Epoch:  17\n"
     ]
    },
    {
     "name": "stderr",
     "output_type": "stream",
     "text": [
      "Running Accuracy: 0.7383333333333333,  \t Batch Loss:  0.5219888687133789: 100%|██████████| 38/38 [00:06<00:00,  5.53it/s] \n"
     ]
    },
    {
     "name": "stdout",
     "output_type": "stream",
     "text": [
      "Accuracy:  0.7025 \tLoss:  0.5219888687133789\n",
      "Epoch:  18\n"
     ]
    },
    {
     "name": "stderr",
     "output_type": "stream",
     "text": [
      "Running Accuracy: 0.76,  \t Batch Loss:  0.6077507734298706: 100%|██████████| 38/38 [00:06<00:00,  5.64it/s]               \n"
     ]
    },
    {
     "name": "stdout",
     "output_type": "stream",
     "text": [
      "Accuracy:  0.725 \tLoss:  0.6077507734298706\n",
      "Epoch:  19\n"
     ]
    },
    {
     "name": "stderr",
     "output_type": "stream",
     "text": [
      "Running Accuracy: 0.75,  \t Batch Loss:  0.8724005818367004: 100%|██████████| 38/38 [00:06<00:00,  5.59it/s]              \n"
     ]
    },
    {
     "name": "stdout",
     "output_type": "stream",
     "text": [
      "Accuracy:  0.715 \tLoss:  0.8724005818367004\n",
      "Epoch:  20\n"
     ]
    },
    {
     "name": "stderr",
     "output_type": "stream",
     "text": [
      "Running Accuracy: 0.7608333333333334,  \t Batch Loss:  0.8054170608520508: 100%|██████████| 38/38 [00:06<00:00,  5.67it/s] \n"
     ]
    },
    {
     "name": "stdout",
     "output_type": "stream",
     "text": [
      "Accuracy:  0.7225 \tLoss:  0.8054170608520508\n",
      "Epoch:  21\n"
     ]
    },
    {
     "name": "stderr",
     "output_type": "stream",
     "text": [
      "Running Accuracy: 0.76,  \t Batch Loss:  0.43332505226135254: 100%|██████████| 38/38 [00:06<00:00,  5.55it/s]              \n"
     ]
    },
    {
     "name": "stdout",
     "output_type": "stream",
     "text": [
      "Accuracy:  0.7125 \tLoss:  0.43332505226135254\n",
      "Epoch:  22\n"
     ]
    },
    {
     "name": "stderr",
     "output_type": "stream",
     "text": [
      "Running Accuracy: 0.7683333333333333,  \t Batch Loss:  0.6501283049583435: 100%|██████████| 38/38 [00:06<00:00,  5.44it/s] \n"
     ]
    },
    {
     "name": "stdout",
     "output_type": "stream",
     "text": [
      "Accuracy:  0.7325 \tLoss:  0.6501283049583435\n",
      "Epoch:  23\n"
     ]
    },
    {
     "name": "stderr",
     "output_type": "stream",
     "text": [
      "Running Accuracy: 0.7616666666666667,  \t Batch Loss:  0.6379033923149109: 100%|██████████| 38/38 [00:06<00:00,  5.45it/s] \n"
     ]
    },
    {
     "name": "stdout",
     "output_type": "stream",
     "text": [
      "Accuracy:  0.74 \tLoss:  0.6379033923149109\n",
      "Epoch:  24\n"
     ]
    },
    {
     "name": "stderr",
     "output_type": "stream",
     "text": [
      "Running Accuracy: 0.7791666666666667,  \t Batch Loss:  0.4628298282623291: 100%|██████████| 38/38 [00:06<00:00,  5.48it/s] \n"
     ]
    },
    {
     "name": "stdout",
     "output_type": "stream",
     "text": [
      "Accuracy:  0.7425 \tLoss:  0.4628298282623291\n",
      "Epoch:  25\n"
     ]
    },
    {
     "name": "stderr",
     "output_type": "stream",
     "text": [
      "Running Accuracy: 0.79,  \t Batch Loss:  0.668923020362854: 100%|██████████| 38/38 [00:06<00:00,  5.53it/s]                \n"
     ]
    },
    {
     "name": "stdout",
     "output_type": "stream",
     "text": [
      "Accuracy:  0.7525 \tLoss:  0.668923020362854\n",
      "Epoch:  26\n"
     ]
    },
    {
     "name": "stderr",
     "output_type": "stream",
     "text": [
      "Running Accuracy: 0.7866666666666666,  \t Batch Loss:  0.7308411598205566: 100%|██████████| 38/38 [00:06<00:00,  5.57it/s] \n"
     ]
    },
    {
     "name": "stdout",
     "output_type": "stream",
     "text": [
      "Accuracy:  0.7325 \tLoss:  0.7308411598205566\n",
      "Epoch:  27\n"
     ]
    },
    {
     "name": "stderr",
     "output_type": "stream",
     "text": [
      "Running Accuracy: 0.7966666666666666,  \t Batch Loss:  0.8542525172233582: 100%|██████████| 38/38 [00:06<00:00,  5.65it/s] \n"
     ]
    },
    {
     "name": "stdout",
     "output_type": "stream",
     "text": [
      "Accuracy:  0.7375 \tLoss:  0.8542525172233582\n",
      "Epoch:  28\n"
     ]
    },
    {
     "name": "stderr",
     "output_type": "stream",
     "text": [
      "Running Accuracy: 0.7883333333333333,  \t Batch Loss:  0.5871992111206055: 100%|██████████| 38/38 [00:06<00:00,  5.51it/s] \n"
     ]
    },
    {
     "name": "stdout",
     "output_type": "stream",
     "text": [
      "Accuracy:  0.71 \tLoss:  0.5871992111206055\n",
      "Epoch:  29\n"
     ]
    },
    {
     "name": "stderr",
     "output_type": "stream",
     "text": [
      "Running Accuracy: 0.78,  \t Batch Loss:  0.6921902894973755: 100%|██████████| 38/38 [00:07<00:00,  5.36it/s]               \n"
     ]
    },
    {
     "name": "stdout",
     "output_type": "stream",
     "text": [
      "Accuracy:  0.7175 \tLoss:  0.6921902894973755\n",
      "Epoch:  30\n"
     ]
    },
    {
     "name": "stderr",
     "output_type": "stream",
     "text": [
      "Running Accuracy: 0.82,  \t Batch Loss:  0.3597928583621979: 100%|██████████| 38/38 [00:06<00:00,  5.66it/s]               \n"
     ]
    },
    {
     "name": "stdout",
     "output_type": "stream",
     "text": [
      "Accuracy:  0.73 \tLoss:  0.3597928583621979\n",
      "Epoch:  31\n"
     ]
    },
    {
     "name": "stderr",
     "output_type": "stream",
     "text": [
      "Running Accuracy: 0.7841666666666667,  \t Batch Loss:  0.23085832595825195: 100%|██████████| 38/38 [00:06<00:00,  5.60it/s]\n"
     ]
    },
    {
     "name": "stdout",
     "output_type": "stream",
     "text": [
      "Accuracy:  0.7325 \tLoss:  0.23085832595825195\n",
      "Epoch:  32\n"
     ]
    },
    {
     "name": "stderr",
     "output_type": "stream",
     "text": [
      "Running Accuracy: 0.81,  \t Batch Loss:  0.40621039271354675: 100%|██████████| 38/38 [00:06<00:00,  5.62it/s]              \n"
     ]
    },
    {
     "name": "stdout",
     "output_type": "stream",
     "text": [
      "Accuracy:  0.7425 \tLoss:  0.40621039271354675\n",
      "Epoch:  33\n"
     ]
    },
    {
     "name": "stderr",
     "output_type": "stream",
     "text": [
      "Running Accuracy: 0.7983333333333333,  \t Batch Loss:  0.5557562112808228: 100%|██████████| 38/38 [00:06<00:00,  5.62it/s] \n"
     ]
    },
    {
     "name": "stdout",
     "output_type": "stream",
     "text": [
      "Accuracy:  0.7425 \tLoss:  0.5557562112808228\n",
      "Epoch:  34\n"
     ]
    },
    {
     "name": "stderr",
     "output_type": "stream",
     "text": [
      "Running Accuracy: 0.8041666666666667,  \t Batch Loss:  0.45666801929473877: 100%|██████████| 38/38 [00:06<00:00,  5.67it/s]\n"
     ]
    },
    {
     "name": "stdout",
     "output_type": "stream",
     "text": [
      "Accuracy:  0.79 \tLoss:  0.45666801929473877\n",
      "Epoch:  35\n"
     ]
    },
    {
     "name": "stderr",
     "output_type": "stream",
     "text": [
      "Running Accuracy: 0.7891666666666667,  \t Batch Loss:  0.3102540671825409: 100%|██████████| 38/38 [00:06<00:00,  5.64it/s] \n"
     ]
    },
    {
     "name": "stdout",
     "output_type": "stream",
     "text": [
      "Accuracy:  0.755 \tLoss:  0.3102540671825409\n",
      "Epoch:  36\n"
     ]
    },
    {
     "name": "stderr",
     "output_type": "stream",
     "text": [
      "Running Accuracy: 0.8083333333333333,  \t Batch Loss:  0.20438016951084137: 100%|██████████| 38/38 [00:06<00:00,  5.58it/s]\n"
     ]
    },
    {
     "name": "stdout",
     "output_type": "stream",
     "text": [
      "Accuracy:  0.7975 \tLoss:  0.20438016951084137\n",
      "Epoch:  37\n"
     ]
    },
    {
     "name": "stderr",
     "output_type": "stream",
     "text": [
      "Running Accuracy: 0.805,  \t Batch Loss:  0.5123772025108337: 100%|██████████| 38/38 [00:06<00:00,  5.65it/s]              \n"
     ]
    },
    {
     "name": "stdout",
     "output_type": "stream",
     "text": [
      "Accuracy:  0.7575 \tLoss:  0.5123772025108337\n",
      "Epoch:  38\n"
     ]
    },
    {
     "name": "stderr",
     "output_type": "stream",
     "text": [
      "Running Accuracy: 0.8183333333333334,  \t Batch Loss:  0.3457542359828949: 100%|██████████| 38/38 [00:06<00:00,  5.66it/s] \n"
     ]
    },
    {
     "name": "stdout",
     "output_type": "stream",
     "text": [
      "Accuracy:  0.7725 \tLoss:  0.3457542359828949\n",
      "Epoch:  39\n"
     ]
    },
    {
     "name": "stderr",
     "output_type": "stream",
     "text": [
      "Running Accuracy: 0.8166666666666667,  \t Batch Loss:  0.303949773311615: 100%|██████████| 38/38 [00:06<00:00,  5.54it/s]  \n"
     ]
    },
    {
     "name": "stdout",
     "output_type": "stream",
     "text": [
      "Accuracy:  0.7875 \tLoss:  0.303949773311615\n",
      "Epoch:  40\n"
     ]
    },
    {
     "name": "stderr",
     "output_type": "stream",
     "text": [
      "Running Accuracy: 0.8266666666666667,  \t Batch Loss:  0.4456564784049988: 100%|██████████| 38/38 [00:06<00:00,  5.57it/s] \n"
     ]
    },
    {
     "name": "stdout",
     "output_type": "stream",
     "text": [
      "Accuracy:  0.7875 \tLoss:  0.4456564784049988\n",
      "Epoch:  41\n"
     ]
    },
    {
     "name": "stderr",
     "output_type": "stream",
     "text": [
      "Running Accuracy: 0.8191666666666667,  \t Batch Loss:  0.3338683247566223: 100%|██████████| 38/38 [00:06<00:00,  5.53it/s] \n"
     ]
    },
    {
     "name": "stdout",
     "output_type": "stream",
     "text": [
      "Accuracy:  0.7525 \tLoss:  0.3338683247566223\n",
      "Epoch:  42\n"
     ]
    },
    {
     "name": "stderr",
     "output_type": "stream",
     "text": [
      "Running Accuracy: 0.8133333333333334,  \t Batch Loss:  0.30857598781585693: 100%|██████████| 38/38 [00:06<00:00,  5.63it/s]\n"
     ]
    },
    {
     "name": "stdout",
     "output_type": "stream",
     "text": [
      "Accuracy:  0.795 \tLoss:  0.30857598781585693\n",
      "Epoch:  43\n"
     ]
    },
    {
     "name": "stderr",
     "output_type": "stream",
     "text": [
      "Running Accuracy: 0.8283333333333334,  \t Batch Loss:  0.5112588405609131: 100%|██████████| 38/38 [00:07<00:00,  5.39it/s] \n"
     ]
    },
    {
     "name": "stdout",
     "output_type": "stream",
     "text": [
      "Accuracy:  0.755 \tLoss:  0.5112588405609131\n",
      "Epoch:  44\n"
     ]
    },
    {
     "name": "stderr",
     "output_type": "stream",
     "text": [
      "Running Accuracy: 0.8325,  \t Batch Loss:  0.2938425540924072: 100%|██████████| 38/38 [00:06<00:00,  5.62it/s]             \n"
     ]
    },
    {
     "name": "stdout",
     "output_type": "stream",
     "text": [
      "Accuracy:  0.7875 \tLoss:  0.2938425540924072\n",
      "Epoch:  45\n"
     ]
    },
    {
     "name": "stderr",
     "output_type": "stream",
     "text": [
      "Running Accuracy: 0.8375,  \t Batch Loss:  0.32689347863197327: 100%|██████████| 38/38 [00:06<00:00,  5.71it/s]            \n"
     ]
    },
    {
     "name": "stdout",
     "output_type": "stream",
     "text": [
      "Accuracy:  0.805 \tLoss:  0.32689347863197327\n",
      "Epoch:  46\n"
     ]
    },
    {
     "name": "stderr",
     "output_type": "stream",
     "text": [
      "Running Accuracy: 0.8366666666666667,  \t Batch Loss:  0.44292160868644714: 100%|██████████| 38/38 [00:06<00:00,  5.63it/s]\n"
     ]
    },
    {
     "name": "stdout",
     "output_type": "stream",
     "text": [
      "Accuracy:  0.8025 \tLoss:  0.44292160868644714\n",
      "Epoch:  47\n"
     ]
    },
    {
     "name": "stderr",
     "output_type": "stream",
     "text": [
      "Running Accuracy: 0.84,  \t Batch Loss:  0.31570279598236084: 100%|██████████| 38/38 [00:06<00:00,  5.59it/s]              \n"
     ]
    },
    {
     "name": "stdout",
     "output_type": "stream",
     "text": [
      "Accuracy:  0.7875 \tLoss:  0.31570279598236084\n",
      "Epoch:  48\n"
     ]
    },
    {
     "name": "stderr",
     "output_type": "stream",
     "text": [
      "Running Accuracy: 0.8491666666666666,  \t Batch Loss:  0.3269840180873871: 100%|██████████| 38/38 [00:06<00:00,  5.54it/s] \n"
     ]
    },
    {
     "name": "stdout",
     "output_type": "stream",
     "text": [
      "Accuracy:  0.7875 \tLoss:  0.3269840180873871\n",
      "Epoch:  49\n"
     ]
    },
    {
     "name": "stderr",
     "output_type": "stream",
     "text": [
      "Running Accuracy: 0.85,  \t Batch Loss:  0.15433791279792786: 100%|██████████| 38/38 [00:06<00:00,  5.52it/s]              \n"
     ]
    },
    {
     "name": "stdout",
     "output_type": "stream",
     "text": [
      "Accuracy:  0.8025 \tLoss:  0.15433791279792786\n",
      "Epoch:  50\n"
     ]
    },
    {
     "name": "stderr",
     "output_type": "stream",
     "text": [
      "Running Accuracy: 0.8366666666666667,  \t Batch Loss:  0.5248077511787415: 100%|██████████| 38/38 [00:06<00:00,  5.51it/s] \n"
     ]
    },
    {
     "name": "stdout",
     "output_type": "stream",
     "text": [
      "Accuracy:  0.8075 \tLoss:  0.5248077511787415\n"
     ]
    }
   ],
   "source": [
    "root_dir = r'Data\\Top_level\\5_8'\n",
    "dataset = datasets.ImageFolder(root=root_dir, transform=transform)\n",
    "model_5_8 = CNN(4).to(device)\n",
    "val_size = int(0.2 * len(dataset))\n",
    "test_size = int(0.2 * len(dataset))\n",
    "train_size = len(dataset) - val_size - test_size\n",
    "\n",
    "# Split the dataset into training, validation, and test sets\n",
    "train_dataset, val_dataset, test_dataset = torch.utils.data.random_split(dataset, [train_size, val_size, test_size])\n",
    "train_dataloader = torch.utils.data.DataLoader(train_dataset, batch_size=32, shuffle=True, num_workers=4)\n",
    "val_dataloader = torch.utils.data.DataLoader(val_dataset, batch_size=32, shuffle=False, num_workers=4)\n",
    "test_dataloader = torch.utils.data.DataLoader(test_dataset, batch_size=32, shuffle=False, num_workers=4)\n",
    "loss_fn = nn.CrossEntropyLoss()\n",
    "optimizer = torch.optim.Adam(model_5_8.parameters(), lr=0.0001)\n",
    "\n",
    "length = len(train_dataloader)\n",
    "for epoch in range(50):  # loop over the dataset multiple times\n",
    "    print(\"Epoch: \", epoch+1)\n",
    "    pbar = tqdm(train_dataloader)\n",
    "    running_loss = 0.0\n",
    "    correct = 0\n",
    "    total_seen = 0\n",
    "    for inputs, labels in pbar:\n",
    "        inputs, labels = inputs.to(device), labels.to(device)\n",
    "        # total_seen += labels.size(0)\n",
    "\n",
    "        optimizer.zero_grad()\n",
    "\n",
    "        outputs = model_5_8(inputs)\n",
    "        loss = loss_fn(outputs, labels)\n",
    "        loss.backward()\n",
    "        optimizer.step()\n",
    "\n",
    "        running_loss += loss.item()\n",
    "        # print(labels.shape, outputs)\n",
    "        _, predicted = torch.max(outputs.data, 1)\n",
    "        # print(predicted.size(0))\n",
    "        total_seen+=predicted.size(0)\n",
    "        correct += (predicted == labels).sum().item()\n",
    "        pbar.set_description(f\"Running Accuracy: { correct/total_seen},  \\t Batch Loss:  {loss}\")\n",
    "\n",
    "    # Testing the network\n",
    "    correct = 0\n",
    "    total = 0\n",
    "    total_loss=0\n",
    "    with torch.no_grad():\n",
    "        for (images, labels) in val_dataloader:\n",
    "            images, labels = images.to(device), labels.to(device)\n",
    "            outputs = model_5_8(images)\n",
    "            val_loss = nn.CrossEntropyLoss()(outputs, labels)\n",
    "            total_loss += loss.item()\n",
    "            _, predicted = torch.max(outputs.data, 1)\n",
    "            total += labels.size(0)\n",
    "            correct += (predicted == labels).sum().item()\n",
    "        print(\"Accuracy: \", correct/total, \"\\tLoss: \", total_loss/len(val_dataloader))"
   ]
  },
  {
   "cell_type": "markdown",
   "metadata": {},
   "source": [
    "### 9_12"
   ]
  },
  {
   "cell_type": "code",
   "execution_count": 16,
   "metadata": {},
   "outputs": [
    {
     "name": "stdout",
     "output_type": "stream",
     "text": [
      "Epoch:  1\n"
     ]
    },
    {
     "name": "stderr",
     "output_type": "stream",
     "text": [
      "  0%|          | 0/38 [00:00<?, ?it/s]"
     ]
    },
    {
     "name": "stderr",
     "output_type": "stream",
     "text": [
      "Running Accuracy: 0.23416666666666666,  \t Batch Loss:  1.4087969064712524: 100%|██████████| 38/38 [00:06<00:00,  5.45it/s]\n"
     ]
    },
    {
     "name": "stdout",
     "output_type": "stream",
     "text": [
      "Accuracy:  0.2525 \tLoss:  1.4087969064712524\n",
      "Epoch:  2\n"
     ]
    },
    {
     "name": "stderr",
     "output_type": "stream",
     "text": [
      "Running Accuracy: 0.25083333333333335,  \t Batch Loss:  1.3913350105285645: 100%|██████████| 38/38 [00:06<00:00,  5.49it/s]\n"
     ]
    },
    {
     "name": "stdout",
     "output_type": "stream",
     "text": [
      "Accuracy:  0.2525 \tLoss:  1.3913350105285645\n",
      "Epoch:  3\n"
     ]
    },
    {
     "name": "stderr",
     "output_type": "stream",
     "text": [
      "Running Accuracy: 0.25916666666666666,  \t Batch Loss:  1.3717799186706543: 100%|██████████| 38/38 [00:06<00:00,  5.48it/s]\n"
     ]
    },
    {
     "name": "stdout",
     "output_type": "stream",
     "text": [
      "Accuracy:  0.2525 \tLoss:  1.3717799186706543\n",
      "Epoch:  4\n"
     ]
    },
    {
     "name": "stderr",
     "output_type": "stream",
     "text": [
      "Running Accuracy: 0.30333333333333334,  \t Batch Loss:  1.3770785331726074: 100%|██████████| 38/38 [00:06<00:00,  5.63it/s]\n"
     ]
    },
    {
     "name": "stdout",
     "output_type": "stream",
     "text": [
      "Accuracy:  0.3025 \tLoss:  1.3770785331726074\n",
      "Epoch:  5\n"
     ]
    },
    {
     "name": "stderr",
     "output_type": "stream",
     "text": [
      "Running Accuracy: 0.3333333333333333,  \t Batch Loss:  1.3184020519256592: 100%|██████████| 38/38 [00:06<00:00,  5.68it/s] \n"
     ]
    },
    {
     "name": "stdout",
     "output_type": "stream",
     "text": [
      "Accuracy:  0.3525 \tLoss:  1.3184020519256592\n",
      "Epoch:  6\n"
     ]
    },
    {
     "name": "stderr",
     "output_type": "stream",
     "text": [
      "Running Accuracy: 0.37916666666666665,  \t Batch Loss:  1.2368170022964478: 100%|██████████| 38/38 [00:06<00:00,  5.69it/s]\n"
     ]
    },
    {
     "name": "stdout",
     "output_type": "stream",
     "text": [
      "Accuracy:  0.39 \tLoss:  1.2368170022964478\n",
      "Epoch:  7\n"
     ]
    },
    {
     "name": "stderr",
     "output_type": "stream",
     "text": [
      "Running Accuracy: 0.4275,  \t Batch Loss:  1.3262685537338257: 100%|██████████| 38/38 [00:06<00:00,  5.52it/s]             \n"
     ]
    },
    {
     "name": "stdout",
     "output_type": "stream",
     "text": [
      "Accuracy:  0.4725 \tLoss:  1.3262685537338257\n",
      "Epoch:  8\n"
     ]
    },
    {
     "name": "stderr",
     "output_type": "stream",
     "text": [
      "Running Accuracy: 0.4741666666666667,  \t Batch Loss:  0.9944013953208923: 100%|██████████| 38/38 [00:06<00:00,  5.47it/s] \n"
     ]
    },
    {
     "name": "stdout",
     "output_type": "stream",
     "text": [
      "Accuracy:  0.4475 \tLoss:  0.9944013953208923\n",
      "Epoch:  9\n"
     ]
    },
    {
     "name": "stderr",
     "output_type": "stream",
     "text": [
      "Running Accuracy: 0.46,  \t Batch Loss:  0.989599347114563: 100%|██████████| 38/38 [00:06<00:00,  5.54it/s]                \n"
     ]
    },
    {
     "name": "stdout",
     "output_type": "stream",
     "text": [
      "Accuracy:  0.465 \tLoss:  0.989599347114563\n",
      "Epoch:  10\n"
     ]
    },
    {
     "name": "stderr",
     "output_type": "stream",
     "text": [
      "Running Accuracy: 0.5091666666666667,  \t Batch Loss:  1.0244166851043701: 100%|██████████| 38/38 [00:06<00:00,  5.53it/s] \n"
     ]
    },
    {
     "name": "stdout",
     "output_type": "stream",
     "text": [
      "Accuracy:  0.5025 \tLoss:  1.0244166851043701\n",
      "Epoch:  11\n"
     ]
    },
    {
     "name": "stderr",
     "output_type": "stream",
     "text": [
      "Running Accuracy: 0.5333333333333333,  \t Batch Loss:  0.8614354133605957: 100%|██████████| 38/38 [00:06<00:00,  5.57it/s]\n"
     ]
    },
    {
     "name": "stdout",
     "output_type": "stream",
     "text": [
      "Accuracy:  0.5175 \tLoss:  0.8614354133605957\n",
      "Epoch:  12\n"
     ]
    },
    {
     "name": "stderr",
     "output_type": "stream",
     "text": [
      "Running Accuracy: 0.5625,  \t Batch Loss:  0.8789034485816956: 100%|██████████| 38/38 [00:06<00:00,  5.58it/s]            \n"
     ]
    },
    {
     "name": "stdout",
     "output_type": "stream",
     "text": [
      "Accuracy:  0.5625 \tLoss:  0.8789034485816956\n",
      "Epoch:  13\n"
     ]
    },
    {
     "name": "stderr",
     "output_type": "stream",
     "text": [
      "Running Accuracy: 0.56,  \t Batch Loss:  0.8926329612731934: 100%|██████████| 38/38 [00:06<00:00,  5.56it/s]              \n"
     ]
    },
    {
     "name": "stdout",
     "output_type": "stream",
     "text": [
      "Accuracy:  0.5375 \tLoss:  0.8926329612731934\n",
      "Epoch:  14\n"
     ]
    },
    {
     "name": "stderr",
     "output_type": "stream",
     "text": [
      "Running Accuracy: 0.565,  \t Batch Loss:  0.947144091129303: 100%|██████████| 38/38 [00:06<00:00,  5.60it/s]              \n"
     ]
    },
    {
     "name": "stdout",
     "output_type": "stream",
     "text": [
      "Accuracy:  0.575 \tLoss:  0.947144091129303\n",
      "Epoch:  15\n"
     ]
    },
    {
     "name": "stderr",
     "output_type": "stream",
     "text": [
      "Running Accuracy: 0.58,  \t Batch Loss:  1.0513465404510498: 100%|██████████| 38/38 [00:06<00:00,  5.64it/s]              \n"
     ]
    },
    {
     "name": "stdout",
     "output_type": "stream",
     "text": [
      "Accuracy:  0.52 \tLoss:  1.0513465404510498\n",
      "Epoch:  16\n"
     ]
    },
    {
     "name": "stderr",
     "output_type": "stream",
     "text": [
      "Running Accuracy: 0.5575,  \t Batch Loss:  1.1584076881408691: 100%|██████████| 38/38 [00:06<00:00,  5.68it/s]            \n"
     ]
    },
    {
     "name": "stdout",
     "output_type": "stream",
     "text": [
      "Accuracy:  0.545 \tLoss:  1.1584076881408691\n",
      "Epoch:  17\n"
     ]
    },
    {
     "name": "stderr",
     "output_type": "stream",
     "text": [
      "Running Accuracy: 0.5533333333333333,  \t Batch Loss:  1.062120795249939: 100%|██████████| 38/38 [00:06<00:00,  5.62it/s] \n"
     ]
    },
    {
     "name": "stdout",
     "output_type": "stream",
     "text": [
      "Accuracy:  0.5075 \tLoss:  1.062120795249939\n",
      "Epoch:  18\n"
     ]
    },
    {
     "name": "stderr",
     "output_type": "stream",
     "text": [
      "Running Accuracy: 0.5525,  \t Batch Loss:  0.7228960394859314: 100%|██████████| 38/38 [00:06<00:00,  5.62it/s]            \n"
     ]
    },
    {
     "name": "stdout",
     "output_type": "stream",
     "text": [
      "Accuracy:  0.555 \tLoss:  0.7228960394859314\n",
      "Epoch:  19\n"
     ]
    },
    {
     "name": "stderr",
     "output_type": "stream",
     "text": [
      "Running Accuracy: 0.5641666666666667,  \t Batch Loss:  0.8055214881896973: 100%|██████████| 38/38 [00:06<00:00,  5.65it/s]\n"
     ]
    },
    {
     "name": "stdout",
     "output_type": "stream",
     "text": [
      "Accuracy:  0.58 \tLoss:  0.8055214881896973\n",
      "Epoch:  20\n"
     ]
    },
    {
     "name": "stderr",
     "output_type": "stream",
     "text": [
      "Running Accuracy: 0.5808333333333333,  \t Batch Loss:  0.9248278141021729: 100%|██████████| 38/38 [00:06<00:00,  5.63it/s]\n"
     ]
    },
    {
     "name": "stdout",
     "output_type": "stream",
     "text": [
      "Accuracy:  0.55 \tLoss:  0.9248278141021729\n",
      "Epoch:  21\n"
     ]
    },
    {
     "name": "stderr",
     "output_type": "stream",
     "text": [
      "Running Accuracy: 0.5641666666666667,  \t Batch Loss:  0.8922404050827026: 100%|██████████| 38/38 [00:07<00:00,  5.34it/s]\n"
     ]
    },
    {
     "name": "stdout",
     "output_type": "stream",
     "text": [
      "Accuracy:  0.59 \tLoss:  0.8922404050827026\n",
      "Epoch:  22\n"
     ]
    },
    {
     "name": "stderr",
     "output_type": "stream",
     "text": [
      "Running Accuracy: 0.5883333333333334,  \t Batch Loss:  0.8652648329734802: 100%|██████████| 38/38 [00:06<00:00,  5.56it/s]\n"
     ]
    },
    {
     "name": "stdout",
     "output_type": "stream",
     "text": [
      "Accuracy:  0.6025 \tLoss:  0.8652648329734802\n",
      "Epoch:  23\n"
     ]
    },
    {
     "name": "stderr",
     "output_type": "stream",
     "text": [
      "Running Accuracy: 0.5658333333333333,  \t Batch Loss:  0.9306521415710449: 100%|██████████| 38/38 [00:06<00:00,  5.52it/s]\n"
     ]
    },
    {
     "name": "stdout",
     "output_type": "stream",
     "text": [
      "Accuracy:  0.5675 \tLoss:  0.9306521415710449\n",
      "Epoch:  24\n"
     ]
    },
    {
     "name": "stderr",
     "output_type": "stream",
     "text": [
      "Running Accuracy: 0.5741666666666667,  \t Batch Loss:  0.5859009623527527: 100%|██████████| 38/38 [00:06<00:00,  5.54it/s]\n"
     ]
    },
    {
     "name": "stdout",
     "output_type": "stream",
     "text": [
      "Accuracy:  0.55 \tLoss:  0.5859009623527527\n",
      "Epoch:  25\n"
     ]
    },
    {
     "name": "stderr",
     "output_type": "stream",
     "text": [
      "Running Accuracy: 0.585,  \t Batch Loss:  0.804582417011261: 100%|██████████| 38/38 [00:06<00:00,  5.58it/s]              \n"
     ]
    },
    {
     "name": "stdout",
     "output_type": "stream",
     "text": [
      "Accuracy:  0.5425 \tLoss:  0.804582417011261\n",
      "Epoch:  26\n"
     ]
    },
    {
     "name": "stderr",
     "output_type": "stream",
     "text": [
      "Running Accuracy: 0.5841666666666666,  \t Batch Loss:  0.6992474794387817: 100%|██████████| 38/38 [00:06<00:00,  5.50it/s]\n"
     ]
    },
    {
     "name": "stdout",
     "output_type": "stream",
     "text": [
      "Accuracy:  0.6025 \tLoss:  0.6992474794387817\n",
      "Epoch:  27\n"
     ]
    },
    {
     "name": "stderr",
     "output_type": "stream",
     "text": [
      "Running Accuracy: 0.6058333333333333,  \t Batch Loss:  0.8350667953491211: 100%|██████████| 38/38 [00:06<00:00,  5.58it/s]\n"
     ]
    },
    {
     "name": "stdout",
     "output_type": "stream",
     "text": [
      "Accuracy:  0.5825 \tLoss:  0.8350667953491211\n",
      "Epoch:  28\n"
     ]
    },
    {
     "name": "stderr",
     "output_type": "stream",
     "text": [
      "Running Accuracy: 0.5725,  \t Batch Loss:  0.8299905061721802: 100%|██████████| 38/38 [00:06<00:00,  5.54it/s]            \n"
     ]
    },
    {
     "name": "stdout",
     "output_type": "stream",
     "text": [
      "Accuracy:  0.58 \tLoss:  0.8299905061721802\n",
      "Epoch:  29\n"
     ]
    },
    {
     "name": "stderr",
     "output_type": "stream",
     "text": [
      "Running Accuracy: 0.5925,  \t Batch Loss:  0.7740203142166138: 100%|██████████| 38/38 [00:06<00:00,  5.59it/s]            \n"
     ]
    },
    {
     "name": "stdout",
     "output_type": "stream",
     "text": [
      "Accuracy:  0.5825 \tLoss:  0.7740203142166138\n",
      "Epoch:  30\n"
     ]
    },
    {
     "name": "stderr",
     "output_type": "stream",
     "text": [
      "Running Accuracy: 0.5725,  \t Batch Loss:  1.055105209350586: 100%|██████████| 38/38 [00:06<00:00,  5.56it/s]             \n"
     ]
    },
    {
     "name": "stdout",
     "output_type": "stream",
     "text": [
      "Accuracy:  0.545 \tLoss:  1.055105209350586\n",
      "Epoch:  31\n"
     ]
    },
    {
     "name": "stderr",
     "output_type": "stream",
     "text": [
      "Running Accuracy: 0.6141666666666666,  \t Batch Loss:  1.0004467964172363: 100%|██████████| 38/38 [00:06<00:00,  5.54it/s]\n"
     ]
    },
    {
     "name": "stdout",
     "output_type": "stream",
     "text": [
      "Accuracy:  0.59 \tLoss:  1.0004467964172363\n",
      "Epoch:  32\n"
     ]
    },
    {
     "name": "stderr",
     "output_type": "stream",
     "text": [
      "Running Accuracy: 0.6066666666666667,  \t Batch Loss:  0.9482566714286804: 100%|██████████| 38/38 [00:06<00:00,  5.54it/s]\n"
     ]
    },
    {
     "name": "stdout",
     "output_type": "stream",
     "text": [
      "Accuracy:  0.515 \tLoss:  0.9482566714286804\n",
      "Epoch:  33\n"
     ]
    },
    {
     "name": "stderr",
     "output_type": "stream",
     "text": [
      "Running Accuracy: 0.6033333333333334,  \t Batch Loss:  0.7275375723838806: 100%|██████████| 38/38 [00:06<00:00,  5.58it/s]\n"
     ]
    },
    {
     "name": "stdout",
     "output_type": "stream",
     "text": [
      "Accuracy:  0.575 \tLoss:  0.7275375723838806\n",
      "Epoch:  34\n"
     ]
    },
    {
     "name": "stderr",
     "output_type": "stream",
     "text": [
      "Running Accuracy: 0.615,  \t Batch Loss:  0.6794622540473938: 100%|██████████| 38/38 [00:06<00:00,  5.56it/s]             \n"
     ]
    },
    {
     "name": "stdout",
     "output_type": "stream",
     "text": [
      "Accuracy:  0.53 \tLoss:  0.6794622540473938\n",
      "Epoch:  35\n"
     ]
    },
    {
     "name": "stderr",
     "output_type": "stream",
     "text": [
      "Running Accuracy: 0.5858333333333333,  \t Batch Loss:  0.7255483865737915: 100%|██████████| 38/38 [00:06<00:00,  5.55it/s]\n"
     ]
    },
    {
     "name": "stdout",
     "output_type": "stream",
     "text": [
      "Accuracy:  0.56 \tLoss:  0.7255483865737915\n",
      "Epoch:  36\n"
     ]
    },
    {
     "name": "stderr",
     "output_type": "stream",
     "text": [
      "Running Accuracy: 0.61,  \t Batch Loss:  0.8182905316352844: 100%|██████████| 38/38 [00:06<00:00,  5.62it/s]              \n"
     ]
    },
    {
     "name": "stdout",
     "output_type": "stream",
     "text": [
      "Accuracy:  0.5475 \tLoss:  0.8182905316352844\n",
      "Epoch:  37\n"
     ]
    },
    {
     "name": "stderr",
     "output_type": "stream",
     "text": [
      "Running Accuracy: 0.6066666666666667,  \t Batch Loss:  0.9436962604522705: 100%|██████████| 38/38 [00:06<00:00,  5.58it/s]\n"
     ]
    },
    {
     "name": "stdout",
     "output_type": "stream",
     "text": [
      "Accuracy:  0.59 \tLoss:  0.9436962604522705\n",
      "Epoch:  38\n"
     ]
    },
    {
     "name": "stderr",
     "output_type": "stream",
     "text": [
      "Running Accuracy: 0.6016666666666667,  \t Batch Loss:  0.7099394798278809: 100%|██████████| 38/38 [00:06<00:00,  5.58it/s]\n"
     ]
    },
    {
     "name": "stdout",
     "output_type": "stream",
     "text": [
      "Accuracy:  0.6025 \tLoss:  0.7099394798278809\n",
      "Epoch:  39\n"
     ]
    },
    {
     "name": "stderr",
     "output_type": "stream",
     "text": [
      "Running Accuracy: 0.6333333333333333,  \t Batch Loss:  0.8101033568382263: 100%|██████████| 38/38 [00:06<00:00,  5.57it/s]\n"
     ]
    },
    {
     "name": "stdout",
     "output_type": "stream",
     "text": [
      "Accuracy:  0.565 \tLoss:  0.8101033568382263\n",
      "Epoch:  40\n"
     ]
    },
    {
     "name": "stderr",
     "output_type": "stream",
     "text": [
      "Running Accuracy: 0.6083333333333333,  \t Batch Loss:  0.9963012337684631: 100%|██████████| 38/38 [00:06<00:00,  5.65it/s]\n"
     ]
    },
    {
     "name": "stdout",
     "output_type": "stream",
     "text": [
      "Accuracy:  0.55 \tLoss:  0.9963012337684631\n",
      "Epoch:  41\n"
     ]
    },
    {
     "name": "stderr",
     "output_type": "stream",
     "text": [
      "Running Accuracy: 0.6,  \t Batch Loss:  0.994367778301239: 100%|██████████| 38/38 [00:06<00:00,  5.66it/s]                \n"
     ]
    },
    {
     "name": "stdout",
     "output_type": "stream",
     "text": [
      "Accuracy:  0.5825 \tLoss:  0.994367778301239\n",
      "Epoch:  42\n"
     ]
    },
    {
     "name": "stderr",
     "output_type": "stream",
     "text": [
      "Running Accuracy: 0.6233333333333333,  \t Batch Loss:  0.9089406132698059: 100%|██████████| 38/38 [00:06<00:00,  5.62it/s]\n"
     ]
    },
    {
     "name": "stdout",
     "output_type": "stream",
     "text": [
      "Accuracy:  0.5825 \tLoss:  0.9089406132698059\n",
      "Epoch:  43\n"
     ]
    },
    {
     "name": "stderr",
     "output_type": "stream",
     "text": [
      "Running Accuracy: 0.6191666666666666,  \t Batch Loss:  0.6494427919387817: 100%|██████████| 38/38 [00:06<00:00,  5.61it/s]\n"
     ]
    },
    {
     "name": "stdout",
     "output_type": "stream",
     "text": [
      "Accuracy:  0.5825 \tLoss:  0.6494427919387817\n",
      "Epoch:  44\n"
     ]
    },
    {
     "name": "stderr",
     "output_type": "stream",
     "text": [
      "Running Accuracy: 0.6333333333333333,  \t Batch Loss:  0.44403019547462463: 100%|██████████| 38/38 [00:06<00:00,  5.65it/s]\n"
     ]
    },
    {
     "name": "stdout",
     "output_type": "stream",
     "text": [
      "Accuracy:  0.59 \tLoss:  0.44403019547462463\n",
      "Epoch:  45\n"
     ]
    },
    {
     "name": "stderr",
     "output_type": "stream",
     "text": [
      "Running Accuracy: 0.6408333333333334,  \t Batch Loss:  0.6361261606216431: 100%|██████████| 38/38 [00:06<00:00,  5.64it/s]\n"
     ]
    },
    {
     "name": "stdout",
     "output_type": "stream",
     "text": [
      "Accuracy:  0.6025 \tLoss:  0.6361261606216431\n",
      "Epoch:  46\n"
     ]
    },
    {
     "name": "stderr",
     "output_type": "stream",
     "text": [
      "Running Accuracy: 0.6333333333333333,  \t Batch Loss:  0.9299378395080566: 100%|██████████| 38/38 [00:06<00:00,  5.58it/s]\n"
     ]
    },
    {
     "name": "stdout",
     "output_type": "stream",
     "text": [
      "Accuracy:  0.615 \tLoss:  0.9299378395080566\n",
      "Epoch:  47\n"
     ]
    },
    {
     "name": "stderr",
     "output_type": "stream",
     "text": [
      "Running Accuracy: 0.6308333333333334,  \t Batch Loss:  0.9793525338172913: 100%|██████████| 38/38 [00:06<00:00,  5.60it/s] \n"
     ]
    },
    {
     "name": "stdout",
     "output_type": "stream",
     "text": [
      "Accuracy:  0.615 \tLoss:  0.9793525338172913\n",
      "Epoch:  48\n"
     ]
    },
    {
     "name": "stderr",
     "output_type": "stream",
     "text": [
      "Running Accuracy: 0.6266666666666667,  \t Batch Loss:  0.7277253270149231: 100%|██████████| 38/38 [00:07<00:00,  5.37it/s]\n"
     ]
    },
    {
     "name": "stdout",
     "output_type": "stream",
     "text": [
      "Accuracy:  0.55 \tLoss:  0.7277253270149231\n",
      "Epoch:  49\n"
     ]
    },
    {
     "name": "stderr",
     "output_type": "stream",
     "text": [
      "Running Accuracy: 0.61,  \t Batch Loss:  0.6927796006202698: 100%|██████████| 38/38 [00:06<00:00,  5.49it/s]              \n"
     ]
    },
    {
     "name": "stdout",
     "output_type": "stream",
     "text": [
      "Accuracy:  0.5925 \tLoss:  0.6927796006202698\n",
      "Epoch:  50\n"
     ]
    },
    {
     "name": "stderr",
     "output_type": "stream",
     "text": [
      "Running Accuracy: 0.6391666666666667,  \t Batch Loss:  0.7316828370094299: 100%|██████████| 38/38 [00:06<00:00,  5.63it/s]\n"
     ]
    },
    {
     "name": "stdout",
     "output_type": "stream",
     "text": [
      "Accuracy:  0.6 \tLoss:  0.7316828370094299\n"
     ]
    }
   ],
   "source": [
    "root_dir = r'Data\\Top_level\\9_12'\n",
    "dataset = datasets.ImageFolder(root=root_dir, transform=transform)\n",
    "model_9_12 = CNN(4).to(device)\n",
    "val_size = int(0.2 * len(dataset))\n",
    "test_size = int(0.2 * len(dataset))\n",
    "train_size = len(dataset) - val_size - test_size\n",
    "\n",
    "# Split the dataset into training, validation, and test sets\n",
    "train_dataset, val_dataset, test_dataset = torch.utils.data.random_split(dataset, [train_size, val_size, test_size])\n",
    "train_dataloader = torch.utils.data.DataLoader(train_dataset, batch_size=32, shuffle=True, num_workers=4)\n",
    "val_dataloader = torch.utils.data.DataLoader(val_dataset, batch_size=32, shuffle=False, num_workers=4)\n",
    "test_dataloader = torch.utils.data.DataLoader(test_dataset, batch_size=32, shuffle=False, num_workers=4)\n",
    "loss_fn = nn.CrossEntropyLoss()\n",
    "optimizer = torch.optim.Adam(model_9_12.parameters(), lr=0.0001)\n",
    "\n",
    "length = len(train_dataloader)\n",
    "for epoch in range(50):  # loop over the dataset multiple times\n",
    "    print(\"Epoch: \", epoch+1)\n",
    "    pbar = tqdm(train_dataloader)\n",
    "    running_loss = 0.0\n",
    "    correct = 0\n",
    "    total_seen = 0\n",
    "    for inputs, labels in pbar:\n",
    "        inputs, labels = inputs.to(device), labels.to(device)\n",
    "        # total_seen += labels.size(0)\n",
    "\n",
    "        optimizer.zero_grad()\n",
    "\n",
    "        outputs = model_9_12(inputs)\n",
    "        loss = loss_fn(outputs, labels)\n",
    "        loss.backward()\n",
    "        optimizer.step()\n",
    "\n",
    "        running_loss += loss.item()\n",
    "        # print(labels.shape, outputs)\n",
    "        _, predicted = torch.max(outputs.data, 1)\n",
    "        # print(predicted.size(0))\n",
    "        total_seen+=predicted.size(0)\n",
    "        correct += (predicted == labels).sum().item()\n",
    "        pbar.set_description(f\"Running Accuracy: { correct/total_seen},  \\t Batch Loss:  {loss}\")\n",
    "\n",
    "    # Testing the network\n",
    "    correct = 0\n",
    "    total = 0\n",
    "    total_loss=0\n",
    "    with torch.no_grad():\n",
    "        for (images, labels) in val_dataloader:\n",
    "            images, labels = images.to(device), labels.to(device)\n",
    "            outputs = model_9_12(images)\n",
    "            val_loss = nn.CrossEntropyLoss()(outputs, labels)\n",
    "            total_loss += loss.item()\n",
    "            _, predicted = torch.max(outputs.data, 1)\n",
    "            total += labels.size(0)\n",
    "            correct += (predicted == labels).sum().item()\n",
    "        print(\"Accuracy: \", correct/total, \"\\tLoss: \", total_loss/len(val_dataloader))"
   ]
  },
  {
   "cell_type": "markdown",
   "metadata": {},
   "source": [
    "### Top"
   ]
  },
  {
   "cell_type": "code",
   "execution_count": 17,
   "metadata": {},
   "outputs": [
    {
     "name": "stdout",
     "output_type": "stream",
     "text": [
      "Epoch:  1\n"
     ]
    },
    {
     "name": "stderr",
     "output_type": "stream",
     "text": [
      "Running Accuracy: 0.4520966398222716,  \t Batch Loss:  0.999234676361084: 100%|██████████| 113/113 [00:07<00:00, 15.82it/s]  \n"
     ]
    },
    {
     "name": "stdout",
     "output_type": "stream",
     "text": [
      "Accuracy:  0.5216666666666666 \tLoss:  0.999234676361084\n",
      "Epoch:  2\n"
     ]
    },
    {
     "name": "stderr",
     "output_type": "stream",
     "text": [
      "Running Accuracy: 0.6203832268814218,  \t Batch Loss:  0.6325085759162903: 100%|██████████| 113/113 [00:07<00:00, 15.59it/s]\n"
     ]
    },
    {
     "name": "stdout",
     "output_type": "stream",
     "text": [
      "Accuracy:  0.7008333333333333 \tLoss:  0.6325085759162903\n",
      "Epoch:  3\n"
     ]
    },
    {
     "name": "stderr",
     "output_type": "stream",
     "text": [
      "Running Accuracy: 0.7236878644820883,  \t Batch Loss:  0.5373547673225403: 100%|██████████| 113/113 [00:07<00:00, 15.83it/s]\n"
     ]
    },
    {
     "name": "stdout",
     "output_type": "stream",
     "text": [
      "Accuracy:  0.6891666666666667 \tLoss:  0.5373547673225403\n",
      "Epoch:  4\n"
     ]
    },
    {
     "name": "stderr",
     "output_type": "stream",
     "text": [
      "Running Accuracy: 0.7389613996112191,  \t Batch Loss:  0.6747811436653137: 100%|██████████| 113/113 [00:07<00:00, 15.75it/s]\n"
     ]
    },
    {
     "name": "stdout",
     "output_type": "stream",
     "text": [
      "Accuracy:  0.7741666666666667 \tLoss:  0.6747811436653137\n",
      "Epoch:  5\n"
     ]
    },
    {
     "name": "stderr",
     "output_type": "stream",
     "text": [
      "Running Accuracy: 0.7589558455984449,  \t Batch Loss:  0.4136815369129181: 100%|██████████| 113/113 [00:07<00:00, 15.93it/s]\n"
     ]
    },
    {
     "name": "stdout",
     "output_type": "stream",
     "text": [
      "Accuracy:  0.7666666666666667 \tLoss:  0.4136815369129181\n",
      "Epoch:  6\n"
     ]
    },
    {
     "name": "stderr",
     "output_type": "stream",
     "text": [
      "Running Accuracy: 0.7745070813662871,  \t Batch Loss:  0.4479196071624756: 100%|██████████| 113/113 [00:07<00:00, 15.62it/s] \n"
     ]
    },
    {
     "name": "stdout",
     "output_type": "stream",
     "text": [
      "Accuracy:  0.8075 \tLoss:  0.4479196071624756\n",
      "Epoch:  7\n"
     ]
    },
    {
     "name": "stderr",
     "output_type": "stream",
     "text": [
      "Running Accuracy: 0.7839489030824771,  \t Batch Loss:  0.5304334759712219: 100%|██████████| 113/113 [00:07<00:00, 15.74it/s]\n"
     ]
    },
    {
     "name": "stdout",
     "output_type": "stream",
     "text": [
      "Accuracy:  0.7941666666666667 \tLoss:  0.5304334759712219\n",
      "Epoch:  8\n"
     ]
    },
    {
     "name": "stderr",
     "output_type": "stream",
     "text": [
      "Running Accuracy: 0.798667036934185,  \t Batch Loss:  0.3233571946620941: 100%|██████████| 113/113 [00:07<00:00, 15.83it/s]  \n"
     ]
    },
    {
     "name": "stdout",
     "output_type": "stream",
     "text": [
      "Accuracy:  0.8233333333333334 \tLoss:  0.3233571946620941\n",
      "Epoch:  9\n"
     ]
    },
    {
     "name": "stderr",
     "output_type": "stream",
     "text": [
      "Running Accuracy: 0.8056095529019717,  \t Batch Loss:  0.3118130564689636: 100%|██████████| 113/113 [00:07<00:00, 15.98it/s] \n"
     ]
    },
    {
     "name": "stdout",
     "output_type": "stream",
     "text": [
      "Accuracy:  0.8375 \tLoss:  0.3118130564689636\n",
      "Epoch:  10\n"
     ]
    },
    {
     "name": "stderr",
     "output_type": "stream",
     "text": [
      "Running Accuracy: 0.806998056095529,  \t Batch Loss:  0.4382355213165283: 100%|██████████| 113/113 [00:07<00:00, 15.86it/s] \n"
     ]
    },
    {
     "name": "stdout",
     "output_type": "stream",
     "text": [
      "Accuracy:  0.8291666666666667 \tLoss:  0.4382355213165283\n",
      "Epoch:  11\n"
     ]
    },
    {
     "name": "stderr",
     "output_type": "stream",
     "text": [
      "Running Accuracy: 0.8150513746181616,  \t Batch Loss:  0.5918312668800354: 100%|██████████| 113/113 [00:07<00:00, 15.81it/s] \n"
     ]
    },
    {
     "name": "stdout",
     "output_type": "stream",
     "text": [
      "Accuracy:  0.78 \tLoss:  0.5918312668800354\n",
      "Epoch:  12\n"
     ]
    },
    {
     "name": "stderr",
     "output_type": "stream",
     "text": [
      "Running Accuracy: 0.8169952790891419,  \t Batch Loss:  0.5319418907165527: 100%|██████████| 113/113 [00:07<00:00, 15.87it/s]\n"
     ]
    },
    {
     "name": "stdout",
     "output_type": "stream",
     "text": [
      "Accuracy:  0.81 \tLoss:  0.5319418907165527\n",
      "Epoch:  13\n"
     ]
    },
    {
     "name": "stderr",
     "output_type": "stream",
     "text": [
      "Running Accuracy: 0.8169952790891419,  \t Batch Loss:  0.38081496953964233: 100%|██████████| 113/113 [00:07<00:00, 15.92it/s]\n"
     ]
    },
    {
     "name": "stdout",
     "output_type": "stream",
     "text": [
      "Accuracy:  0.8341666666666666 \tLoss:  0.38081496953964233\n",
      "Epoch:  14\n"
     ]
    },
    {
     "name": "stderr",
     "output_type": "stream",
     "text": [
      "Running Accuracy: 0.8256039988891974,  \t Batch Loss:  0.16306012868881226: 100%|██████████| 113/113 [00:07<00:00, 15.91it/s]\n"
     ]
    },
    {
     "name": "stdout",
     "output_type": "stream",
     "text": [
      "Accuracy:  0.8416666666666667 \tLoss:  0.16306012868881226\n",
      "Epoch:  15\n"
     ]
    },
    {
     "name": "stderr",
     "output_type": "stream",
     "text": [
      "Running Accuracy: 0.8272702027214662,  \t Batch Loss:  0.3580331802368164: 100%|██████████| 113/113 [00:07<00:00, 15.93it/s] \n"
     ]
    },
    {
     "name": "stdout",
     "output_type": "stream",
     "text": [
      "Accuracy:  0.7975 \tLoss:  0.3580331802368164\n",
      "Epoch:  16\n"
     ]
    },
    {
     "name": "stderr",
     "output_type": "stream",
     "text": [
      "Running Accuracy: 0.8317134129408498,  \t Batch Loss:  0.3416227102279663: 100%|██████████| 113/113 [00:07<00:00, 15.78it/s] \n"
     ]
    },
    {
     "name": "stdout",
     "output_type": "stream",
     "text": [
      "Accuracy:  0.8416666666666667 \tLoss:  0.3416227102279663\n",
      "Epoch:  17\n"
     ]
    },
    {
     "name": "stderr",
     "output_type": "stream",
     "text": [
      "Running Accuracy: 0.8283810052763121,  \t Batch Loss:  0.3906089961528778: 100%|██████████| 113/113 [00:07<00:00, 15.73it/s] \n"
     ]
    },
    {
     "name": "stdout",
     "output_type": "stream",
     "text": [
      "Accuracy:  0.8433333333333334 \tLoss:  0.3906089961528778\n",
      "Epoch:  18\n"
     ]
    },
    {
     "name": "stderr",
     "output_type": "stream",
     "text": [
      "Running Accuracy: 0.8222715912246599,  \t Batch Loss:  0.36499783396720886: 100%|██████████| 113/113 [00:07<00:00, 15.99it/s]\n"
     ]
    },
    {
     "name": "stdout",
     "output_type": "stream",
     "text": [
      "Accuracy:  0.81 \tLoss:  0.36499783396720886\n",
      "Epoch:  19\n"
     ]
    },
    {
     "name": "stderr",
     "output_type": "stream",
     "text": [
      "Running Accuracy: 0.8325465148569842,  \t Batch Loss:  0.2268846184015274: 100%|██████████| 113/113 [00:07<00:00, 16.09it/s]\n"
     ]
    },
    {
     "name": "stdout",
     "output_type": "stream",
     "text": [
      "Accuracy:  0.85 \tLoss:  0.2268846184015274\n",
      "Epoch:  20\n"
     ]
    },
    {
     "name": "stderr",
     "output_type": "stream",
     "text": [
      "Running Accuracy: 0.8353235212440988,  \t Batch Loss:  0.22283309698104858: 100%|██████████| 113/113 [00:07<00:00, 16.08it/s]\n"
     ]
    },
    {
     "name": "stdout",
     "output_type": "stream",
     "text": [
      "Accuracy:  0.845 \tLoss:  0.22283309698104858\n",
      "Epoch:  21\n"
     ]
    },
    {
     "name": "stderr",
     "output_type": "stream",
     "text": [
      "Running Accuracy: 0.843654540405443,  \t Batch Loss:  0.5659303069114685: 100%|██████████| 113/113 [00:07<00:00, 16.05it/s]  \n"
     ]
    },
    {
     "name": "stdout",
     "output_type": "stream",
     "text": [
      "Accuracy:  0.8466666666666667 \tLoss:  0.5659303069114685\n",
      "Epoch:  22\n"
     ]
    },
    {
     "name": "stderr",
     "output_type": "stream",
     "text": [
      "Running Accuracy: 0.8455984448764232,  \t Batch Loss:  0.5684227347373962: 100%|██████████| 113/113 [00:06<00:00, 16.29it/s] \n"
     ]
    },
    {
     "name": "stdout",
     "output_type": "stream",
     "text": [
      "Accuracy:  0.8241666666666667 \tLoss:  0.5684227347373962\n",
      "Epoch:  23\n"
     ]
    },
    {
     "name": "stderr",
     "output_type": "stream",
     "text": [
      "Running Accuracy: 0.8444876423215774,  \t Batch Loss:  0.27238938212394714: 100%|██████████| 113/113 [00:07<00:00, 16.10it/s]\n"
     ]
    },
    {
     "name": "stdout",
     "output_type": "stream",
     "text": [
      "Accuracy:  0.8233333333333334 \tLoss:  0.27238938212394714\n",
      "Epoch:  24\n"
     ]
    },
    {
     "name": "stderr",
     "output_type": "stream",
     "text": [
      "Running Accuracy: 0.843654540405443,  \t Batch Loss:  0.24315780401229858: 100%|██████████| 113/113 [00:07<00:00, 15.74it/s]\n"
     ]
    },
    {
     "name": "stdout",
     "output_type": "stream",
     "text": [
      "Accuracy:  0.8483333333333334 \tLoss:  0.24315780401229858\n",
      "Epoch:  25\n"
     ]
    },
    {
     "name": "stderr",
     "output_type": "stream",
     "text": [
      "Running Accuracy: 0.8458761455151347,  \t Batch Loss:  0.20063602924346924: 100%|██████████| 113/113 [00:07<00:00, 16.09it/s]\n"
     ]
    },
    {
     "name": "stdout",
     "output_type": "stream",
     "text": [
      "Accuracy:  0.8441666666666666 \tLoss:  0.20063602924346924\n",
      "Epoch:  26\n"
     ]
    },
    {
     "name": "stderr",
     "output_type": "stream",
     "text": [
      "Running Accuracy: 0.8461538461538461,  \t Batch Loss:  0.40305402874946594: 100%|██████████| 113/113 [00:07<00:00, 15.84it/s]\n"
     ]
    },
    {
     "name": "stdout",
     "output_type": "stream",
     "text": [
      "Accuracy:  0.8516666666666667 \tLoss:  0.40305402874946594\n",
      "Epoch:  27\n"
     ]
    },
    {
     "name": "stderr",
     "output_type": "stream",
     "text": [
      "Running Accuracy: 0.8528186614829214,  \t Batch Loss:  0.4437718987464905: 100%|██████████| 113/113 [00:06<00:00, 16.23it/s] \n"
     ]
    },
    {
     "name": "stdout",
     "output_type": "stream",
     "text": [
      "Accuracy:  0.8458333333333333 \tLoss:  0.4437718987464905\n",
      "Epoch:  28\n"
     ]
    },
    {
     "name": "stderr",
     "output_type": "stream",
     "text": [
      "Running Accuracy: 0.8480977506248264,  \t Batch Loss:  0.2361593246459961: 100%|██████████| 113/113 [00:07<00:00, 15.93it/s] \n"
     ]
    },
    {
     "name": "stdout",
     "output_type": "stream",
     "text": [
      "Accuracy:  0.8483333333333334 \tLoss:  0.2361593246459961\n",
      "Epoch:  29\n"
     ]
    },
    {
     "name": "stderr",
     "output_type": "stream",
     "text": [
      "Running Accuracy: 0.8530963621216329,  \t Batch Loss:  0.4218403697013855: 100%|██████████| 113/113 [00:07<00:00, 15.87it/s]\n"
     ]
    },
    {
     "name": "stdout",
     "output_type": "stream",
     "text": [
      "Accuracy:  0.8533333333333334 \tLoss:  0.4218403697013855\n",
      "Epoch:  30\n"
     ]
    },
    {
     "name": "stderr",
     "output_type": "stream",
     "text": [
      "Running Accuracy: 0.8469869480699805,  \t Batch Loss:  0.2393733710050583: 100%|██████████| 113/113 [00:07<00:00, 16.01it/s]\n"
     ]
    },
    {
     "name": "stdout",
     "output_type": "stream",
     "text": [
      "Accuracy:  0.8441666666666666 \tLoss:  0.2393733710050583\n",
      "Epoch:  31\n"
     ]
    },
    {
     "name": "stderr",
     "output_type": "stream",
     "text": [
      "Running Accuracy: 0.8508747570119412,  \t Batch Loss:  0.8397684097290039: 100%|██████████| 113/113 [00:07<00:00, 16.14it/s]\n"
     ]
    },
    {
     "name": "stdout",
     "output_type": "stream",
     "text": [
      "Accuracy:  0.8516666666666667 \tLoss:  0.8397684097290039\n",
      "Epoch:  32\n"
     ]
    },
    {
     "name": "stderr",
     "output_type": "stream",
     "text": [
      "Running Accuracy: 0.8614273812829769,  \t Batch Loss:  0.4971395432949066: 100%|██████████| 113/113 [00:07<00:00, 15.79it/s]\n"
     ]
    },
    {
     "name": "stdout",
     "output_type": "stream",
     "text": [
      "Accuracy:  0.8408333333333333 \tLoss:  0.4971395432949066\n",
      "Epoch:  33\n"
     ]
    },
    {
     "name": "stderr",
     "output_type": "stream",
     "text": [
      "Running Accuracy: 0.8630935851152458,  \t Batch Loss:  0.23867680132389069: 100%|██████████| 113/113 [00:07<00:00, 15.89it/s]\n"
     ]
    },
    {
     "name": "stdout",
     "output_type": "stream",
     "text": [
      "Accuracy:  0.8591666666666666 \tLoss:  0.23867680132389069\n",
      "Epoch:  34\n"
     ]
    },
    {
     "name": "stderr",
     "output_type": "stream",
     "text": [
      "Running Accuracy: 0.8600388780894196,  \t Batch Loss:  0.5118176937103271: 100%|██████████| 113/113 [00:07<00:00, 16.00it/s]\n"
     ]
    },
    {
     "name": "stdout",
     "output_type": "stream",
     "text": [
      "Accuracy:  0.8475 \tLoss:  0.5118176937103271\n",
      "Epoch:  35\n"
     ]
    },
    {
     "name": "stderr",
     "output_type": "stream",
     "text": [
      "Running Accuracy: 0.8589280755345737,  \t Batch Loss:  0.2312222421169281: 100%|██████████| 113/113 [00:07<00:00, 15.90it/s] \n"
     ]
    },
    {
     "name": "stdout",
     "output_type": "stream",
     "text": [
      "Accuracy:  0.8525 \tLoss:  0.2312222421169281\n",
      "Epoch:  36\n"
     ]
    },
    {
     "name": "stderr",
     "output_type": "stream",
     "text": [
      "Running Accuracy: 0.8569841710635935,  \t Batch Loss:  0.22711515426635742: 100%|██████████| 113/113 [00:07<00:00, 15.78it/s]\n"
     ]
    },
    {
     "name": "stdout",
     "output_type": "stream",
     "text": [
      "Accuracy:  0.8633333333333333 \tLoss:  0.22711515426635742\n",
      "Epoch:  37\n"
     ]
    },
    {
     "name": "stderr",
     "output_type": "stream",
     "text": [
      "Running Accuracy: 0.855595667870036,  \t Batch Loss:  0.3198682963848114: 100%|██████████| 113/113 [00:07<00:00, 16.11it/s] \n"
     ]
    },
    {
     "name": "stdout",
     "output_type": "stream",
     "text": [
      "Accuracy:  0.86 \tLoss:  0.3198682963848114\n",
      "Epoch:  38\n"
     ]
    },
    {
     "name": "stderr",
     "output_type": "stream",
     "text": [
      "Running Accuracy: 0.8611496806442654,  \t Batch Loss:  0.6181073188781738: 100%|██████████| 113/113 [00:07<00:00, 15.76it/s] \n"
     ]
    },
    {
     "name": "stdout",
     "output_type": "stream",
     "text": [
      "Accuracy:  0.8491666666666666 \tLoss:  0.6181073188781738\n",
      "Epoch:  39\n"
     ]
    },
    {
     "name": "stderr",
     "output_type": "stream",
     "text": [
      "Running Accuracy: 0.8658705915023605,  \t Batch Loss:  0.42275357246398926: 100%|██████████| 113/113 [00:07<00:00, 15.86it/s]\n"
     ]
    },
    {
     "name": "stdout",
     "output_type": "stream",
     "text": [
      "Accuracy:  0.8683333333333333 \tLoss:  0.42275357246398926\n",
      "Epoch:  40\n"
     ]
    },
    {
     "name": "stderr",
     "output_type": "stream",
     "text": [
      "Running Accuracy: 0.860316578728131,  \t Batch Loss:  0.6354349255561829: 100%|██████████| 113/113 [00:07<00:00, 15.95it/s] \n"
     ]
    },
    {
     "name": "stdout",
     "output_type": "stream",
     "text": [
      "Accuracy:  0.8491666666666666 \tLoss:  0.6354349255561829\n",
      "Epoch:  41\n"
     ]
    },
    {
     "name": "stderr",
     "output_type": "stream",
     "text": [
      "Running Accuracy: 0.8730908081088586,  \t Batch Loss:  0.1552182137966156: 100%|██████████| 113/113 [00:07<00:00, 16.13it/s]\n"
     ]
    },
    {
     "name": "stdout",
     "output_type": "stream",
     "text": [
      "Accuracy:  0.8666666666666667 \tLoss:  0.1552182137966156\n",
      "Epoch:  42\n"
     ]
    },
    {
     "name": "stderr",
     "output_type": "stream",
     "text": [
      "Running Accuracy: 0.8717023049153013,  \t Batch Loss:  0.22938454151153564: 100%|██████████| 113/113 [00:07<00:00, 15.94it/s]\n"
     ]
    },
    {
     "name": "stdout",
     "output_type": "stream",
     "text": [
      "Accuracy:  0.8533333333333334 \tLoss:  0.22938454151153564\n",
      "Epoch:  43\n"
     ]
    },
    {
     "name": "stderr",
     "output_type": "stream",
     "text": [
      "Running Accuracy: 0.8764232157733963,  \t Batch Loss:  0.46725088357925415: 100%|██████████| 113/113 [00:07<00:00, 15.87it/s]\n"
     ]
    },
    {
     "name": "stdout",
     "output_type": "stream",
     "text": [
      "Accuracy:  0.8625 \tLoss:  0.46725088357925415\n",
      "Epoch:  44\n"
     ]
    },
    {
     "name": "stderr",
     "output_type": "stream",
     "text": [
      "Running Accuracy: 0.8633712857539573,  \t Batch Loss:  0.2182784378528595: 100%|██████████| 113/113 [00:07<00:00, 15.77it/s]\n"
     ]
    },
    {
     "name": "stdout",
     "output_type": "stream",
     "text": [
      "Accuracy:  0.8641666666666666 \tLoss:  0.2182784378528595\n",
      "Epoch:  45\n"
     ]
    },
    {
     "name": "stderr",
     "output_type": "stream",
     "text": [
      "Running Accuracy: 0.8805887253540683,  \t Batch Loss:  0.2022211253643036: 100%|██████████| 113/113 [00:07<00:00, 15.86it/s]\n"
     ]
    },
    {
     "name": "stdout",
     "output_type": "stream",
     "text": [
      "Accuracy:  0.855 \tLoss:  0.2022211253643036\n",
      "Epoch:  46\n"
     ]
    },
    {
     "name": "stderr",
     "output_type": "stream",
     "text": [
      "Running Accuracy: 0.8750347125798389,  \t Batch Loss:  0.21783506870269775: 100%|██████████| 113/113 [00:07<00:00, 15.89it/s]\n"
     ]
    },
    {
     "name": "stdout",
     "output_type": "stream",
     "text": [
      "Accuracy:  0.87 \tLoss:  0.21783506870269775\n",
      "Epoch:  47\n"
     ]
    },
    {
     "name": "stderr",
     "output_type": "stream",
     "text": [
      "Running Accuracy: 0.878644820883088,  \t Batch Loss:  0.155481219291687: 100%|██████████| 113/113 [00:07<00:00, 15.94it/s]   \n"
     ]
    },
    {
     "name": "stdout",
     "output_type": "stream",
     "text": [
      "Accuracy:  0.8525 \tLoss:  0.155481219291687\n",
      "Epoch:  48\n"
     ]
    },
    {
     "name": "stderr",
     "output_type": "stream",
     "text": [
      "Running Accuracy: 0.8705915023604555,  \t Batch Loss:  0.3211476802825928: 100%|██████████| 113/113 [00:07<00:00, 16.10it/s] \n"
     ]
    },
    {
     "name": "stdout",
     "output_type": "stream",
     "text": [
      "Accuracy:  0.8708333333333333 \tLoss:  0.3211476802825928\n",
      "Epoch:  49\n"
     ]
    },
    {
     "name": "stderr",
     "output_type": "stream",
     "text": [
      "Running Accuracy: 0.8778117189669536,  \t Batch Loss:  0.3923402428627014: 100%|██████████| 113/113 [00:07<00:00, 16.14it/s] \n"
     ]
    },
    {
     "name": "stdout",
     "output_type": "stream",
     "text": [
      "Accuracy:  0.8716666666666667 \tLoss:  0.3923402428627014\n",
      "Epoch:  50\n"
     ]
    },
    {
     "name": "stderr",
     "output_type": "stream",
     "text": [
      "Running Accuracy: 0.8800333240766454,  \t Batch Loss:  0.31986019015312195: 100%|██████████| 113/113 [00:07<00:00, 16.09it/s]\n"
     ]
    },
    {
     "name": "stdout",
     "output_type": "stream",
     "text": [
      "Accuracy:  0.8666666666666667 \tLoss:  0.31986019015312195\n"
     ]
    }
   ],
   "source": [
    "root_dir = r'Data\\Top_level'\n",
    "dataset = datasets.ImageFolder(root=root_dir, transform=transform)\n",
    "model_top = CNN(3).to(device)\n",
    "val_size = int(0.2 * len(dataset))\n",
    "test_size = int(0.2 * len(dataset))\n",
    "train_size = len(dataset) - val_size - test_size\n",
    "\n",
    "# Split the dataset into training, validation, and test sets\n",
    "train_dataset, val_dataset, test_dataset = torch.utils.data.random_split(dataset, [train_size, val_size, test_size])\n",
    "train_dataloader = torch.utils.data.DataLoader(train_dataset, batch_size=32, shuffle=True, num_workers=4)\n",
    "val_dataloader = torch.utils.data.DataLoader(val_dataset, batch_size=32, shuffle=False, num_workers=4)\n",
    "test_dataloader = torch.utils.data.DataLoader(test_dataset, batch_size=32, shuffle=False, num_workers=4)\n",
    "loss_fn = nn.CrossEntropyLoss()\n",
    "optimizer = torch.optim.Adam(model_top.parameters(), lr=0.0001)\n",
    "\n",
    "length = len(train_dataloader)\n",
    "for epoch in range(50):  # loop over the dataset multiple times\n",
    "    print(\"Epoch: \", epoch+1)\n",
    "    pbar = tqdm(train_dataloader)\n",
    "    running_loss = 0.0\n",
    "    correct = 0\n",
    "    total_seen = 0\n",
    "    for inputs, labels in pbar:\n",
    "        inputs, labels = inputs.to(device), labels.to(device)\n",
    "        # total_seen += labels.size(0)\n",
    "\n",
    "        optimizer.zero_grad()\n",
    "\n",
    "        outputs = model_top(inputs)\n",
    "        loss = loss_fn(outputs, labels)\n",
    "        loss.backward()\n",
    "        optimizer.step()\n",
    "\n",
    "        running_loss += loss.item()\n",
    "        # print(labels.shape, outputs)\n",
    "        _, predicted = torch.max(outputs.data, 1)\n",
    "        # print(predicted.size(0))\n",
    "        total_seen+=predicted.size(0)\n",
    "        correct += (predicted == labels).sum().item()\n",
    "        pbar.set_description(f\"Running Accuracy: { correct/total_seen},  \\t Batch Loss:  {loss}\")\n",
    "\n",
    "    # Testing the network\n",
    "    correct = 0\n",
    "    total = 0\n",
    "    total_loss=0\n",
    "    with torch.no_grad():\n",
    "        for (images, labels) in val_dataloader:\n",
    "            images, labels = images.to(device), labels.to(device)\n",
    "            outputs = model_top(images)\n",
    "            val_loss = nn.CrossEntropyLoss()(outputs, labels)\n",
    "            total_loss += loss.item()\n",
    "            _, predicted = torch.max(outputs.data, 1)\n",
    "            total += labels.size(0)\n",
    "            correct += (predicted == labels).sum().item()\n",
    "        print(\"Accuracy: \", correct/total, \"\\tLoss: \", total_loss/len(val_dataloader))"
   ]
  },
  {
   "cell_type": "markdown",
   "metadata": {},
   "source": [
    "# Issue Here?"
   ]
  },
  {
   "cell_type": "code",
   "execution_count": 18,
   "metadata": {},
   "outputs": [],
   "source": [
    "# Forward pass function\n",
    "def forward(input_data):\n",
    "    # Use the top-level model to decide which specialized model to use\n",
    "    with torch.no_grad():\n",
    "        decision = model_top(input_data)\n",
    "        # Get the index (decision) for each input in the batch\n",
    "        decisions = torch.argmax(decision, dim=1)  # This returns a tensor of decisions for each input in the batch\n",
    "        print(decisions)\n",
    "\n",
    "    # Initialize a batch of target tensors\n",
    "    batch_size = input_data.size(0)\n",
    "    target_tensor = torch.zeros(batch_size, 12).to(device)  # Initialize the target tensor for the entire batch\n",
    "\n",
    "    for i in range(batch_size):\n",
    "        # Route the input to the correct specialized model based on the decision for each element\n",
    "        if decisions[i] == 0:\n",
    "            output_tensor = model_1_4(input_data[i].unsqueeze(0))  # Process the ith element\n",
    "            # target_size = min(output_tensor.size(1), 12)  # Ensure it doesn't exceed target tensor size\n",
    "            target_tensor[i, :4] = output_tensor.squeeze(0)[:4]  # Overlay on the target tensor\n",
    "        \n",
    "        elif decisions[i] == 1:\n",
    "            output_tensor = model_5_8(input_data[i].unsqueeze(0))  # Process the ith element\n",
    "            # target_size = min(output_tensor.size(1), 7)  # Ensure it fits in the available space (12-5=7)\n",
    "            target_tensor[i, 4:4+4] = output_tensor.squeeze(0)[:4]  # Overlay on the target tensor\n",
    "            \n",
    "        elif decisions[i] == 2:\n",
    "            output_tensor = model_9_12(input_data[i].unsqueeze(0))  # Process the ith element\n",
    "            # target_size = min(output_tensor.size(1), 3)  # Ensure it fits in the available space (12-9=3)\n",
    "            target_tensor[i, 8:8+4] = output_tensor.squeeze(0)[:4]  # Overlay on the target tensor\n",
    "\n",
    "    return target_tensor\n",
    "\n"
   ]
  },
  {
   "cell_type": "code",
   "execution_count": 19,
   "metadata": {},
   "outputs": [],
   "source": [
    "\n",
    "root_dir = r'Data\\Final Testing Dataset\\Final Testing Dataset'\n",
    "dataset = datasets.ImageFolder(root=root_dir, transform=transform)\n",
    "val_size = int(0.2 * len(dataset))\n",
    "test_size = int(0.2 * len(dataset))\n",
    "train_size = len(dataset) - val_size - test_size\n",
    "\n",
    "# Split the dataset into training, validation, and test sets\n",
    "train_dataset, val_dataset, test_dataset = torch.utils.data.random_split(dataset, [train_size, val_size, test_size])\n",
    "train_dataloader = torch.utils.data.DataLoader(train_dataset, batch_size=32, shuffle=True, num_workers=4)\n",
    "val_dataloader = torch.utils.data.DataLoader(val_dataset, batch_size=32, shuffle=False, num_workers=4)\n",
    "test_dataloader = torch.utils.data.DataLoader(test_dataset, batch_size=32, shuffle=False, num_workers=4)"
   ]
  },
  {
   "cell_type": "code",
   "execution_count": 20,
   "metadata": {},
   "outputs": [
    {
     "name": "stdout",
     "output_type": "stream",
     "text": [
      "tensor([1, 0, 0, 1, 0, 0, 1, 2, 0, 1, 1, 0, 1, 0, 0, 2, 1, 2, 0, 2, 0, 2, 1, 2,\n",
      "        0, 2, 1, 0, 0, 0, 0, 2], device='cuda:0')\n",
      "tensor([2, 0, 1, 0, 2, 0, 2, 1, 1, 2, 0, 0, 2, 2, 1, 0, 2, 1, 2, 0, 2, 0, 2, 0,\n",
      "        1, 1, 1, 2, 1, 0, 1, 2], device='cuda:0')\n",
      "tensor([2, 1, 1, 2, 1, 2, 2, 2, 2, 1, 2, 2, 1, 2, 0, 0, 2, 2, 0, 0, 2, 2, 1, 1,\n",
      "        1, 0, 1, 2, 0, 2, 0, 0], device='cuda:0')\n",
      "tensor([1, 0, 2, 2, 0, 0, 0, 0, 1, 2, 0, 2, 0, 2, 1, 1, 2, 1, 1, 1, 0, 0, 1, 2,\n",
      "        1, 1, 0, 1, 2, 1, 2, 1], device='cuda:0')\n",
      "tensor([2, 1, 1, 1, 1, 0, 1, 1, 2, 0, 1, 2, 1, 2, 2, 0, 1, 2, 2, 1, 0, 1, 2, 2,\n",
      "        1, 1, 0, 2, 0, 1, 2, 2], device='cuda:0')\n",
      "tensor([2, 2, 2, 0, 0, 2, 0, 2, 1, 2, 1, 1, 1, 2, 1, 0, 0, 2, 1, 2, 1, 1, 2, 1,\n",
      "        2, 0, 2, 0, 2, 1, 1, 2], device='cuda:0')\n",
      "tensor([1, 2, 1, 2, 1, 2, 2, 0, 1, 0, 0, 2, 2, 0, 1, 0, 1, 2, 2, 0, 0, 0, 0, 1,\n",
      "        2, 0, 2, 2, 1, 2, 0, 1], device='cuda:0')\n",
      "tensor([1, 1, 0, 1, 2, 1, 0, 1, 0, 2, 2, 2, 0, 1, 2, 1, 1, 2, 2, 1, 1, 1, 1, 2,\n",
      "        0, 2, 2, 1, 2, 2, 1, 0], device='cuda:0')\n",
      "tensor([1, 2, 1, 1, 1, 0, 2, 1, 1, 2, 1, 1, 1, 0, 0, 0, 2, 1, 0, 0, 0, 0, 0, 0,\n",
      "        2, 2, 1, 0, 1, 0, 0, 0], device='cuda:0')\n",
      "tensor([0, 1, 0, 1, 1, 0, 2, 1, 2, 1, 2, 0, 0, 1, 1, 1, 0, 1, 2, 2, 0, 1, 1, 2,\n",
      "        2, 0, 1, 2, 0, 0, 1, 1], device='cuda:0')\n",
      "tensor([0, 0, 2, 1, 1, 0, 0, 2, 1, 0, 1, 0, 1, 0, 0, 2, 2, 1, 1, 0, 2, 1, 0, 1,\n",
      "        2, 1, 2, 0, 2, 2, 1, 0], device='cuda:0')\n",
      "tensor([2, 0, 1, 2, 0, 1, 2, 0, 2, 2, 1, 2, 1, 0, 0, 2, 1, 0, 2, 1, 0, 0, 2, 1,\n",
      "        1, 1, 0, 2, 2, 2, 2, 0], device='cuda:0')\n",
      "tensor([2, 2, 1, 2, 0, 2, 0, 0, 1, 1, 1, 1, 2, 1, 0, 0, 2, 1, 2, 0, 1, 2, 2, 1,\n",
      "        2, 2, 1, 2, 1, 1, 1, 0], device='cuda:0')\n",
      "tensor([1, 2, 0, 2, 0, 2, 1, 1, 2, 0, 1, 2, 1, 1, 2, 1, 1, 0, 0, 2, 0, 0, 1, 1,\n",
      "        2, 1, 2, 2, 0, 2, 0, 1], device='cuda:0')\n",
      "tensor([0, 2, 1, 0, 0, 1, 1, 0, 0, 0, 0, 2, 0, 0, 2, 0, 2, 2, 0, 2, 2, 1, 1, 1,\n",
      "        2, 2, 2, 2, 0, 2, 2, 2], device='cuda:0')\n",
      "tensor([1, 1, 0, 0, 1, 0, 0, 1, 1, 2, 2, 1, 0, 0, 0, 0, 1, 0, 1, 0, 1, 0, 2, 1,\n",
      "        2, 0, 0, 2, 1, 0, 0, 0], device='cuda:0')\n",
      "tensor([2, 2, 1, 2, 0, 2, 2, 1, 2, 1, 2, 2, 2, 0, 1, 2, 2, 1, 2, 0, 2, 0, 2, 1,\n",
      "        0, 1, 0, 0, 2, 1, 1, 0], device='cuda:0')\n",
      "tensor([2, 2, 1, 1, 2, 1, 2, 2, 2, 0, 2, 2, 0, 0, 0, 2, 2, 2, 2, 2, 2, 0, 2, 0,\n",
      "        2, 0, 0, 2, 2, 1, 1, 0], device='cuda:0')\n",
      "tensor([0, 2, 1, 1, 0, 0, 1, 1, 1, 0, 2, 2, 2, 0, 0, 0, 1, 2, 0, 2, 0, 0, 2, 0,\n",
      "        0, 1, 2, 2, 2, 2, 2, 1], device='cuda:0')\n",
      "tensor([2, 2, 1, 0, 2, 0, 2, 1, 1, 0, 2, 0, 1, 1, 0, 1, 0, 2, 1, 0, 0, 0, 1, 2,\n",
      "        1, 2, 2, 1, 1, 0, 1, 0], device='cuda:0')\n",
      "tensor([2, 1, 0, 2, 2, 2, 2, 1, 1, 0, 1, 1, 0, 2, 0, 2, 2, 1, 1, 2, 2, 2, 0, 0,\n",
      "        1, 2, 2, 1, 0, 2, 1, 0], device='cuda:0')\n",
      "tensor([0, 0, 2, 0, 0, 1, 2, 1, 2, 0, 2, 0, 0, 1, 2, 1, 1, 2, 0, 1, 1, 2, 0, 2,\n",
      "        0, 0, 0, 2, 1, 2, 1, 2], device='cuda:0')\n",
      "tensor([2, 0, 0, 0, 2, 0, 2, 0, 0, 0, 0, 1, 1, 0, 2, 1, 1, 1, 2, 1, 0, 2, 0, 0,\n",
      "        1, 2, 2, 1, 0, 0, 2, 1], device='cuda:0')\n",
      "tensor([0, 0, 0, 1, 1, 2, 2, 2, 0, 0, 0, 1, 0, 2, 2, 1, 1, 1, 1, 1, 1, 0, 0, 2,\n",
      "        1, 2, 1, 0, 2, 2, 1, 2], device='cuda:0')\n",
      "tensor([1, 2, 2, 0, 0, 2, 1, 2, 1, 0, 1, 1, 2, 2, 1, 0, 0, 1, 2, 2, 2, 0, 0, 1,\n",
      "        0, 1, 1, 0, 2, 0, 0, 1], device='cuda:0')\n",
      "tensor([1, 2, 0, 0, 0, 2, 1, 0, 2, 1, 1, 0, 0, 1, 0, 1, 0, 0, 0, 2, 0, 2, 1, 1,\n",
      "        1, 1, 2, 0, 1, 1, 0, 0], device='cuda:0')\n",
      "tensor([0, 0, 2, 0, 0, 0, 0, 0, 0, 0, 2, 1, 1, 2, 1, 0, 0, 0, 1, 2, 0, 1, 0, 2,\n",
      "        2, 1, 1, 2, 1, 0, 0, 0], device='cuda:0')\n",
      "tensor([0, 0, 0, 0, 1, 1, 2, 1, 2, 0, 2, 2, 2, 1, 1, 0, 0, 1, 0, 0, 1, 2, 0, 0,\n",
      "        0, 2, 2, 2, 2, 2, 0, 0], device='cuda:0')\n",
      "tensor([2, 2, 2, 2, 1, 1, 2, 2, 2, 1, 2, 1, 1, 0, 2, 1, 2, 2, 1, 1, 0, 1, 1, 2,\n",
      "        1, 0, 0, 0, 1, 2, 0, 1], device='cuda:0')\n",
      "tensor([0, 0, 1, 0, 1, 2, 2, 0, 2, 1, 2, 0, 0, 1, 2, 2, 0, 0, 0, 2, 1, 0, 1, 1,\n",
      "        1, 0, 1, 2, 0, 2, 0, 1], device='cuda:0')\n",
      "tensor([1, 2, 0, 1, 2, 0, 0, 0, 1, 1, 1, 1, 0, 0, 1, 0, 1, 2, 1, 1, 0, 0, 2, 0,\n",
      "        1, 0, 2, 1, 0, 2, 1, 1], device='cuda:0')\n",
      "tensor([0, 2, 1, 1, 1, 2, 1, 1, 1, 1, 0, 0, 2, 0, 2, 1, 2, 2, 2, 0, 0, 1, 2, 2,\n",
      "        2, 1, 0, 1, 0, 2, 1, 1], device='cuda:0')\n",
      "tensor([0, 1, 2, 0, 1, 1, 2, 1, 0, 0, 2, 2, 2, 0, 2, 2, 0, 2, 2, 1, 0, 0, 1, 1,\n",
      "        1, 1, 0, 0, 1, 2, 2, 1], device='cuda:0')\n",
      "tensor([2, 1, 1, 0, 2, 1, 0, 1, 0, 2, 2, 2, 2, 0, 2, 0, 1, 0, 1, 1, 1, 2, 0, 2,\n",
      "        0, 1, 1, 0, 0, 0, 0, 1], device='cuda:0')\n",
      "tensor([0, 1, 1, 1, 0, 0, 0, 2, 1, 0, 0, 0, 0, 1, 1, 0, 2, 1, 2, 1, 0, 2, 2, 0,\n",
      "        1, 2, 0, 1, 0, 0, 0, 1], device='cuda:0')\n",
      "tensor([1, 2, 2, 2, 1, 2, 2, 0, 0, 0, 0, 2, 2, 1, 2, 1, 2, 0, 1, 0, 2, 0, 0, 2,\n",
      "        0, 0, 1, 1, 0, 1, 1, 1], device='cuda:0')\n",
      "tensor([2, 1, 0, 2, 1, 1, 1, 2, 2, 1, 1, 1, 0, 1, 2, 0, 0, 2, 0, 0, 1, 0, 1, 2,\n",
      "        0, 1, 0, 1, 2, 2, 1, 1], device='cuda:0')\n",
      "tensor([1, 0, 0, 0, 1, 0, 1, 1, 0, 1, 1, 1, 0, 0, 1, 1], device='cuda:0')\n",
      "Accuracy:  0.125 \tLoss:  0.31986019015312195\n"
     ]
    }
   ],
   "source": [
    "correct = 0\n",
    "total = 0\n",
    "total_loss=0\n",
    "with torch.no_grad():\n",
    "    for (images, labels) in test_dataloader:\n",
    "        images, labels = images.to(device), labels.to(device)\n",
    "        outputs = forward(images)\n",
    "        val_loss = nn.CrossEntropyLoss()(outputs, labels)\n",
    "        total_loss += loss.item()\n",
    "        _, predicted = torch.max(outputs.data, 1)\n",
    "        total += labels.size(0)\n",
    "        correct += (predicted == labels).sum().item()\n",
    "    print(\"Accuracy: \", correct/total, \"\\tLoss: \", total_loss/len(test_dataloader))"
   ]
  },
  {
   "cell_type": "code",
   "execution_count": 21,
   "metadata": {},
   "outputs": [
    {
     "data": {
      "text/plain": [
       "tensor([6, 0, 3, 0, 4, 3, 7, 5, 0, 7, 5, 5, 0, 2, 7, 4], device='cuda:0')"
      ]
     },
     "execution_count": 21,
     "metadata": {},
     "output_type": "execute_result"
    }
   ],
   "source": [
    "predicted"
   ]
  },
  {
   "cell_type": "code",
   "execution_count": 22,
   "metadata": {},
   "outputs": [
    {
     "data": {
      "text/plain": [
       "tensor([ 8,  0,  5,  0,  7,  6, 11,  8,  0, 11,  8,  2,  0,  7, 10,  7],\n",
       "       device='cuda:0')"
      ]
     },
     "execution_count": 22,
     "metadata": {},
     "output_type": "execute_result"
    },
    {
     "ename": "",
     "evalue": "",
     "output_type": "error",
     "traceback": [
      "\u001b[1;31mThe Kernel crashed while executing code in the current cell or a previous cell. \n",
      "\u001b[1;31mPlease review the code in the cell(s) to identify a possible cause of the failure. \n",
      "\u001b[1;31mClick <a href='https://aka.ms/vscodeJupyterKernelCrash'>here</a> for more info. \n",
      "\u001b[1;31mView Jupyter <a href='command:jupyter.viewOutput'>log</a> for further details."
     ]
    }
   ],
   "source": [
    "labels"
   ]
  }
 ],
 "metadata": {
  "kernelspec": {
   "display_name": "Python 3",
   "language": "python",
   "name": "python3"
  },
  "language_info": {
   "codemirror_mode": {
    "name": "ipython",
    "version": 3
   },
   "file_extension": ".py",
   "mimetype": "text/x-python",
   "name": "python",
   "nbconvert_exporter": "python",
   "pygments_lexer": "ipython3",
   "version": "3.11.9"
  }
 },
 "nbformat": 4,
 "nbformat_minor": 2
}
